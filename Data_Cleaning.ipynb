{
 "cells": [
  {
   "cell_type": "code",
   "execution_count": null,
   "id": "sNIIva4l1dVJ",
   "metadata": {
    "colab": {
     "base_uri": "https://localhost:8080/"
    },
    "executionInfo": {
     "elapsed": 4478,
     "status": "ok",
     "timestamp": 1653628910436,
     "user": {
      "displayName": "Jarvinia Zhao",
      "userId": "15454861229162006996"
     },
     "user_tz": 240
    },
    "id": "sNIIva4l1dVJ",
    "outputId": "f6149b03-2ba9-4bf7-8b26-248eae3636cd"
   },
   "outputs": [
    {
     "name": "stdout",
     "output_type": "stream",
     "text": [
      "Looking in indexes: https://pypi.org/simple, https://us-python.pkg.dev/colab-wheels/public/simple/\n",
      "Requirement already satisfied: maxminddb-geolite2 in /usr/local/lib/python3.7/dist-packages (2018.703)\n",
      "Requirement already satisfied: maxminddb in /usr/local/lib/python3.7/dist-packages (from maxminddb-geolite2) (2.2.0)\n"
     ]
    }
   ],
   "source": [
    "pip install maxminddb-geolite2\n"
   ]
  },
  {
   "cell_type": "code",
   "execution_count": 1,
   "id": "5634a6a7",
   "metadata": {
    "id": "5634a6a7"
   },
   "outputs": [],
   "source": [
    "import pandas as pd\n",
    "import numpy as np\n",
    "from geolite2 import geolite2\n",
    "import geoip2.database\n",
    "from geoip2.errors import AddressNotFoundError"
   ]
  },
  {
   "cell_type": "code",
   "execution_count": 2,
   "id": "73cb5d28",
   "metadata": {
    "colab": {
     "base_uri": "https://localhost:8080/",
     "height": 287
    },
    "executionInfo": {
     "elapsed": 28426,
     "status": "ok",
     "timestamp": 1653628938846,
     "user": {
      "displayName": "Jarvinia Zhao",
      "userId": "15454861229162006996"
     },
     "user_tz": 240
    },
    "id": "73cb5d28",
    "outputId": "b1d52786-221d-4a3a-caa6-1098f82f2054"
   },
   "outputs": [
    {
     "name": "stdout",
     "output_type": "stream",
     "text": [
      "(7656334, 9)\n"
     ]
    },
    {
     "data": {
      "text/html": [
       "<div>\n",
       "<style scoped>\n",
       "    .dataframe tbody tr th:only-of-type {\n",
       "        vertical-align: middle;\n",
       "    }\n",
       "\n",
       "    .dataframe tbody tr th {\n",
       "        vertical-align: top;\n",
       "    }\n",
       "\n",
       "    .dataframe thead th {\n",
       "        text-align: right;\n",
       "    }\n",
       "</style>\n",
       "<table border=\"1\" class=\"dataframe\">\n",
       "  <thead>\n",
       "    <tr style=\"text-align: right;\">\n",
       "      <th></th>\n",
       "      <th>bid_id</th>\n",
       "      <th>bidder_id</th>\n",
       "      <th>auction</th>\n",
       "      <th>merchandise</th>\n",
       "      <th>device</th>\n",
       "      <th>time</th>\n",
       "      <th>country</th>\n",
       "      <th>ip</th>\n",
       "      <th>url</th>\n",
       "    </tr>\n",
       "  </thead>\n",
       "  <tbody>\n",
       "    <tr>\n",
       "      <th>0</th>\n",
       "      <td>0</td>\n",
       "      <td>8dac2b259fd1c6d1120e519fb1ac14fbqvax8</td>\n",
       "      <td>ewmzr</td>\n",
       "      <td>jewelry</td>\n",
       "      <td>phone0</td>\n",
       "      <td>9759243157894736</td>\n",
       "      <td>us</td>\n",
       "      <td>69.166.231.58</td>\n",
       "      <td>vasstdc27m7nks3</td>\n",
       "    </tr>\n",
       "    <tr>\n",
       "      <th>1</th>\n",
       "      <td>1</td>\n",
       "      <td>668d393e858e8126275433046bbd35c6tywop</td>\n",
       "      <td>aeqok</td>\n",
       "      <td>furniture</td>\n",
       "      <td>phone1</td>\n",
       "      <td>9759243157894736</td>\n",
       "      <td>in</td>\n",
       "      <td>50.201.125.84</td>\n",
       "      <td>jmqlhflrzwuay9c</td>\n",
       "    </tr>\n",
       "    <tr>\n",
       "      <th>2</th>\n",
       "      <td>2</td>\n",
       "      <td>aa5f360084278b35d746fa6af3a7a1a5ra3xe</td>\n",
       "      <td>wa00e</td>\n",
       "      <td>home goods</td>\n",
       "      <td>phone2</td>\n",
       "      <td>9759243157894736</td>\n",
       "      <td>py</td>\n",
       "      <td>112.54.208.157</td>\n",
       "      <td>vasstdc27m7nks3</td>\n",
       "    </tr>\n",
       "    <tr>\n",
       "      <th>3</th>\n",
       "      <td>3</td>\n",
       "      <td>3939ac3ef7d472a59a9c5f893dd3e39fh9ofi</td>\n",
       "      <td>jefix</td>\n",
       "      <td>jewelry</td>\n",
       "      <td>phone4</td>\n",
       "      <td>9759243157894736</td>\n",
       "      <td>in</td>\n",
       "      <td>18.99.175.133</td>\n",
       "      <td>vasstdc27m7nks3</td>\n",
       "    </tr>\n",
       "    <tr>\n",
       "      <th>4</th>\n",
       "      <td>4</td>\n",
       "      <td>8393c48eaf4b8fa96886edc7cf27b372dsibi</td>\n",
       "      <td>jefix</td>\n",
       "      <td>jewelry</td>\n",
       "      <td>phone5</td>\n",
       "      <td>9759243157894736</td>\n",
       "      <td>in</td>\n",
       "      <td>145.138.5.37</td>\n",
       "      <td>vasstdc27m7nks3</td>\n",
       "    </tr>\n",
       "  </tbody>\n",
       "</table>\n",
       "</div>"
      ],
      "text/plain": [
       "   bid_id                              bidder_id auction merchandise  device  \\\n",
       "0       0  8dac2b259fd1c6d1120e519fb1ac14fbqvax8   ewmzr     jewelry  phone0   \n",
       "1       1  668d393e858e8126275433046bbd35c6tywop   aeqok   furniture  phone1   \n",
       "2       2  aa5f360084278b35d746fa6af3a7a1a5ra3xe   wa00e  home goods  phone2   \n",
       "3       3  3939ac3ef7d472a59a9c5f893dd3e39fh9ofi   jefix     jewelry  phone4   \n",
       "4       4  8393c48eaf4b8fa96886edc7cf27b372dsibi   jefix     jewelry  phone5   \n",
       "\n",
       "               time country              ip              url  \n",
       "0  9759243157894736      us   69.166.231.58  vasstdc27m7nks3  \n",
       "1  9759243157894736      in   50.201.125.84  jmqlhflrzwuay9c  \n",
       "2  9759243157894736      py  112.54.208.157  vasstdc27m7nks3  \n",
       "3  9759243157894736      in   18.99.175.133  vasstdc27m7nks3  \n",
       "4  9759243157894736      in    145.138.5.37  vasstdc27m7nks3  "
      ]
     },
     "execution_count": 2,
     "metadata": {},
     "output_type": "execute_result"
    }
   ],
   "source": [
    "# Load the dataset\n",
    "data_df = pd.read_csv(\"./Resources/bids.csv\") # Jupyter Notebook\n",
    "# data_df = pd.read_csv(\"bids.csv\") # Google colab\n",
    "print(data_df.shape)\n",
    "data_df.head()"
   ]
  },
  {
   "cell_type": "markdown",
   "id": "1ce71b85",
   "metadata": {
    "id": "1ce71b85"
   },
   "source": [
    "### Cleaning missing country"
   ]
  },
  {
   "cell_type": "code",
   "execution_count": 3,
   "id": "aa4613e3",
   "metadata": {
    "colab": {
     "base_uri": "https://localhost:8080/",
     "height": 305
    },
    "executionInfo": {
     "elapsed": 3285,
     "status": "ok",
     "timestamp": 1653628942113,
     "user": {
      "displayName": "Jarvinia Zhao",
      "userId": "15454861229162006996"
     },
     "user_tz": 240
    },
    "id": "aa4613e3",
    "outputId": "0f89d091-96b2-457c-db87-232422eb8ad8"
   },
   "outputs": [
    {
     "name": "stdout",
     "output_type": "stream",
     "text": [
      "(8859, 9)\n"
     ]
    },
    {
     "data": {
      "text/html": [
       "<div>\n",
       "<style scoped>\n",
       "    .dataframe tbody tr th:only-of-type {\n",
       "        vertical-align: middle;\n",
       "    }\n",
       "\n",
       "    .dataframe tbody tr th {\n",
       "        vertical-align: top;\n",
       "    }\n",
       "\n",
       "    .dataframe thead th {\n",
       "        text-align: right;\n",
       "    }\n",
       "</style>\n",
       "<table border=\"1\" class=\"dataframe\">\n",
       "  <thead>\n",
       "    <tr style=\"text-align: right;\">\n",
       "      <th></th>\n",
       "      <th>bid_id</th>\n",
       "      <th>bidder_id</th>\n",
       "      <th>auction</th>\n",
       "      <th>merchandise</th>\n",
       "      <th>device</th>\n",
       "      <th>time</th>\n",
       "      <th>country</th>\n",
       "      <th>ip</th>\n",
       "      <th>url</th>\n",
       "    </tr>\n",
       "  </thead>\n",
       "  <tbody>\n",
       "    <tr>\n",
       "      <th>1647</th>\n",
       "      <td>1647</td>\n",
       "      <td>dbd340def489066ae13ffa5cd68e6d2917li7</td>\n",
       "      <td>38v0a</td>\n",
       "      <td>jewelry</td>\n",
       "      <td>phone408</td>\n",
       "      <td>9759252578947368</td>\n",
       "      <td>NaN</td>\n",
       "      <td>115.235.196.83</td>\n",
       "      <td>50rtdzaq69sxgi8</td>\n",
       "    </tr>\n",
       "    <tr>\n",
       "      <th>1845</th>\n",
       "      <td>1845</td>\n",
       "      <td>dbd340def489066ae13ffa5cd68e6d2917li7</td>\n",
       "      <td>7msk4</td>\n",
       "      <td>jewelry</td>\n",
       "      <td>phone45</td>\n",
       "      <td>9759253684210526</td>\n",
       "      <td>NaN</td>\n",
       "      <td>161.65.211.149</td>\n",
       "      <td>3w7pkfdhqvduki1</td>\n",
       "    </tr>\n",
       "    <tr>\n",
       "      <th>1968</th>\n",
       "      <td>1968</td>\n",
       "      <td>ceb6c86354e97d4d849ef5b1364bb0964nxe3</td>\n",
       "      <td>jefix</td>\n",
       "      <td>sporting goods</td>\n",
       "      <td>phone150</td>\n",
       "      <td>9759254210526315</td>\n",
       "      <td>NaN</td>\n",
       "      <td>117.34.233.29</td>\n",
       "      <td>1a1l994pff8hwc4</td>\n",
       "    </tr>\n",
       "    <tr>\n",
       "      <th>1982</th>\n",
       "      <td>1982</td>\n",
       "      <td>dbd340def489066ae13ffa5cd68e6d2917li7</td>\n",
       "      <td>uo3lj</td>\n",
       "      <td>jewelry</td>\n",
       "      <td>phone408</td>\n",
       "      <td>9759254315789473</td>\n",
       "      <td>NaN</td>\n",
       "      <td>115.235.196.83</td>\n",
       "      <td>g0k9f3jstsx5pud</td>\n",
       "    </tr>\n",
       "    <tr>\n",
       "      <th>2911</th>\n",
       "      <td>2911</td>\n",
       "      <td>cdf76f38b6f46a3bd396a99123d26909xq5c3</td>\n",
       "      <td>jefix</td>\n",
       "      <td>mobile</td>\n",
       "      <td>phone150</td>\n",
       "      <td>9759259526315789</td>\n",
       "      <td>NaN</td>\n",
       "      <td>44.203.207.204</td>\n",
       "      <td>cdr9pz0wkzokbp8</td>\n",
       "    </tr>\n",
       "  </tbody>\n",
       "</table>\n",
       "</div>"
      ],
      "text/plain": [
       "      bid_id                              bidder_id auction     merchandise  \\\n",
       "1647    1647  dbd340def489066ae13ffa5cd68e6d2917li7   38v0a         jewelry   \n",
       "1845    1845  dbd340def489066ae13ffa5cd68e6d2917li7   7msk4         jewelry   \n",
       "1968    1968  ceb6c86354e97d4d849ef5b1364bb0964nxe3   jefix  sporting goods   \n",
       "1982    1982  dbd340def489066ae13ffa5cd68e6d2917li7   uo3lj         jewelry   \n",
       "2911    2911  cdf76f38b6f46a3bd396a99123d26909xq5c3   jefix          mobile   \n",
       "\n",
       "        device              time country              ip              url  \n",
       "1647  phone408  9759252578947368     NaN  115.235.196.83  50rtdzaq69sxgi8  \n",
       "1845   phone45  9759253684210526     NaN  161.65.211.149  3w7pkfdhqvduki1  \n",
       "1968  phone150  9759254210526315     NaN   117.34.233.29  1a1l994pff8hwc4  \n",
       "1982  phone408  9759254315789473     NaN  115.235.196.83  g0k9f3jstsx5pud  \n",
       "2911  phone150  9759259526315789     NaN  44.203.207.204  cdr9pz0wkzokbp8  "
      ]
     },
     "execution_count": 3,
     "metadata": {},
     "output_type": "execute_result"
    }
   ],
   "source": [
    "# Extract data that have no country info\n",
    "missing_country = data_df[data_df.isnull().any(axis=1)]\n",
    "print(missing_country.shape)\n",
    "missing_country.head()"
   ]
  },
  {
   "cell_type": "markdown",
   "id": "ItICiCsODfzc",
   "metadata": {
    "id": "ItICiCsODfzc"
   },
   "source": [
    "Try to obtain country from the ip"
   ]
  },
  {
   "cell_type": "code",
   "execution_count": 18,
   "id": "d99a342a",
   "metadata": {
    "colab": {
     "base_uri": "https://localhost:8080/",
     "height": 223
    },
    "executionInfo": {
     "elapsed": 13,
     "status": "ok",
     "timestamp": 1653628942114,
     "user": {
      "displayName": "Jarvinia Zhao",
      "userId": "15454861229162006996"
     },
     "user_tz": 240
    },
    "id": "d99a342a",
    "outputId": "e757424a-2c8a-4b44-cf0b-bb58e064aa40"
   },
   "outputs": [
    {
     "name": "stdout",
     "output_type": "stream",
     "text": [
      "(8859, 2)\n"
     ]
    },
    {
     "data": {
      "text/html": [
       "<div>\n",
       "<style scoped>\n",
       "    .dataframe tbody tr th:only-of-type {\n",
       "        vertical-align: middle;\n",
       "    }\n",
       "\n",
       "    .dataframe tbody tr th {\n",
       "        vertical-align: top;\n",
       "    }\n",
       "\n",
       "    .dataframe thead th {\n",
       "        text-align: right;\n",
       "    }\n",
       "</style>\n",
       "<table border=\"1\" class=\"dataframe\">\n",
       "  <thead>\n",
       "    <tr style=\"text-align: right;\">\n",
       "      <th></th>\n",
       "      <th>bid_id</th>\n",
       "      <th>ip</th>\n",
       "    </tr>\n",
       "  </thead>\n",
       "  <tbody>\n",
       "    <tr>\n",
       "      <th>1647</th>\n",
       "      <td>1647</td>\n",
       "      <td>115.235.196.83</td>\n",
       "    </tr>\n",
       "    <tr>\n",
       "      <th>1845</th>\n",
       "      <td>1845</td>\n",
       "      <td>161.65.211.149</td>\n",
       "    </tr>\n",
       "    <tr>\n",
       "      <th>1968</th>\n",
       "      <td>1968</td>\n",
       "      <td>117.34.233.29</td>\n",
       "    </tr>\n",
       "    <tr>\n",
       "      <th>1982</th>\n",
       "      <td>1982</td>\n",
       "      <td>115.235.196.83</td>\n",
       "    </tr>\n",
       "    <tr>\n",
       "      <th>2911</th>\n",
       "      <td>2911</td>\n",
       "      <td>44.203.207.204</td>\n",
       "    </tr>\n",
       "  </tbody>\n",
       "</table>\n",
       "</div>"
      ],
      "text/plain": [
       "      bid_id              ip\n",
       "1647    1647  115.235.196.83\n",
       "1845    1845  161.65.211.149\n",
       "1968    1968   117.34.233.29\n",
       "1982    1982  115.235.196.83\n",
       "2911    2911  44.203.207.204"
      ]
     },
     "execution_count": 18,
     "metadata": {},
     "output_type": "execute_result"
    }
   ],
   "source": [
    "ip_df = missing_country[[\"bid_id\", \"ip\"]]\n",
    "print(ip_df.shape)\n",
    "ip_df.head()"
   ]
  },
  {
   "cell_type": "code",
   "execution_count": 19,
   "id": "5Rljqgni4zMK",
   "metadata": {
    "colab": {
     "base_uri": "https://localhost:8080/"
    },
    "executionInfo": {
     "elapsed": 11,
     "status": "ok",
     "timestamp": 1653628942115,
     "user": {
      "displayName": "Jarvinia Zhao",
      "userId": "15454861229162006996"
     },
     "user_tz": 240
    },
    "id": "5Rljqgni4zMK",
    "outputId": "a62a8d12-9711-453d-b165-85a0d37772cb"
   },
   "outputs": [
    {
     "data": {
      "text/plain": [
       "bid_id    0\n",
       "ip        0\n",
       "dtype: int64"
      ]
     },
     "execution_count": 19,
     "metadata": {},
     "output_type": "execute_result"
    }
   ],
   "source": [
    "# Check the missing value of ip\n",
    "ip_df.isnull().sum()"
   ]
  },
  {
   "cell_type": "markdown",
   "id": "1G0f1sBoHECn",
   "metadata": {
    "id": "1G0f1sBoHECn"
   },
   "source": [
    "Use the [MaxMind GeoIP2 Python API](https://geoip2.readthedocs.io/en/latest/) for IP information queries. Also need to download [GeoLite2-City.mmdb](https://github.com/P3TERX/GeoLite.mmdb) as data source before use.  "
   ]
  },
  {
   "cell_type": "code",
   "execution_count": 20,
   "id": "6NnPX5jQ7tGD",
   "metadata": {
    "id": "6NnPX5jQ7tGD"
   },
   "outputs": [],
   "source": [
    "country = []\n",
    "with geoip2.database.Reader('./Resources/GeoLite2-City.mmdb') as reader:\n",
    "  for ip in ip_df[\"ip\"]:\n",
    "    try:\n",
    "      response = reader.city(ip)\n",
    "      country.append(response.country.iso_code)\n",
    "    except (AddressNotFoundError, ValueError):\n",
    "      response=None\n",
    "      country.append(\"missing\")"
   ]
  },
  {
   "cell_type": "code",
   "execution_count": 21,
   "id": "AjZ8x2wk77aN",
   "metadata": {
    "colab": {
     "base_uri": "https://localhost:8080/",
     "height": 451
    },
    "executionInfo": {
     "elapsed": 47,
     "status": "ok",
     "timestamp": 1653628946583,
     "user": {
      "displayName": "Jarvinia Zhao",
      "userId": "15454861229162006996"
     },
     "user_tz": 240
    },
    "id": "AjZ8x2wk77aN",
    "outputId": "84c4f07a-1b05-4984-c212-ac1b9c428cbd"
   },
   "outputs": [
    {
     "name": "stdout",
     "output_type": "stream",
     "text": [
      "(8859, 3)\n"
     ]
    },
    {
     "name": "stderr",
     "output_type": "stream",
     "text": [
      "C:\\Users\\Jarvinia\\AppData\\Local\\Temp\\ipykernel_6352\\1067937635.py:2: SettingWithCopyWarning: \n",
      "A value is trying to be set on a copy of a slice from a DataFrame.\n",
      "Try using .loc[row_indexer,col_indexer] = value instead\n",
      "\n",
      "See the caveats in the documentation: https://pandas.pydata.org/pandas-docs/stable/user_guide/indexing.html#returning-a-view-versus-a-copy\n",
      "  ip_df[\"country\"] = country\n",
      "C:\\Users\\Jarvinia\\AppData\\Local\\Temp\\ipykernel_6352\\1067937635.py:4: SettingWithCopyWarning: \n",
      "A value is trying to be set on a copy of a slice from a DataFrame.\n",
      "Try using .loc[row_indexer,col_indexer] = value instead\n",
      "\n",
      "See the caveats in the documentation: https://pandas.pydata.org/pandas-docs/stable/user_guide/indexing.html#returning-a-view-versus-a-copy\n",
      "  ip_df[\"country\"] = ip_df[\"country\"].str.lower()\n"
     ]
    },
    {
     "data": {
      "text/html": [
       "<div>\n",
       "<style scoped>\n",
       "    .dataframe tbody tr th:only-of-type {\n",
       "        vertical-align: middle;\n",
       "    }\n",
       "\n",
       "    .dataframe tbody tr th {\n",
       "        vertical-align: top;\n",
       "    }\n",
       "\n",
       "    .dataframe thead th {\n",
       "        text-align: right;\n",
       "    }\n",
       "</style>\n",
       "<table border=\"1\" class=\"dataframe\">\n",
       "  <thead>\n",
       "    <tr style=\"text-align: right;\">\n",
       "      <th></th>\n",
       "      <th>bid_id</th>\n",
       "      <th>ip</th>\n",
       "      <th>country</th>\n",
       "    </tr>\n",
       "  </thead>\n",
       "  <tbody>\n",
       "    <tr>\n",
       "      <th>1647</th>\n",
       "      <td>1647</td>\n",
       "      <td>115.235.196.83</td>\n",
       "      <td>cn</td>\n",
       "    </tr>\n",
       "    <tr>\n",
       "      <th>1845</th>\n",
       "      <td>1845</td>\n",
       "      <td>161.65.211.149</td>\n",
       "      <td>nz</td>\n",
       "    </tr>\n",
       "    <tr>\n",
       "      <th>1968</th>\n",
       "      <td>1968</td>\n",
       "      <td>117.34.233.29</td>\n",
       "      <td>cn</td>\n",
       "    </tr>\n",
       "    <tr>\n",
       "      <th>1982</th>\n",
       "      <td>1982</td>\n",
       "      <td>115.235.196.83</td>\n",
       "      <td>cn</td>\n",
       "    </tr>\n",
       "    <tr>\n",
       "      <th>2911</th>\n",
       "      <td>2911</td>\n",
       "      <td>44.203.207.204</td>\n",
       "      <td>us</td>\n",
       "    </tr>\n",
       "  </tbody>\n",
       "</table>\n",
       "</div>"
      ],
      "text/plain": [
       "      bid_id              ip country\n",
       "1647    1647  115.235.196.83      cn\n",
       "1845    1845  161.65.211.149      nz\n",
       "1968    1968   117.34.233.29      cn\n",
       "1982    1982  115.235.196.83      cn\n",
       "2911    2911  44.203.207.204      us"
      ]
     },
     "execution_count": 21,
     "metadata": {},
     "output_type": "execute_result"
    }
   ],
   "source": [
    "# Add country info to ip_df\n",
    "ip_df[\"country\"] = country\n",
    "# Since the ISO 3166-1 alpha-2 codes are all capital, need to convert to lowercase to fit the original dataset\n",
    "ip_df[\"country\"] = ip_df[\"country\"].str.lower()\n",
    "print(ip_df.shape)\n",
    "ip_df.head()"
   ]
  },
  {
   "cell_type": "code",
   "execution_count": 22,
   "id": "sdna7GnfSLzr",
   "metadata": {
    "colab": {
     "base_uri": "https://localhost:8080/"
    },
    "executionInfo": {
     "elapsed": 37,
     "status": "ok",
     "timestamp": 1653628946584,
     "user": {
      "displayName": "Jarvinia Zhao",
      "userId": "15454861229162006996"
     },
     "user_tz": 240
    },
    "id": "sdna7GnfSLzr",
    "outputId": "6b3e28b3-9f8f-4651-dfc4-dfaa266c71ad"
   },
   "outputs": [
    {
     "data": {
      "text/plain": [
       "bid_id     0\n",
       "ip         0\n",
       "country    5\n",
       "dtype: int64"
      ]
     },
     "execution_count": 22,
     "metadata": {},
     "output_type": "execute_result"
    }
   ],
   "source": [
    "ip_df.isnull().sum()"
   ]
  },
  {
   "cell_type": "code",
   "execution_count": 23,
   "id": "t8dO1PChTHt-",
   "metadata": {
    "colab": {
     "base_uri": "https://localhost:8080/"
    },
    "executionInfo": {
     "elapsed": 33,
     "status": "ok",
     "timestamp": 1653628946585,
     "user": {
      "displayName": "Jarvinia Zhao",
      "userId": "15454861229162006996"
     },
     "user_tz": 240
    },
    "id": "t8dO1PChTHt-",
    "outputId": "1618eed0-3eb9-425c-f746-1cb36799a25a"
   },
   "outputs": [
    {
     "name": "stderr",
     "output_type": "stream",
     "text": [
      "C:\\Users\\Jarvinia\\AppData\\Local\\Temp\\ipykernel_6352\\1092775931.py:1: SettingWithCopyWarning: \n",
      "A value is trying to be set on a copy of a slice from a DataFrame\n",
      "\n",
      "See the caveats in the documentation: https://pandas.pydata.org/pandas-docs/stable/user_guide/indexing.html#returning-a-view-versus-a-copy\n",
      "  ip_df.fillna(\"missing\", inplace=True)\n"
     ]
    }
   ],
   "source": [
    "ip_df.fillna(\"missing\", inplace=True)"
   ]
  },
  {
   "cell_type": "code",
   "execution_count": 24,
   "id": "FYL0SnliT0Rk",
   "metadata": {
    "colab": {
     "base_uri": "https://localhost:8080/"
    },
    "executionInfo": {
     "elapsed": 285,
     "status": "ok",
     "timestamp": 1653628946844,
     "user": {
      "displayName": "Jarvinia Zhao",
      "userId": "15454861229162006996"
     },
     "user_tz": 240
    },
    "id": "FYL0SnliT0Rk",
    "outputId": "5eaa8b21-f302-4064-cbe1-baeff1f7f32e"
   },
   "outputs": [
    {
     "data": {
      "text/plain": [
       "bid_id     0\n",
       "ip         0\n",
       "country    0\n",
       "dtype: int64"
      ]
     },
     "execution_count": 24,
     "metadata": {},
     "output_type": "execute_result"
    }
   ],
   "source": [
    "ip_df.isnull().sum()"
   ]
  },
  {
   "cell_type": "code",
   "execution_count": 25,
   "id": "CroL24MMYQrx",
   "metadata": {
    "colab": {
     "base_uri": "https://localhost:8080/",
     "height": 287
    },
    "executionInfo": {
     "elapsed": 8011,
     "status": "ok",
     "timestamp": 1653628954850,
     "user": {
      "displayName": "Jarvinia Zhao",
      "userId": "15454861229162006996"
     },
     "user_tz": 240
    },
    "id": "CroL24MMYQrx",
    "outputId": "c1c5fa48-29c6-4235-9c49-9a7c98750a6e"
   },
   "outputs": [
    {
     "name": "stdout",
     "output_type": "stream",
     "text": [
      "(7656334, 9)\n"
     ]
    },
    {
     "data": {
      "text/html": [
       "<div>\n",
       "<style scoped>\n",
       "    .dataframe tbody tr th:only-of-type {\n",
       "        vertical-align: middle;\n",
       "    }\n",
       "\n",
       "    .dataframe tbody tr th {\n",
       "        vertical-align: top;\n",
       "    }\n",
       "\n",
       "    .dataframe thead th {\n",
       "        text-align: right;\n",
       "    }\n",
       "</style>\n",
       "<table border=\"1\" class=\"dataframe\">\n",
       "  <thead>\n",
       "    <tr style=\"text-align: right;\">\n",
       "      <th></th>\n",
       "      <th>bid_id</th>\n",
       "      <th>bidder_id</th>\n",
       "      <th>auction</th>\n",
       "      <th>merchandise</th>\n",
       "      <th>device</th>\n",
       "      <th>time</th>\n",
       "      <th>country</th>\n",
       "      <th>ip</th>\n",
       "      <th>url</th>\n",
       "    </tr>\n",
       "  </thead>\n",
       "  <tbody>\n",
       "    <tr>\n",
       "      <th>0</th>\n",
       "      <td>0.0</td>\n",
       "      <td>8dac2b259fd1c6d1120e519fb1ac14fbqvax8</td>\n",
       "      <td>ewmzr</td>\n",
       "      <td>jewelry</td>\n",
       "      <td>phone0</td>\n",
       "      <td>9759243157894736</td>\n",
       "      <td>us</td>\n",
       "      <td>69.166.231.58</td>\n",
       "      <td>vasstdc27m7nks3</td>\n",
       "    </tr>\n",
       "    <tr>\n",
       "      <th>1</th>\n",
       "      <td>1.0</td>\n",
       "      <td>668d393e858e8126275433046bbd35c6tywop</td>\n",
       "      <td>aeqok</td>\n",
       "      <td>furniture</td>\n",
       "      <td>phone1</td>\n",
       "      <td>9759243157894736</td>\n",
       "      <td>in</td>\n",
       "      <td>50.201.125.84</td>\n",
       "      <td>jmqlhflrzwuay9c</td>\n",
       "    </tr>\n",
       "    <tr>\n",
       "      <th>2</th>\n",
       "      <td>2.0</td>\n",
       "      <td>aa5f360084278b35d746fa6af3a7a1a5ra3xe</td>\n",
       "      <td>wa00e</td>\n",
       "      <td>home goods</td>\n",
       "      <td>phone2</td>\n",
       "      <td>9759243157894736</td>\n",
       "      <td>py</td>\n",
       "      <td>112.54.208.157</td>\n",
       "      <td>vasstdc27m7nks3</td>\n",
       "    </tr>\n",
       "    <tr>\n",
       "      <th>3</th>\n",
       "      <td>3.0</td>\n",
       "      <td>3939ac3ef7d472a59a9c5f893dd3e39fh9ofi</td>\n",
       "      <td>jefix</td>\n",
       "      <td>jewelry</td>\n",
       "      <td>phone4</td>\n",
       "      <td>9759243157894736</td>\n",
       "      <td>in</td>\n",
       "      <td>18.99.175.133</td>\n",
       "      <td>vasstdc27m7nks3</td>\n",
       "    </tr>\n",
       "    <tr>\n",
       "      <th>4</th>\n",
       "      <td>4.0</td>\n",
       "      <td>8393c48eaf4b8fa96886edc7cf27b372dsibi</td>\n",
       "      <td>jefix</td>\n",
       "      <td>jewelry</td>\n",
       "      <td>phone5</td>\n",
       "      <td>9759243157894736</td>\n",
       "      <td>in</td>\n",
       "      <td>145.138.5.37</td>\n",
       "      <td>vasstdc27m7nks3</td>\n",
       "    </tr>\n",
       "  </tbody>\n",
       "</table>\n",
       "</div>"
      ],
      "text/plain": [
       "   bid_id                              bidder_id auction merchandise  device  \\\n",
       "0     0.0  8dac2b259fd1c6d1120e519fb1ac14fbqvax8   ewmzr     jewelry  phone0   \n",
       "1     1.0  668d393e858e8126275433046bbd35c6tywop   aeqok   furniture  phone1   \n",
       "2     2.0  aa5f360084278b35d746fa6af3a7a1a5ra3xe   wa00e  home goods  phone2   \n",
       "3     3.0  3939ac3ef7d472a59a9c5f893dd3e39fh9ofi   jefix     jewelry  phone4   \n",
       "4     4.0  8393c48eaf4b8fa96886edc7cf27b372dsibi   jefix     jewelry  phone5   \n",
       "\n",
       "               time country              ip              url  \n",
       "0  9759243157894736      us   69.166.231.58  vasstdc27m7nks3  \n",
       "1  9759243157894736      in   50.201.125.84  jmqlhflrzwuay9c  \n",
       "2  9759243157894736      py  112.54.208.157  vasstdc27m7nks3  \n",
       "3  9759243157894736      in   18.99.175.133  vasstdc27m7nks3  \n",
       "4  9759243157894736      in    145.138.5.37  vasstdc27m7nks3  "
      ]
     },
     "execution_count": 25,
     "metadata": {},
     "output_type": "execute_result"
    }
   ],
   "source": [
    "# Replace the missing country value with ip_df\n",
    "bids_cleaned = data_df.copy()\n",
    "bids_cleaned.update(ip_df)\n",
    "print(bids_cleaned.shape)\n",
    "bids_cleaned.head()"
   ]
  },
  {
   "cell_type": "code",
   "execution_count": 26,
   "id": "MwoyKYXQTv4U",
   "metadata": {
    "colab": {
     "base_uri": "https://localhost:8080/"
    },
    "executionInfo": {
     "elapsed": 6558,
     "status": "ok",
     "timestamp": 1653628961375,
     "user": {
      "displayName": "Jarvinia Zhao",
      "userId": "15454861229162006996"
     },
     "user_tz": 240
    },
    "id": "MwoyKYXQTv4U",
    "outputId": "729809cd-83a1-4b9b-b2cb-d7194e52a595"
   },
   "outputs": [
    {
     "data": {
      "text/plain": [
       "bid_id         0\n",
       "bidder_id      0\n",
       "auction        0\n",
       "merchandise    0\n",
       "device         0\n",
       "time           0\n",
       "country        0\n",
       "ip             0\n",
       "url            0\n",
       "dtype: int64"
      ]
     },
     "execution_count": 26,
     "metadata": {},
     "output_type": "execute_result"
    }
   ],
   "source": [
    "# Check is there any other null values\n",
    "bids_cleaned.isnull().sum()"
   ]
  },
  {
   "cell_type": "markdown",
   "id": "pRHqD-8tpdRC",
   "metadata": {
    "id": "pRHqD-8tpdRC"
   },
   "source": [
    "### Clean any spaces"
   ]
  },
  {
   "cell_type": "code",
   "execution_count": 27,
   "id": "627642c5",
   "metadata": {
    "colab": {
     "base_uri": "https://localhost:8080/",
     "height": 270
    },
    "executionInfo": {
     "elapsed": 79622,
     "status": "ok",
     "timestamp": 1653629040983,
     "user": {
      "displayName": "Jarvinia Zhao",
      "userId": "15454861229162006996"
     },
     "user_tz": 240
    },
    "id": "627642c5",
    "outputId": "de4739d7-e20e-4215-bbfb-5385a35a9b36"
   },
   "outputs": [
    {
     "data": {
      "text/html": [
       "<div>\n",
       "<style scoped>\n",
       "    .dataframe tbody tr th:only-of-type {\n",
       "        vertical-align: middle;\n",
       "    }\n",
       "\n",
       "    .dataframe tbody tr th {\n",
       "        vertical-align: top;\n",
       "    }\n",
       "\n",
       "    .dataframe thead th {\n",
       "        text-align: right;\n",
       "    }\n",
       "</style>\n",
       "<table border=\"1\" class=\"dataframe\">\n",
       "  <thead>\n",
       "    <tr style=\"text-align: right;\">\n",
       "      <th></th>\n",
       "      <th>bid_id</th>\n",
       "      <th>bidder_id</th>\n",
       "      <th>auction</th>\n",
       "      <th>merchandise</th>\n",
       "      <th>device</th>\n",
       "      <th>time</th>\n",
       "      <th>country</th>\n",
       "      <th>ip</th>\n",
       "      <th>url</th>\n",
       "    </tr>\n",
       "  </thead>\n",
       "  <tbody>\n",
       "    <tr>\n",
       "      <th>0</th>\n",
       "      <td>0.0</td>\n",
       "      <td>8dac2b259fd1c6d1120e519fb1ac14fbqvax8</td>\n",
       "      <td>ewmzr</td>\n",
       "      <td>jewelry</td>\n",
       "      <td>phone0</td>\n",
       "      <td>9759243157894736</td>\n",
       "      <td>us</td>\n",
       "      <td>69.166.231.58</td>\n",
       "      <td>vasstdc27m7nks3</td>\n",
       "    </tr>\n",
       "    <tr>\n",
       "      <th>1</th>\n",
       "      <td>1.0</td>\n",
       "      <td>668d393e858e8126275433046bbd35c6tywop</td>\n",
       "      <td>aeqok</td>\n",
       "      <td>furniture</td>\n",
       "      <td>phone1</td>\n",
       "      <td>9759243157894736</td>\n",
       "      <td>in</td>\n",
       "      <td>50.201.125.84</td>\n",
       "      <td>jmqlhflrzwuay9c</td>\n",
       "    </tr>\n",
       "    <tr>\n",
       "      <th>2</th>\n",
       "      <td>2.0</td>\n",
       "      <td>aa5f360084278b35d746fa6af3a7a1a5ra3xe</td>\n",
       "      <td>wa00e</td>\n",
       "      <td>homegoods</td>\n",
       "      <td>phone2</td>\n",
       "      <td>9759243157894736</td>\n",
       "      <td>py</td>\n",
       "      <td>112.54.208.157</td>\n",
       "      <td>vasstdc27m7nks3</td>\n",
       "    </tr>\n",
       "    <tr>\n",
       "      <th>3</th>\n",
       "      <td>3.0</td>\n",
       "      <td>3939ac3ef7d472a59a9c5f893dd3e39fh9ofi</td>\n",
       "      <td>jefix</td>\n",
       "      <td>jewelry</td>\n",
       "      <td>phone4</td>\n",
       "      <td>9759243157894736</td>\n",
       "      <td>in</td>\n",
       "      <td>18.99.175.133</td>\n",
       "      <td>vasstdc27m7nks3</td>\n",
       "    </tr>\n",
       "    <tr>\n",
       "      <th>4</th>\n",
       "      <td>4.0</td>\n",
       "      <td>8393c48eaf4b8fa96886edc7cf27b372dsibi</td>\n",
       "      <td>jefix</td>\n",
       "      <td>jewelry</td>\n",
       "      <td>phone5</td>\n",
       "      <td>9759243157894736</td>\n",
       "      <td>in</td>\n",
       "      <td>145.138.5.37</td>\n",
       "      <td>vasstdc27m7nks3</td>\n",
       "    </tr>\n",
       "  </tbody>\n",
       "</table>\n",
       "</div>"
      ],
      "text/plain": [
       "   bid_id                              bidder_id auction merchandise  device  \\\n",
       "0     0.0  8dac2b259fd1c6d1120e519fb1ac14fbqvax8   ewmzr     jewelry  phone0   \n",
       "1     1.0  668d393e858e8126275433046bbd35c6tywop   aeqok   furniture  phone1   \n",
       "2     2.0  aa5f360084278b35d746fa6af3a7a1a5ra3xe   wa00e   homegoods  phone2   \n",
       "3     3.0  3939ac3ef7d472a59a9c5f893dd3e39fh9ofi   jefix     jewelry  phone4   \n",
       "4     4.0  8393c48eaf4b8fa96886edc7cf27b372dsibi   jefix     jewelry  phone5   \n",
       "\n",
       "               time country              ip              url  \n",
       "0  9759243157894736      us   69.166.231.58  vasstdc27m7nks3  \n",
       "1  9759243157894736      in   50.201.125.84  jmqlhflrzwuay9c  \n",
       "2  9759243157894736      py  112.54.208.157  vasstdc27m7nks3  \n",
       "3  9759243157894736      in   18.99.175.133  vasstdc27m7nks3  \n",
       "4  9759243157894736      in    145.138.5.37  vasstdc27m7nks3  "
      ]
     },
     "execution_count": 27,
     "metadata": {},
     "output_type": "execute_result"
    }
   ],
   "source": [
    "# Remove any spaces\n",
    "final_cleaned_df = bids_cleaned.replace({' ': ''}, regex = True) \n",
    "final_cleaned_df.head()"
   ]
  },
  {
   "cell_type": "code",
   "execution_count": 28,
   "id": "e88d5f4c",
   "metadata": {
    "id": "e88d5f4c"
   },
   "outputs": [],
   "source": [
    "# Save the cleaned data\n",
    "# final_cleaned_df.to_csv(\"cleaned_bids.csv\", index=False) # Google Colab\n",
    "final_cleaned_df.to_csv(\"./Resources/cleaned_bids.csv\", index=False) # Jupyter Notebook"
   ]
  },
  {
   "cell_type": "code",
   "execution_count": null,
   "id": "3u6ZQt--jn6X",
   "metadata": {
    "id": "3u6ZQt--jn6X"
   },
   "outputs": [],
   "source": []
  }
 ],
 "metadata": {
  "colab": {
   "name": "Data_Cleaning.ipynb",
   "provenance": []
  },
  "kernelspec": {
   "display_name": "mlenv",
   "language": "python",
   "name": "mlenv"
  },
  "language_info": {
   "codemirror_mode": {
    "name": "ipython",
    "version": 3
   },
   "file_extension": ".py",
   "mimetype": "text/x-python",
   "name": "python",
   "nbconvert_exporter": "python",
   "pygments_lexer": "ipython3",
   "version": "3.9.7"
  }
 },
 "nbformat": 4,
 "nbformat_minor": 5
}
