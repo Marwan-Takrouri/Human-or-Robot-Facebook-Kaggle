{
 "cells": [
  {
   "cell_type": "code",
   "execution_count": 24,
   "id": "555b28f1",
   "metadata": {},
   "outputs": [],
   "source": [
    "import pandas as pd\n",
    "import numpy as np\n",
    "from sklearn.model_selection import train_test_split\n",
    "from sklearn.preprocessing import StandardScaler\n",
    "\n",
    "from sklearn.metrics import balanced_accuracy_score, confusion_matrix\n",
    "from imblearn.metrics import classification_report_imbalanced"
   ]
  },
  {
   "cell_type": "markdown",
   "id": "5b1e078b",
   "metadata": {},
   "source": [
    "## Pre-Modeling"
   ]
  },
  {
   "cell_type": "markdown",
   "id": "d5f2dcb2",
   "metadata": {},
   "source": [
    "#### Assemble the data"
   ]
  },
  {
   "cell_type": "code",
   "execution_count": 17,
   "id": "b16780da",
   "metadata": {},
   "outputs": [
    {
     "data": {
      "text/html": [
       "<div>\n",
       "<style scoped>\n",
       "    .dataframe tbody tr th:only-of-type {\n",
       "        vertical-align: middle;\n",
       "    }\n",
       "\n",
       "    .dataframe tbody tr th {\n",
       "        vertical-align: top;\n",
       "    }\n",
       "\n",
       "    .dataframe thead th {\n",
       "        text-align: right;\n",
       "    }\n",
       "</style>\n",
       "<table border=\"1\" class=\"dataframe\">\n",
       "  <thead>\n",
       "    <tr style=\"text-align: right;\">\n",
       "      <th></th>\n",
       "      <th>bidder_id</th>\n",
       "      <th>payment_account</th>\n",
       "      <th>address</th>\n",
       "      <th>outcome</th>\n",
       "      <th>auction_nunique_num</th>\n",
       "      <th>merchandise_nunique_num</th>\n",
       "      <th>device_nunique_num</th>\n",
       "      <th>country_nunique_num</th>\n",
       "      <th>ip_nunique_num</th>\n",
       "      <th>url_nunique_num</th>\n",
       "      <th>...</th>\n",
       "      <th>country_vi</th>\n",
       "      <th>country_nc</th>\n",
       "      <th>country_tc</th>\n",
       "      <th>country_gb</th>\n",
       "      <th>country_mp</th>\n",
       "      <th>country_gp</th>\n",
       "      <th>country_an</th>\n",
       "      <th>country_gi</th>\n",
       "      <th>country_gn</th>\n",
       "      <th>country_mh</th>\n",
       "    </tr>\n",
       "  </thead>\n",
       "  <tbody>\n",
       "    <tr>\n",
       "      <th>0</th>\n",
       "      <td>91a3c57b13234af24875c56fb7e2b2f4rb56a</td>\n",
       "      <td>a3d2de7675556553a5f08e4c88d2c228754av</td>\n",
       "      <td>a3d2de7675556553a5f08e4c88d2c228vt0u4</td>\n",
       "      <td>0.0</td>\n",
       "      <td>18</td>\n",
       "      <td>1</td>\n",
       "      <td>14</td>\n",
       "      <td>6</td>\n",
       "      <td>20</td>\n",
       "      <td>1</td>\n",
       "      <td>...</td>\n",
       "      <td>0</td>\n",
       "      <td>0</td>\n",
       "      <td>0</td>\n",
       "      <td>0</td>\n",
       "      <td>0</td>\n",
       "      <td>0</td>\n",
       "      <td>0</td>\n",
       "      <td>0</td>\n",
       "      <td>0</td>\n",
       "      <td>0</td>\n",
       "    </tr>\n",
       "    <tr>\n",
       "      <th>1</th>\n",
       "      <td>624f258b49e77713fc34034560f93fb3hu3jo</td>\n",
       "      <td>a3d2de7675556553a5f08e4c88d2c228v1sga</td>\n",
       "      <td>ae87054e5a97a8f840a3991d12611fdcrfbq3</td>\n",
       "      <td>0.0</td>\n",
       "      <td>1</td>\n",
       "      <td>1</td>\n",
       "      <td>2</td>\n",
       "      <td>1</td>\n",
       "      <td>3</td>\n",
       "      <td>2</td>\n",
       "      <td>...</td>\n",
       "      <td>0</td>\n",
       "      <td>0</td>\n",
       "      <td>0</td>\n",
       "      <td>0</td>\n",
       "      <td>0</td>\n",
       "      <td>0</td>\n",
       "      <td>0</td>\n",
       "      <td>0</td>\n",
       "      <td>0</td>\n",
       "      <td>0</td>\n",
       "    </tr>\n",
       "    <tr>\n",
       "      <th>2</th>\n",
       "      <td>1c5f4fc669099bfbfac515cd26997bd12ruaj</td>\n",
       "      <td>a3d2de7675556553a5f08e4c88d2c2280cybl</td>\n",
       "      <td>92520288b50f03907041887884ba49c0cl0pd</td>\n",
       "      <td>0.0</td>\n",
       "      <td>4</td>\n",
       "      <td>1</td>\n",
       "      <td>2</td>\n",
       "      <td>1</td>\n",
       "      <td>4</td>\n",
       "      <td>2</td>\n",
       "      <td>...</td>\n",
       "      <td>0</td>\n",
       "      <td>0</td>\n",
       "      <td>0</td>\n",
       "      <td>0</td>\n",
       "      <td>0</td>\n",
       "      <td>0</td>\n",
       "      <td>0</td>\n",
       "      <td>0</td>\n",
       "      <td>0</td>\n",
       "      <td>0</td>\n",
       "    </tr>\n",
       "    <tr>\n",
       "      <th>3</th>\n",
       "      <td>4bee9aba2abda51bf43d639013d6efe12iycd</td>\n",
       "      <td>51d80e233f7b6a7dfdee484a3c120f3b2ita8</td>\n",
       "      <td>4cb9717c8ad7e88a9a284989dd79b98dbevyi</td>\n",
       "      <td>0.0</td>\n",
       "      <td>1</td>\n",
       "      <td>1</td>\n",
       "      <td>1</td>\n",
       "      <td>1</td>\n",
       "      <td>1</td>\n",
       "      <td>1</td>\n",
       "      <td>...</td>\n",
       "      <td>0</td>\n",
       "      <td>0</td>\n",
       "      <td>0</td>\n",
       "      <td>0</td>\n",
       "      <td>0</td>\n",
       "      <td>0</td>\n",
       "      <td>0</td>\n",
       "      <td>0</td>\n",
       "      <td>0</td>\n",
       "      <td>0</td>\n",
       "    </tr>\n",
       "    <tr>\n",
       "      <th>4</th>\n",
       "      <td>4ab12bc61c82ddd9c2d65e60555808acqgos1</td>\n",
       "      <td>a3d2de7675556553a5f08e4c88d2c22857ddh</td>\n",
       "      <td>2a96c3ce94b3be921e0296097b88b56a7x1ji</td>\n",
       "      <td>0.0</td>\n",
       "      <td>23</td>\n",
       "      <td>1</td>\n",
       "      <td>53</td>\n",
       "      <td>2</td>\n",
       "      <td>123</td>\n",
       "      <td>91</td>\n",
       "      <td>...</td>\n",
       "      <td>0</td>\n",
       "      <td>0</td>\n",
       "      <td>0</td>\n",
       "      <td>0</td>\n",
       "      <td>0</td>\n",
       "      <td>0</td>\n",
       "      <td>0</td>\n",
       "      <td>0</td>\n",
       "      <td>0</td>\n",
       "      <td>0</td>\n",
       "    </tr>\n",
       "  </tbody>\n",
       "</table>\n",
       "<p>5 rows × 220 columns</p>\n",
       "</div>"
      ],
      "text/plain": [
       "                               bidder_id  \\\n",
       "0  91a3c57b13234af24875c56fb7e2b2f4rb56a   \n",
       "1  624f258b49e77713fc34034560f93fb3hu3jo   \n",
       "2  1c5f4fc669099bfbfac515cd26997bd12ruaj   \n",
       "3  4bee9aba2abda51bf43d639013d6efe12iycd   \n",
       "4  4ab12bc61c82ddd9c2d65e60555808acqgos1   \n",
       "\n",
       "                         payment_account  \\\n",
       "0  a3d2de7675556553a5f08e4c88d2c228754av   \n",
       "1  a3d2de7675556553a5f08e4c88d2c228v1sga   \n",
       "2  a3d2de7675556553a5f08e4c88d2c2280cybl   \n",
       "3  51d80e233f7b6a7dfdee484a3c120f3b2ita8   \n",
       "4  a3d2de7675556553a5f08e4c88d2c22857ddh   \n",
       "\n",
       "                                 address  outcome  auction_nunique_num  \\\n",
       "0  a3d2de7675556553a5f08e4c88d2c228vt0u4      0.0                   18   \n",
       "1  ae87054e5a97a8f840a3991d12611fdcrfbq3      0.0                    1   \n",
       "2  92520288b50f03907041887884ba49c0cl0pd      0.0                    4   \n",
       "3  4cb9717c8ad7e88a9a284989dd79b98dbevyi      0.0                    1   \n",
       "4  2a96c3ce94b3be921e0296097b88b56a7x1ji      0.0                   23   \n",
       "\n",
       "   merchandise_nunique_num  device_nunique_num  country_nunique_num  \\\n",
       "0                        1                  14                    6   \n",
       "1                        1                   2                    1   \n",
       "2                        1                   2                    1   \n",
       "3                        1                   1                    1   \n",
       "4                        1                  53                    2   \n",
       "\n",
       "   ip_nunique_num  url_nunique_num  ...  country_vi  country_nc  country_tc  \\\n",
       "0              20                1  ...           0           0           0   \n",
       "1               3                2  ...           0           0           0   \n",
       "2               4                2  ...           0           0           0   \n",
       "3               1                1  ...           0           0           0   \n",
       "4             123               91  ...           0           0           0   \n",
       "\n",
       "   country_gb  country_mp  country_gp  country_an  country_gi  country_gn  \\\n",
       "0           0           0           0           0           0           0   \n",
       "1           0           0           0           0           0           0   \n",
       "2           0           0           0           0           0           0   \n",
       "3           0           0           0           0           0           0   \n",
       "4           0           0           0           0           0           0   \n",
       "\n",
       "   country_mh  \n",
       "0           0  \n",
       "1           0  \n",
       "2           0  \n",
       "3           0  \n",
       "4           0  \n",
       "\n",
       "[5 rows x 220 columns]"
      ]
     },
     "execution_count": 17,
     "metadata": {},
     "output_type": "execute_result"
    }
   ],
   "source": [
    "bidders = pd.read_csv(\"./Resources/bidders.csv\")\n",
    "country_merch = pd.read_csv(\"./Resources/bidders_count_merch.csv\")\n",
    "train = pd.read_csv(\"./Resources/train.csv\")\n",
    "\n",
    "bidders = bidders.merge(country_merch, right_index=True, left_index=True)\n",
    "\n",
    "merged_bidders = train.merge(bidders, how= \"right\", on=\"bidder_id\")\n",
    "merged_bidders.head()"
   ]
  },
  {
   "cell_type": "markdown",
   "id": "54df35c0",
   "metadata": {},
   "source": [
    "Since each bidder in train dataset has corresponding unique payment account and address, and bidder_id is also a unique id that won't be useful for machine lerning. <br>\n",
    "These three columns could be dropped."
   ]
  },
  {
   "cell_type": "code",
   "execution_count": 18,
   "id": "cfb29a6e",
   "metadata": {},
   "outputs": [
    {
     "data": {
      "text/html": [
       "<div>\n",
       "<style scoped>\n",
       "    .dataframe tbody tr th:only-of-type {\n",
       "        vertical-align: middle;\n",
       "    }\n",
       "\n",
       "    .dataframe tbody tr th {\n",
       "        vertical-align: top;\n",
       "    }\n",
       "\n",
       "    .dataframe thead th {\n",
       "        text-align: right;\n",
       "    }\n",
       "</style>\n",
       "<table border=\"1\" class=\"dataframe\">\n",
       "  <thead>\n",
       "    <tr style=\"text-align: right;\">\n",
       "      <th></th>\n",
       "      <th>outcome</th>\n",
       "      <th>auction_nunique_num</th>\n",
       "      <th>merchandise_nunique_num</th>\n",
       "      <th>device_nunique_num</th>\n",
       "      <th>country_nunique_num</th>\n",
       "      <th>ip_nunique_num</th>\n",
       "      <th>url_nunique_num</th>\n",
       "      <th>time_mean</th>\n",
       "      <th>time_median</th>\n",
       "      <th>merchandise_homegoods</th>\n",
       "      <th>...</th>\n",
       "      <th>country_vi</th>\n",
       "      <th>country_nc</th>\n",
       "      <th>country_tc</th>\n",
       "      <th>country_gb</th>\n",
       "      <th>country_mp</th>\n",
       "      <th>country_gp</th>\n",
       "      <th>country_an</th>\n",
       "      <th>country_gi</th>\n",
       "      <th>country_gn</th>\n",
       "      <th>country_mh</th>\n",
       "    </tr>\n",
       "  </thead>\n",
       "  <tbody>\n",
       "    <tr>\n",
       "      <th>0</th>\n",
       "      <td>0.0</td>\n",
       "      <td>18</td>\n",
       "      <td>1</td>\n",
       "      <td>14</td>\n",
       "      <td>6</td>\n",
       "      <td>20</td>\n",
       "      <td>1</td>\n",
       "      <td>5.711121e+11</td>\n",
       "      <td>3.458421e+11</td>\n",
       "      <td>0</td>\n",
       "      <td>...</td>\n",
       "      <td>0</td>\n",
       "      <td>0</td>\n",
       "      <td>0</td>\n",
       "      <td>0</td>\n",
       "      <td>0</td>\n",
       "      <td>0</td>\n",
       "      <td>0</td>\n",
       "      <td>0</td>\n",
       "      <td>0</td>\n",
       "      <td>0</td>\n",
       "    </tr>\n",
       "    <tr>\n",
       "      <th>1</th>\n",
       "      <td>0.0</td>\n",
       "      <td>1</td>\n",
       "      <td>1</td>\n",
       "      <td>2</td>\n",
       "      <td>1</td>\n",
       "      <td>3</td>\n",
       "      <td>2</td>\n",
       "      <td>3.233579e+12</td>\n",
       "      <td>3.233579e+12</td>\n",
       "      <td>0</td>\n",
       "      <td>...</td>\n",
       "      <td>0</td>\n",
       "      <td>0</td>\n",
       "      <td>0</td>\n",
       "      <td>0</td>\n",
       "      <td>0</td>\n",
       "      <td>0</td>\n",
       "      <td>0</td>\n",
       "      <td>0</td>\n",
       "      <td>0</td>\n",
       "      <td>0</td>\n",
       "    </tr>\n",
       "    <tr>\n",
       "      <th>2</th>\n",
       "      <td>0.0</td>\n",
       "      <td>4</td>\n",
       "      <td>1</td>\n",
       "      <td>2</td>\n",
       "      <td>1</td>\n",
       "      <td>4</td>\n",
       "      <td>2</td>\n",
       "      <td>2.379000e+12</td>\n",
       "      <td>2.532053e+12</td>\n",
       "      <td>0</td>\n",
       "      <td>...</td>\n",
       "      <td>0</td>\n",
       "      <td>0</td>\n",
       "      <td>0</td>\n",
       "      <td>0</td>\n",
       "      <td>0</td>\n",
       "      <td>0</td>\n",
       "      <td>0</td>\n",
       "      <td>0</td>\n",
       "      <td>0</td>\n",
       "      <td>0</td>\n",
       "    </tr>\n",
       "    <tr>\n",
       "      <th>3</th>\n",
       "      <td>0.0</td>\n",
       "      <td>1</td>\n",
       "      <td>1</td>\n",
       "      <td>1</td>\n",
       "      <td>1</td>\n",
       "      <td>1</td>\n",
       "      <td>1</td>\n",
       "      <td>3.201947e+12</td>\n",
       "      <td>1.864477e+12</td>\n",
       "      <td>0</td>\n",
       "      <td>...</td>\n",
       "      <td>0</td>\n",
       "      <td>0</td>\n",
       "      <td>0</td>\n",
       "      <td>0</td>\n",
       "      <td>0</td>\n",
       "      <td>0</td>\n",
       "      <td>0</td>\n",
       "      <td>0</td>\n",
       "      <td>0</td>\n",
       "      <td>0</td>\n",
       "    </tr>\n",
       "    <tr>\n",
       "      <th>4</th>\n",
       "      <td>0.0</td>\n",
       "      <td>23</td>\n",
       "      <td>1</td>\n",
       "      <td>53</td>\n",
       "      <td>2</td>\n",
       "      <td>123</td>\n",
       "      <td>91</td>\n",
       "      <td>7.777888e+10</td>\n",
       "      <td>1.368421e+10</td>\n",
       "      <td>0</td>\n",
       "      <td>...</td>\n",
       "      <td>0</td>\n",
       "      <td>0</td>\n",
       "      <td>0</td>\n",
       "      <td>0</td>\n",
       "      <td>0</td>\n",
       "      <td>0</td>\n",
       "      <td>0</td>\n",
       "      <td>0</td>\n",
       "      <td>0</td>\n",
       "      <td>0</td>\n",
       "    </tr>\n",
       "  </tbody>\n",
       "</table>\n",
       "<p>5 rows × 217 columns</p>\n",
       "</div>"
      ],
      "text/plain": [
       "   outcome  auction_nunique_num  merchandise_nunique_num  device_nunique_num  \\\n",
       "0      0.0                   18                        1                  14   \n",
       "1      0.0                    1                        1                   2   \n",
       "2      0.0                    4                        1                   2   \n",
       "3      0.0                    1                        1                   1   \n",
       "4      0.0                   23                        1                  53   \n",
       "\n",
       "   country_nunique_num  ip_nunique_num  url_nunique_num     time_mean  \\\n",
       "0                    6              20                1  5.711121e+11   \n",
       "1                    1               3                2  3.233579e+12   \n",
       "2                    1               4                2  2.379000e+12   \n",
       "3                    1               1                1  3.201947e+12   \n",
       "4                    2             123               91  7.777888e+10   \n",
       "\n",
       "    time_median  merchandise_homegoods  ...  country_vi  country_nc  \\\n",
       "0  3.458421e+11                      0  ...           0           0   \n",
       "1  3.233579e+12                      0  ...           0           0   \n",
       "2  2.532053e+12                      0  ...           0           0   \n",
       "3  1.864477e+12                      0  ...           0           0   \n",
       "4  1.368421e+10                      0  ...           0           0   \n",
       "\n",
       "   country_tc  country_gb  country_mp  country_gp  country_an  country_gi  \\\n",
       "0           0           0           0           0           0           0   \n",
       "1           0           0           0           0           0           0   \n",
       "2           0           0           0           0           0           0   \n",
       "3           0           0           0           0           0           0   \n",
       "4           0           0           0           0           0           0   \n",
       "\n",
       "   country_gn  country_mh  \n",
       "0           0           0  \n",
       "1           0           0  \n",
       "2           0           0  \n",
       "3           0           0  \n",
       "4           0           0  \n",
       "\n",
       "[5 rows x 217 columns]"
      ]
     },
     "execution_count": 18,
     "metadata": {},
     "output_type": "execute_result"
    }
   ],
   "source": [
    "merged_bidders = merged_bidders.drop(columns=[\"bidder_id\", \"payment_account\", \"address\"])\n",
    "merged_bidders.head()"
   ]
  },
  {
   "cell_type": "code",
   "execution_count": 19,
   "id": "4e24d1b1",
   "metadata": {},
   "outputs": [
    {
     "data": {
      "text/plain": [
       "outcome                    0\n",
       "auction_nunique_num        0\n",
       "merchandise_nunique_num    0\n",
       "device_nunique_num         0\n",
       "country_nunique_num        0\n",
       "                          ..\n",
       "country_gp                 0\n",
       "country_an                 0\n",
       "country_gi                 0\n",
       "country_gn                 0\n",
       "country_mh                 0\n",
       "Length: 217, dtype: int64"
      ]
     },
     "execution_count": 19,
     "metadata": {},
     "output_type": "execute_result"
    }
   ],
   "source": [
    "merged_bidders.isnull().sum()"
   ]
  },
  {
   "cell_type": "code",
   "execution_count": 15,
   "id": "2c4fc586",
   "metadata": {},
   "outputs": [],
   "source": [
    "merged_bidders.to_csv(\"./Resources/merged_bidders.csv\", index=False)"
   ]
  },
  {
   "cell_type": "code",
   "execution_count": 20,
   "id": "2eead39a",
   "metadata": {},
   "outputs": [
    {
     "data": {
      "text/plain": [
       "bidder_id                  0\n",
       "auction_nunique_num        0\n",
       "merchandise_nunique_num    0\n",
       "device_nunique_num         0\n",
       "country_nunique_num        0\n",
       "                          ..\n",
       "country_gp                 0\n",
       "country_an                 0\n",
       "country_gi                 0\n",
       "country_gn                 0\n",
       "country_mh                 0\n",
       "Length: 217, dtype: int64"
      ]
     },
     "execution_count": 20,
     "metadata": {},
     "output_type": "execute_result"
    }
   ],
   "source": [
    "bidders.isnull().sum()"
   ]
  },
  {
   "cell_type": "markdown",
   "id": "e62f959c",
   "metadata": {},
   "source": [
    "#### Spilt and scale the data"
   ]
  },
  {
   "cell_type": "code",
   "execution_count": 90,
   "id": "3374b670",
   "metadata": {},
   "outputs": [],
   "source": [
    "# Split our preprocessed data into features and target arrays\n",
    "y = merged_bidders[\"outcome\"].values\n",
    "X = merged_bidders.drop(columns= \"outcome\", axis= 1).values\n",
    "\n",
    "# Split the preprocessed data into a training and testing dataset\n",
    "X_train, X_test, y_train, y_test = train_test_split(X, y, random_state=42, stratify=y, test_size=0.55)\n",
    "\n",
    "# Create a StandardScaler instances\n",
    "scaler = StandardScaler()\n",
    "\n",
    "# Fit the StandardScaler\n",
    "X_scaler = scaler.fit(X_train)\n",
    "\n",
    "# Scale the data\n",
    "X_train_scaled = X_scaler.transform(X_train)\n",
    "X_test_scaled = X_scaler.transform(X_test)"
   ]
  },
  {
   "cell_type": "code",
   "execution_count": 91,
   "id": "0c1fd198",
   "metadata": {},
   "outputs": [],
   "source": [
    "# Resample the training data with the BalancedRandomForestClassifier\n",
    "from imblearn.ensemble import BalancedRandomForestClassifier\n",
    "model = BalancedRandomForestClassifier(n_estimators=500, random_state=42)\n",
    "model.fit(X_train, y_train)\n",
    "y_pred = model.predict(X_test)"
   ]
  },
  {
   "cell_type": "code",
   "execution_count": 92,
   "id": "3124eadb",
   "metadata": {},
   "outputs": [
    {
     "name": "stdout",
     "output_type": "stream",
     "text": [
      "Accuracy Score: 0.8507923580711935\n",
      "Confusion Matrix\n"
     ]
    },
    {
     "name": "stderr",
     "output_type": "stream",
     "text": [
      "C:\\Users\\Jarvinia\\anaconda3\\envs\\mlenv\\lib\\site-packages\\sklearn\\utils\\deprecation.py:87: FutureWarning: Function plot_confusion_matrix is deprecated; Function `plot_confusion_matrix` is deprecated in 1.0 and will be removed in 1.2. Use one of the class methods: ConfusionMatrixDisplay.from_predictions or ConfusionMatrixDisplay.from_estimator.\n",
      "  warnings.warn(msg, category=FutureWarning)\n"
     ]
    },
    {
     "data": {
      "image/png": "[encoded data removed]",
      "text/plain": [
       "<Figure size 432x288 with 2 Axes>"
      ]
     },
     "metadata": {
      "needs_background": "light"
     },
     "output_type": "display_data"
    },
    {
     "name": "stdout",
     "output_type": "stream",
     "text": [
      "Classification Report:\n",
      "                    pre       rec       spe        f1       geo       iba       sup\n",
      "\n",
      "        0.0       1.00      0.77      0.93      0.87      0.85      0.71      1034\n",
      "        1.0       0.18      0.93      0.77      0.31      0.85      0.73        57\n",
      "\n",
      "avg / total       0.95      0.78      0.92      0.84      0.85      0.71      1091\n",
      "\n"
     ]
    }
   ],
   "source": [
    "print(f\"Accuracy Score: {balanced_accuracy_score(y_test, y_pred)}\")\n",
    "# Plot the confusion matrix\n",
    "import matplotlib.pyplot as plt\n",
    "from sklearn.metrics import plot_confusion_matrix\n",
    "print(\"Confusion Matrix\")\n",
    "plot_confusion_matrix(model, X_test, y_test, cmap=plt.cm.Blues)  \n",
    "plt.show()\n",
    "print(f\"Classification Report:\\n {classification_report_imbalanced(y_test, y_pred)}\")"
   ]
  },
  {
   "cell_type": "code",
   "execution_count": 100,
   "id": "b07484e5",
   "metadata": {},
   "outputs": [
    {
     "data": {
      "text/html": [
       "<div>\n",
       "<style scoped>\n",
       "    .dataframe tbody tr th:only-of-type {\n",
       "        vertical-align: middle;\n",
       "    }\n",
       "\n",
       "    .dataframe tbody tr th {\n",
       "        vertical-align: top;\n",
       "    }\n",
       "\n",
       "    .dataframe thead th {\n",
       "        text-align: right;\n",
       "    }\n",
       "</style>\n",
       "<table border=\"1\" class=\"dataframe\">\n",
       "  <thead>\n",
       "    <tr style=\"text-align: right;\">\n",
       "      <th></th>\n",
       "      <th>Features</th>\n",
       "      <th>Feature Score</th>\n",
       "    </tr>\n",
       "  </thead>\n",
       "  <tbody>\n",
       "    <tr>\n",
       "      <th>0</th>\n",
       "      <td>time_mean</td>\n",
       "      <td>0.149832</td>\n",
       "    </tr>\n",
       "    <tr>\n",
       "      <th>1</th>\n",
       "      <td>time_median</td>\n",
       "      <td>0.130390</td>\n",
       "    </tr>\n",
       "    <tr>\n",
       "      <th>2</th>\n",
       "      <td>auction_nunique_num</td>\n",
       "      <td>0.082178</td>\n",
       "    </tr>\n",
       "    <tr>\n",
       "      <th>3</th>\n",
       "      <td>ip_nunique_num</td>\n",
       "      <td>0.066887</td>\n",
       "    </tr>\n",
       "    <tr>\n",
       "      <th>4</th>\n",
       "      <td>device_nunique_num</td>\n",
       "      <td>0.052704</td>\n",
       "    </tr>\n",
       "    <tr>\n",
       "      <th>5</th>\n",
       "      <td>country_nunique_num</td>\n",
       "      <td>0.052678</td>\n",
       "    </tr>\n",
       "    <tr>\n",
       "      <th>6</th>\n",
       "      <td>url_nunique_num</td>\n",
       "      <td>0.048005</td>\n",
       "    </tr>\n",
       "    <tr>\n",
       "      <th>7</th>\n",
       "      <td>merchandise_homegoods</td>\n",
       "      <td>0.024025</td>\n",
       "    </tr>\n",
       "    <tr>\n",
       "      <th>8</th>\n",
       "      <td>merchandise_mobile</td>\n",
       "      <td>0.021673</td>\n",
       "    </tr>\n",
       "    <tr>\n",
       "      <th>9</th>\n",
       "      <td>merchandise_sportinggoods</td>\n",
       "      <td>0.017188</td>\n",
       "    </tr>\n",
       "  </tbody>\n",
       "</table>\n",
       "</div>"
      ],
      "text/plain": [
       "                    Features  Feature Score\n",
       "0                  time_mean       0.149832\n",
       "1                time_median       0.130390\n",
       "2        auction_nunique_num       0.082178\n",
       "3             ip_nunique_num       0.066887\n",
       "4         device_nunique_num       0.052704\n",
       "5        country_nunique_num       0.052678\n",
       "6            url_nunique_num       0.048005\n",
       "7      merchandise_homegoods       0.024025\n",
       "8         merchandise_mobile       0.021673\n",
       "9  merchandise_sportinggoods       0.017188"
      ]
     },
     "execution_count": 100,
     "metadata": {},
     "output_type": "execute_result"
    }
   ],
   "source": [
    "# List the features sorted in descending order by feature importance\n",
    "x = merged_bidders.drop(columns= \"outcome\", axis= 1)\n",
    "import_score = model.fit(X_train, y_train).feature_importances_\n",
    "import_rank = sorted(zip(import_score, x.columns), reverse=True)\n",
    "importances = pd.DataFrame(import_rank, columns=[\"Feature Score\", \"Features\"])\n",
    "importances = importances[[\"Features\", \"Feature Score\"]]\n",
    "importances.head(10)"
   ]
  },
  {
   "cell_type": "code",
   "execution_count": 71,
   "id": "21d4831f",
   "metadata": {},
   "outputs": [],
   "source": [
    "# Train the EasyEnsembleClassifier\n",
    "from imblearn.ensemble import EasyEnsembleClassifier\n",
    "model = EasyEnsembleClassifier(n_estimators=200 ,random_state=42)\n",
    "model.fit(X_train, y_train)\n",
    "y_pred = model.predict(X_test)"
   ]
  },
  {
   "cell_type": "code",
   "execution_count": 72,
   "id": "0a3283a5",
   "metadata": {},
   "outputs": [
    {
     "name": "stdout",
     "output_type": "stream",
     "text": [
      "Accuracy Score: 0.8123875937425769\n",
      "Confusion Matrix\n"
     ]
    },
    {
     "name": "stderr",
     "output_type": "stream",
     "text": [
      "C:\\Users\\Jarvinia\\anaconda3\\envs\\mlenv\\lib\\site-packages\\sklearn\\utils\\deprecation.py:87: FutureWarning: Function plot_confusion_matrix is deprecated; Function `plot_confusion_matrix` is deprecated in 1.0 and will be removed in 1.2. Use one of the class methods: ConfusionMatrixDisplay.from_predictions or ConfusionMatrixDisplay.from_estimator.\n",
      "  warnings.warn(msg, category=FutureWarning)\n"
     ]
    },
    {
     "data": {
      "image/png": "[encoded data removed]",
      "text/plain": [
       "<Figure size 432x288 with 2 Axes>"
      ]
     },
     "metadata": {
      "needs_background": "light"
     },
     "output_type": "display_data"
    },
    {
     "name": "stdout",
     "output_type": "stream",
     "text": [
      "Classification Report:\n",
      "                    pre       rec       spe        f1       geo       iba       sup\n",
      "\n",
      "        0.0       0.99      0.75      0.88      0.85      0.81      0.65      1034\n",
      "        1.0       0.16      0.88      0.75      0.27      0.81      0.66        57\n",
      "\n",
      "avg / total       0.95      0.75      0.87      0.82      0.81      0.65      1091\n",
      "\n"
     ]
    }
   ],
   "source": [
    "print(f\"Accuracy Score: {balanced_accuracy_score(y_test, y_pred)}\")\n",
    "\n",
    "# Plot the confusion matrix\n",
    "print(\"Confusion Matrix\")\n",
    "plot_confusion_matrix(model, X_test, y_test, cmap=plt.cm.Blues)  \n",
    "plt.show()\n",
    "print(f\"Classification Report:\\n {classification_report_imbalanced(y_test, y_pred)}\")"
   ]
  },
  {
   "cell_type": "code",
   "execution_count": 73,
   "id": "1b5e7551",
   "metadata": {},
   "outputs": [],
   "source": [
    "from sklearn.ensemble import GradientBoostingClassifier\n",
    "model = clf = GradientBoostingClassifier(n_estimators=200, random_state= 42)\n",
    "model.fit(X_train, y_train)\n",
    "y_pred = model.predict(X_test)"
   ]
  },
  {
   "cell_type": "code",
   "execution_count": 74,
   "id": "763c9204",
   "metadata": {},
   "outputs": [
    {
     "name": "stdout",
     "output_type": "stream",
     "text": [
      "Accuracy Score: 0.5916556381282025\n",
      "Confusion Matrix\n"
     ]
    },
    {
     "name": "stderr",
     "output_type": "stream",
     "text": [
      "C:\\Users\\Jarvinia\\anaconda3\\envs\\mlenv\\lib\\site-packages\\sklearn\\utils\\deprecation.py:87: FutureWarning: Function plot_confusion_matrix is deprecated; Function `plot_confusion_matrix` is deprecated in 1.0 and will be removed in 1.2. Use one of the class methods: ConfusionMatrixDisplay.from_predictions or ConfusionMatrixDisplay.from_estimator.\n",
      "  warnings.warn(msg, category=FutureWarning)\n"
     ]
    },
    {
     "data": {
      "image/png": "[encoded data removed]",
      "text/plain": [
       "<Figure size 432x288 with 2 Axes>"
      ]
     },
     "metadata": {
      "needs_background": "light"
     },
     "output_type": "display_data"
    },
    {
     "name": "stdout",
     "output_type": "stream",
     "text": [
      "Classification Report:\n",
      "                    pre       rec       spe        f1       geo       iba       sup\n",
      "\n",
      "        0.0       0.96      0.99      0.19      0.97      0.44      0.21      1034\n",
      "        1.0       0.52      0.19      0.99      0.28      0.44      0.18        57\n",
      "\n",
      "avg / total       0.93      0.95      0.23      0.94      0.44      0.20      1091\n",
      "\n"
     ]
    }
   ],
   "source": [
    "print(f\"Accuracy Score: {balanced_accuracy_score(y_test, y_pred)}\")\n",
    "\n",
    "# Plot the confusion matrix\n",
    "print(\"Confusion Matrix\")\n",
    "plot_confusion_matrix(model, X_test, y_test, cmap=plt.cm.Blues)  \n",
    "plt.show()\n",
    "print(f\"Classification Report:\\n {classification_report_imbalanced(y_test, y_pred)}\")"
   ]
  },
  {
   "cell_type": "code",
   "execution_count": null,
   "id": "2488a9fa",
   "metadata": {},
   "outputs": [],
   "source": []
  }
 ],
 "metadata": {
  "kernelspec": {
   "display_name": "mlenv",
   "language": "python",
   "name": "mlenv"
  },
  "language_info": {
   "codemirror_mode": {
    "name": "ipython",
    "version": 3
   },
   "file_extension": ".py",
   "mimetype": "text/x-python",
   "name": "python",
   "nbconvert_exporter": "python",
   "pygments_lexer": "ipython3",
   "version": "3.9.7"
  }
 },
 "nbformat": 4,
 "nbformat_minor": 5
}
