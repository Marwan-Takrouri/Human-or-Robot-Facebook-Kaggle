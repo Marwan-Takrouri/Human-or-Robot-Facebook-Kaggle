{
 "cells": [
  {
   "cell_type": "code",
   "execution_count": 1,
   "id": "7cb4f034",
   "metadata": {},
   "outputs": [],
   "source": [
    "import warnings\n",
    "warnings.filterwarnings('ignore')"
   ]
  },
  {
   "cell_type": "code",
   "execution_count": 2,
   "id": "529ff436",
   "metadata": {},
   "outputs": [],
   "source": [
    "import pandas as pd\n",
    "import numpy as np\n",
    "from sklearn.model_selection import train_test_split\n",
    "from sklearn.preprocessing import StandardScaler, MinMaxScaler\n",
    "\n",
    "from sklearn.metrics import balanced_accuracy_score, confusion_matrix\n",
    "from imblearn.metrics import classification_report_imbalanced"
   ]
  },
  {
   "cell_type": "markdown",
   "id": "32c1888b",
   "metadata": {},
   "source": [
    "## Pre-Modeling"
   ]
  },
  {
   "cell_type": "markdown",
   "id": "7ca74401",
   "metadata": {},
   "source": [
    "#### Assemble the data"
   ]
  },
  {
   "cell_type": "code",
   "execution_count": 99,
   "id": "80ba6bfd",
   "metadata": {},
   "outputs": [
    {
     "name": "stdout",
     "output_type": "stream",
     "text": [
      "(6609, 10)\n"
     ]
    },
    {
     "data": {
      "text/html": [
       "<div>\n",
       "<style scoped>\n",
       "    .dataframe tbody tr th:only-of-type {\n",
       "        vertical-align: middle;\n",
       "    }\n",
       "\n",
       "    .dataframe tbody tr th {\n",
       "        vertical-align: top;\n",
       "    }\n",
       "\n",
       "    .dataframe thead th {\n",
       "        text-align: right;\n",
       "    }\n",
       "</style>\n",
       "<table border=\"1\" class=\"dataframe\">\n",
       "  <thead>\n",
       "    <tr style=\"text-align: right;\">\n",
       "      <th></th>\n",
       "      <th>bidder_id</th>\n",
       "      <th>auction_count</th>\n",
       "      <th>merchandise_count</th>\n",
       "      <th>device_count</th>\n",
       "      <th>country_count</th>\n",
       "      <th>ip_count</th>\n",
       "      <th>url_count</th>\n",
       "      <th>time_mean</th>\n",
       "      <th>time_median</th>\n",
       "      <th>time_std</th>\n",
       "    </tr>\n",
       "  </thead>\n",
       "  <tbody>\n",
       "    <tr>\n",
       "      <th>0</th>\n",
       "      <td>001068c415025a009fee375a12cff4fcnht8y</td>\n",
       "      <td>1</td>\n",
       "      <td>1</td>\n",
       "      <td>1</td>\n",
       "      <td>1</td>\n",
       "      <td>1</td>\n",
       "      <td>1</td>\n",
       "      <td>0.000000e+00</td>\n",
       "      <td>0.000000e+00</td>\n",
       "      <td>0.000000e+00</td>\n",
       "    </tr>\n",
       "    <tr>\n",
       "      <th>1</th>\n",
       "      <td>002d229ffb247009810828f648afc2ef593rb</td>\n",
       "      <td>1</td>\n",
       "      <td>1</td>\n",
       "      <td>2</td>\n",
       "      <td>1</td>\n",
       "      <td>1</td>\n",
       "      <td>1</td>\n",
       "      <td>1.052632e+08</td>\n",
       "      <td>1.052632e+08</td>\n",
       "      <td>0.000000e+00</td>\n",
       "    </tr>\n",
       "    <tr>\n",
       "      <th>2</th>\n",
       "      <td>0030a2dd87ad2733e0873062e4f83954mkj86</td>\n",
       "      <td>1</td>\n",
       "      <td>1</td>\n",
       "      <td>1</td>\n",
       "      <td>1</td>\n",
       "      <td>1</td>\n",
       "      <td>1</td>\n",
       "      <td>0.000000e+00</td>\n",
       "      <td>0.000000e+00</td>\n",
       "      <td>0.000000e+00</td>\n",
       "    </tr>\n",
       "    <tr>\n",
       "      <th>3</th>\n",
       "      <td>003180b29c6a5f8f1d84a6b7b6f7be57tjj1o</td>\n",
       "      <td>3</td>\n",
       "      <td>1</td>\n",
       "      <td>3</td>\n",
       "      <td>1</td>\n",
       "      <td>3</td>\n",
       "      <td>2</td>\n",
       "      <td>3.297784e+13</td>\n",
       "      <td>3.297784e+13</td>\n",
       "      <td>3.904443e+13</td>\n",
       "    </tr>\n",
       "    <tr>\n",
       "      <th>4</th>\n",
       "      <td>00486a11dff552c4bd7696265724ff81yeo9v</td>\n",
       "      <td>13</td>\n",
       "      <td>1</td>\n",
       "      <td>8</td>\n",
       "      <td>1</td>\n",
       "      <td>10</td>\n",
       "      <td>7</td>\n",
       "      <td>4.018413e+12</td>\n",
       "      <td>9.177368e+11</td>\n",
       "      <td>1.153730e+13</td>\n",
       "    </tr>\n",
       "  </tbody>\n",
       "</table>\n",
       "</div>"
      ],
      "text/plain": [
       "                               bidder_id  auction_count  merchandise_count  \\\n",
       "0  001068c415025a009fee375a12cff4fcnht8y              1                  1   \n",
       "1  002d229ffb247009810828f648afc2ef593rb              1                  1   \n",
       "2  0030a2dd87ad2733e0873062e4f83954mkj86              1                  1   \n",
       "3  003180b29c6a5f8f1d84a6b7b6f7be57tjj1o              3                  1   \n",
       "4  00486a11dff552c4bd7696265724ff81yeo9v             13                  1   \n",
       "\n",
       "   device_count  country_count  ip_count  url_count     time_mean  \\\n",
       "0             1              1         1          1  0.000000e+00   \n",
       "1             2              1         1          1  1.052632e+08   \n",
       "2             1              1         1          1  0.000000e+00   \n",
       "3             3              1         3          2  3.297784e+13   \n",
       "4             8              1        10          7  4.018413e+12   \n",
       "\n",
       "    time_median      time_std  \n",
       "0  0.000000e+00  0.000000e+00  \n",
       "1  1.052632e+08  0.000000e+00  \n",
       "2  0.000000e+00  0.000000e+00  \n",
       "3  3.297784e+13  3.904443e+13  \n",
       "4  9.177368e+11  1.153730e+13  "
      ]
     },
     "execution_count": 99,
     "metadata": {},
     "output_type": "execute_result"
    }
   ],
   "source": [
    "bidders = pd.read_csv(\"./Resources/bidders.csv\", index_col =False)\n",
    "country_merch = pd.read_csv(\"./Resources/bidders_count_merch.csv\", index_col =False)\n",
    "bidder_auc = pd.read_csv(\"./Resources/bidder_auc.csv\")\n",
    "bidder_auc_cm = pd.read_csv(\"./Resources/bidder_auc_cm.csv\")\n",
    "train = pd.read_csv(\"./Resources/train.csv\")\n",
    "\n",
    "# bidders = bidders.merge(country_merch, right_index=True, left_index=True)\n",
    "# bidders = bidders.merge(bidder_auc, right_index=True, left_index=True)\n",
    "# bidders = bidders.merge(bidder_auc_cm, right_index=True, left_index=True)\n",
    "\n",
    "print(bidders.shape)\n",
    "bidders.head()"
   ]
  },
  {
   "cell_type": "code",
   "execution_count": 100,
   "id": "816096c0",
   "metadata": {},
   "outputs": [
    {
     "name": "stdout",
     "output_type": "stream",
     "text": [
      "(1983, 13)\n"
     ]
    },
    {
     "data": {
      "text/html": [
       "<div>\n",
       "<style scoped>\n",
       "    .dataframe tbody tr th:only-of-type {\n",
       "        vertical-align: middle;\n",
       "    }\n",
       "\n",
       "    .dataframe tbody tr th {\n",
       "        vertical-align: top;\n",
       "    }\n",
       "\n",
       "    .dataframe thead th {\n",
       "        text-align: right;\n",
       "    }\n",
       "</style>\n",
       "<table border=\"1\" class=\"dataframe\">\n",
       "  <thead>\n",
       "    <tr style=\"text-align: right;\">\n",
       "      <th></th>\n",
       "      <th>bidder_id</th>\n",
       "      <th>payment_account</th>\n",
       "      <th>address</th>\n",
       "      <th>outcome</th>\n",
       "      <th>auction_count</th>\n",
       "      <th>merchandise_count</th>\n",
       "      <th>device_count</th>\n",
       "      <th>country_count</th>\n",
       "      <th>ip_count</th>\n",
       "      <th>url_count</th>\n",
       "      <th>time_mean</th>\n",
       "      <th>time_median</th>\n",
       "      <th>time_std</th>\n",
       "    </tr>\n",
       "  </thead>\n",
       "  <tbody>\n",
       "    <tr>\n",
       "      <th>0</th>\n",
       "      <td>91a3c57b13234af24875c56fb7e2b2f4rb56a</td>\n",
       "      <td>a3d2de7675556553a5f08e4c88d2c228754av</td>\n",
       "      <td>a3d2de7675556553a5f08e4c88d2c228vt0u4</td>\n",
       "      <td>0.0</td>\n",
       "      <td>18</td>\n",
       "      <td>1</td>\n",
       "      <td>14</td>\n",
       "      <td>6</td>\n",
       "      <td>20</td>\n",
       "      <td>1</td>\n",
       "      <td>5.711121e+11</td>\n",
       "      <td>3.458421e+11</td>\n",
       "      <td>7.438736e+11</td>\n",
       "    </tr>\n",
       "    <tr>\n",
       "      <th>1</th>\n",
       "      <td>624f258b49e77713fc34034560f93fb3hu3jo</td>\n",
       "      <td>a3d2de7675556553a5f08e4c88d2c228v1sga</td>\n",
       "      <td>ae87054e5a97a8f840a3991d12611fdcrfbq3</td>\n",
       "      <td>0.0</td>\n",
       "      <td>1</td>\n",
       "      <td>1</td>\n",
       "      <td>2</td>\n",
       "      <td>1</td>\n",
       "      <td>3</td>\n",
       "      <td>2</td>\n",
       "      <td>3.233579e+12</td>\n",
       "      <td>3.233579e+12</td>\n",
       "      <td>1.759654e+12</td>\n",
       "    </tr>\n",
       "    <tr>\n",
       "      <th>2</th>\n",
       "      <td>1c5f4fc669099bfbfac515cd26997bd12ruaj</td>\n",
       "      <td>a3d2de7675556553a5f08e4c88d2c2280cybl</td>\n",
       "      <td>92520288b50f03907041887884ba49c0cl0pd</td>\n",
       "      <td>0.0</td>\n",
       "      <td>4</td>\n",
       "      <td>1</td>\n",
       "      <td>2</td>\n",
       "      <td>1</td>\n",
       "      <td>4</td>\n",
       "      <td>2</td>\n",
       "      <td>2.379000e+12</td>\n",
       "      <td>2.532053e+12</td>\n",
       "      <td>8.618847e+11</td>\n",
       "    </tr>\n",
       "    <tr>\n",
       "      <th>3</th>\n",
       "      <td>4bee9aba2abda51bf43d639013d6efe12iycd</td>\n",
       "      <td>51d80e233f7b6a7dfdee484a3c120f3b2ita8</td>\n",
       "      <td>4cb9717c8ad7e88a9a284989dd79b98dbevyi</td>\n",
       "      <td>0.0</td>\n",
       "      <td>1</td>\n",
       "      <td>1</td>\n",
       "      <td>1</td>\n",
       "      <td>1</td>\n",
       "      <td>1</td>\n",
       "      <td>1</td>\n",
       "      <td>0.000000e+00</td>\n",
       "      <td>0.000000e+00</td>\n",
       "      <td>0.000000e+00</td>\n",
       "    </tr>\n",
       "    <tr>\n",
       "      <th>4</th>\n",
       "      <td>4ab12bc61c82ddd9c2d65e60555808acqgos1</td>\n",
       "      <td>a3d2de7675556553a5f08e4c88d2c22857ddh</td>\n",
       "      <td>2a96c3ce94b3be921e0296097b88b56a7x1ji</td>\n",
       "      <td>0.0</td>\n",
       "      <td>23</td>\n",
       "      <td>1</td>\n",
       "      <td>53</td>\n",
       "      <td>2</td>\n",
       "      <td>123</td>\n",
       "      <td>91</td>\n",
       "      <td>7.777888e+10</td>\n",
       "      <td>1.368421e+10</td>\n",
       "      <td>2.154285e+11</td>\n",
       "    </tr>\n",
       "  </tbody>\n",
       "</table>\n",
       "</div>"
      ],
      "text/plain": [
       "                               bidder_id  \\\n",
       "0  91a3c57b13234af24875c56fb7e2b2f4rb56a   \n",
       "1  624f258b49e77713fc34034560f93fb3hu3jo   \n",
       "2  1c5f4fc669099bfbfac515cd26997bd12ruaj   \n",
       "3  4bee9aba2abda51bf43d639013d6efe12iycd   \n",
       "4  4ab12bc61c82ddd9c2d65e60555808acqgos1   \n",
       "\n",
       "                         payment_account  \\\n",
       "0  a3d2de7675556553a5f08e4c88d2c228754av   \n",
       "1  a3d2de7675556553a5f08e4c88d2c228v1sga   \n",
       "2  a3d2de7675556553a5f08e4c88d2c2280cybl   \n",
       "3  51d80e233f7b6a7dfdee484a3c120f3b2ita8   \n",
       "4  a3d2de7675556553a5f08e4c88d2c22857ddh   \n",
       "\n",
       "                                 address  outcome  auction_count  \\\n",
       "0  a3d2de7675556553a5f08e4c88d2c228vt0u4      0.0             18   \n",
       "1  ae87054e5a97a8f840a3991d12611fdcrfbq3      0.0              1   \n",
       "2  92520288b50f03907041887884ba49c0cl0pd      0.0              4   \n",
       "3  4cb9717c8ad7e88a9a284989dd79b98dbevyi      0.0              1   \n",
       "4  2a96c3ce94b3be921e0296097b88b56a7x1ji      0.0             23   \n",
       "\n",
       "   merchandise_count  device_count  country_count  ip_count  url_count  \\\n",
       "0                  1            14              6        20          1   \n",
       "1                  1             2              1         3          2   \n",
       "2                  1             2              1         4          2   \n",
       "3                  1             1              1         1          1   \n",
       "4                  1            53              2       123         91   \n",
       "\n",
       "      time_mean   time_median      time_std  \n",
       "0  5.711121e+11  3.458421e+11  7.438736e+11  \n",
       "1  3.233579e+12  3.233579e+12  1.759654e+12  \n",
       "2  2.379000e+12  2.532053e+12  8.618847e+11  \n",
       "3  0.000000e+00  0.000000e+00  0.000000e+00  \n",
       "4  7.777888e+10  1.368421e+10  2.154285e+11  "
      ]
     },
     "execution_count": 100,
     "metadata": {},
     "output_type": "execute_result"
    }
   ],
   "source": [
    "# merged_bidders = train.merge(bidders, how= \"left\", on=\"bidder_id\")\n",
    "# Since the bidders who never bid are all human, just ignore them with inner join \n",
    "merged_bidders = train.merge(bidders, how= \"inner\", on=\"bidder_id\")\n",
    "\n",
    "print(merged_bidders.shape)\n",
    "merged_bidders.head()"
   ]
  },
  {
   "cell_type": "markdown",
   "id": "d3094007",
   "metadata": {},
   "source": [
    "Since each bidder in train dataset has corresponding unique payment account and address, and bidder_id is also a unique id that won't be useful for machine lerning. <br>\n",
    "These three columns could be dropped."
   ]
  },
  {
   "cell_type": "code",
   "execution_count": 101,
   "id": "a4d97403",
   "metadata": {},
   "outputs": [
    {
     "name": "stdout",
     "output_type": "stream",
     "text": [
      "(1983, 10)\n"
     ]
    },
    {
     "data": {
      "text/html": [
       "<div>\n",
       "<style scoped>\n",
       "    .dataframe tbody tr th:only-of-type {\n",
       "        vertical-align: middle;\n",
       "    }\n",
       "\n",
       "    .dataframe tbody tr th {\n",
       "        vertical-align: top;\n",
       "    }\n",
       "\n",
       "    .dataframe thead th {\n",
       "        text-align: right;\n",
       "    }\n",
       "</style>\n",
       "<table border=\"1\" class=\"dataframe\">\n",
       "  <thead>\n",
       "    <tr style=\"text-align: right;\">\n",
       "      <th></th>\n",
       "      <th>outcome</th>\n",
       "      <th>auction_count</th>\n",
       "      <th>merchandise_count</th>\n",
       "      <th>device_count</th>\n",
       "      <th>country_count</th>\n",
       "      <th>ip_count</th>\n",
       "      <th>url_count</th>\n",
       "      <th>time_mean</th>\n",
       "      <th>time_median</th>\n",
       "      <th>time_std</th>\n",
       "    </tr>\n",
       "  </thead>\n",
       "  <tbody>\n",
       "    <tr>\n",
       "      <th>0</th>\n",
       "      <td>0.0</td>\n",
       "      <td>18</td>\n",
       "      <td>1</td>\n",
       "      <td>14</td>\n",
       "      <td>6</td>\n",
       "      <td>20</td>\n",
       "      <td>1</td>\n",
       "      <td>5.711121e+11</td>\n",
       "      <td>3.458421e+11</td>\n",
       "      <td>7.438736e+11</td>\n",
       "    </tr>\n",
       "    <tr>\n",
       "      <th>1</th>\n",
       "      <td>0.0</td>\n",
       "      <td>1</td>\n",
       "      <td>1</td>\n",
       "      <td>2</td>\n",
       "      <td>1</td>\n",
       "      <td>3</td>\n",
       "      <td>2</td>\n",
       "      <td>3.233579e+12</td>\n",
       "      <td>3.233579e+12</td>\n",
       "      <td>1.759654e+12</td>\n",
       "    </tr>\n",
       "    <tr>\n",
       "      <th>2</th>\n",
       "      <td>0.0</td>\n",
       "      <td>4</td>\n",
       "      <td>1</td>\n",
       "      <td>2</td>\n",
       "      <td>1</td>\n",
       "      <td>4</td>\n",
       "      <td>2</td>\n",
       "      <td>2.379000e+12</td>\n",
       "      <td>2.532053e+12</td>\n",
       "      <td>8.618847e+11</td>\n",
       "    </tr>\n",
       "    <tr>\n",
       "      <th>3</th>\n",
       "      <td>0.0</td>\n",
       "      <td>1</td>\n",
       "      <td>1</td>\n",
       "      <td>1</td>\n",
       "      <td>1</td>\n",
       "      <td>1</td>\n",
       "      <td>1</td>\n",
       "      <td>0.000000e+00</td>\n",
       "      <td>0.000000e+00</td>\n",
       "      <td>0.000000e+00</td>\n",
       "    </tr>\n",
       "    <tr>\n",
       "      <th>4</th>\n",
       "      <td>0.0</td>\n",
       "      <td>23</td>\n",
       "      <td>1</td>\n",
       "      <td>53</td>\n",
       "      <td>2</td>\n",
       "      <td>123</td>\n",
       "      <td>91</td>\n",
       "      <td>7.777888e+10</td>\n",
       "      <td>1.368421e+10</td>\n",
       "      <td>2.154285e+11</td>\n",
       "    </tr>\n",
       "  </tbody>\n",
       "</table>\n",
       "</div>"
      ],
      "text/plain": [
       "   outcome  auction_count  merchandise_count  device_count  country_count  \\\n",
       "0      0.0             18                  1            14              6   \n",
       "1      0.0              1                  1             2              1   \n",
       "2      0.0              4                  1             2              1   \n",
       "3      0.0              1                  1             1              1   \n",
       "4      0.0             23                  1            53              2   \n",
       "\n",
       "   ip_count  url_count     time_mean   time_median      time_std  \n",
       "0        20          1  5.711121e+11  3.458421e+11  7.438736e+11  \n",
       "1         3          2  3.233579e+12  3.233579e+12  1.759654e+12  \n",
       "2         4          2  2.379000e+12  2.532053e+12  8.618847e+11  \n",
       "3         1          1  0.000000e+00  0.000000e+00  0.000000e+00  \n",
       "4       123         91  7.777888e+10  1.368421e+10  2.154285e+11  "
      ]
     },
     "execution_count": 101,
     "metadata": {},
     "output_type": "execute_result"
    }
   ],
   "source": [
    "merged_bidders = merged_bidders.drop(columns=[\"bidder_id\", \"payment_account\", \"address\"])\n",
    "print(merged_bidders.shape)\n",
    "merged_bidders.head()"
   ]
  },
  {
   "cell_type": "code",
   "execution_count": 102,
   "id": "b4650a11",
   "metadata": {},
   "outputs": [
    {
     "data": {
      "text/plain": [
       "outcome              0\n",
       "auction_count        0\n",
       "merchandise_count    0\n",
       "device_count         0\n",
       "country_count        0\n",
       "ip_count             0\n",
       "url_count            0\n",
       "time_mean            0\n",
       "time_median          0\n",
       "time_std             0\n",
       "dtype: int64"
      ]
     },
     "execution_count": 102,
     "metadata": {},
     "output_type": "execute_result"
    }
   ],
   "source": [
    "# Check the null value\n",
    "merged_bidders.isnull().sum()"
   ]
  },
  {
   "cell_type": "code",
   "execution_count": 343,
   "id": "fbfc2923",
   "metadata": {},
   "outputs": [],
   "source": [
    "# Fill the bidder who never bids with the average value of the dataframe\n",
    "merged_bidders.fillna(merged_bidders.mean(), inplace=True)"
   ]
  },
  {
   "cell_type": "code",
   "execution_count": 344,
   "id": "7a2716f9",
   "metadata": {},
   "outputs": [
    {
     "data": {
      "text/plain": [
       "outcome                    0\n",
       "auction_nunique_num        0\n",
       "merchandise_nunique_num    0\n",
       "device_nunique_num         0\n",
       "country_nunique_num        0\n",
       "                          ..\n",
       "country_pr                 0\n",
       "country_mo                 0\n",
       "country_gy                 0\n",
       "country_tm                 0\n",
       "country_gl                 0\n",
       "Length: 189, dtype: int64"
      ]
     },
     "execution_count": 344,
     "metadata": {},
     "output_type": "execute_result"
    }
   ],
   "source": [
    "merged_bidders.isnull().sum()"
   ]
  },
  {
   "cell_type": "markdown",
   "id": "ef2c1015",
   "metadata": {},
   "source": [
    "If only use bidders.csv to train the model and get the importances, merchandise_count has 0 important score. Therefore, it should be drop for further analysis."
   ]
  },
  {
   "cell_type": "markdown",
   "id": "4009e706",
   "metadata": {},
   "source": [
    "\tFeatures\tFeature Score<br>\n",
    "0.\ttime_median\t   0.241426 <br>\n",
    "1.\ttime_mean\t   0.221284<br>\n",
    "2.\tauction_count\t0.130564<br>\n",
    "3.\tip_count\t    0.114091<br>\n",
    "4.\ttime_std\t    0.106800<br>\n",
    "5.\tdevice_count\t0.066883<br>\n",
    "6.\turl_count\t0.064681<br>\n",
    "7.\tcountry_count\t0.054271<br>\n",
    "8.\tmerchandise_count\t0.000000<br>"
   ]
  },
  {
   "cell_type": "code",
   "execution_count": 171,
   "id": "b91d307a",
   "metadata": {},
   "outputs": [
    {
     "name": "stdout",
     "output_type": "stream",
     "text": [
      "(1983, 9)\n"
     ]
    },
    {
     "data": {
      "text/html": [
       "<div>\n",
       "<style scoped>\n",
       "    .dataframe tbody tr th:only-of-type {\n",
       "        vertical-align: middle;\n",
       "    }\n",
       "\n",
       "    .dataframe tbody tr th {\n",
       "        vertical-align: top;\n",
       "    }\n",
       "\n",
       "    .dataframe thead th {\n",
       "        text-align: right;\n",
       "    }\n",
       "</style>\n",
       "<table border=\"1\" class=\"dataframe\">\n",
       "  <thead>\n",
       "    <tr style=\"text-align: right;\">\n",
       "      <th></th>\n",
       "      <th>outcome</th>\n",
       "      <th>auction_count</th>\n",
       "      <th>device_count</th>\n",
       "      <th>country_count</th>\n",
       "      <th>ip_count</th>\n",
       "      <th>url_count</th>\n",
       "      <th>time_mean</th>\n",
       "      <th>time_median</th>\n",
       "      <th>time_std</th>\n",
       "    </tr>\n",
       "  </thead>\n",
       "  <tbody>\n",
       "    <tr>\n",
       "      <th>0</th>\n",
       "      <td>0.0</td>\n",
       "      <td>18</td>\n",
       "      <td>14</td>\n",
       "      <td>6</td>\n",
       "      <td>20</td>\n",
       "      <td>1</td>\n",
       "      <td>5.711121e+11</td>\n",
       "      <td>3.458421e+11</td>\n",
       "      <td>7.438736e+11</td>\n",
       "    </tr>\n",
       "    <tr>\n",
       "      <th>1</th>\n",
       "      <td>0.0</td>\n",
       "      <td>1</td>\n",
       "      <td>2</td>\n",
       "      <td>1</td>\n",
       "      <td>3</td>\n",
       "      <td>2</td>\n",
       "      <td>3.233579e+12</td>\n",
       "      <td>3.233579e+12</td>\n",
       "      <td>1.759654e+12</td>\n",
       "    </tr>\n",
       "    <tr>\n",
       "      <th>2</th>\n",
       "      <td>0.0</td>\n",
       "      <td>4</td>\n",
       "      <td>2</td>\n",
       "      <td>1</td>\n",
       "      <td>4</td>\n",
       "      <td>2</td>\n",
       "      <td>2.379000e+12</td>\n",
       "      <td>2.532053e+12</td>\n",
       "      <td>8.618847e+11</td>\n",
       "    </tr>\n",
       "    <tr>\n",
       "      <th>3</th>\n",
       "      <td>0.0</td>\n",
       "      <td>1</td>\n",
       "      <td>1</td>\n",
       "      <td>1</td>\n",
       "      <td>1</td>\n",
       "      <td>1</td>\n",
       "      <td>0.000000e+00</td>\n",
       "      <td>0.000000e+00</td>\n",
       "      <td>0.000000e+00</td>\n",
       "    </tr>\n",
       "    <tr>\n",
       "      <th>4</th>\n",
       "      <td>0.0</td>\n",
       "      <td>23</td>\n",
       "      <td>53</td>\n",
       "      <td>2</td>\n",
       "      <td>123</td>\n",
       "      <td>91</td>\n",
       "      <td>7.777888e+10</td>\n",
       "      <td>1.368421e+10</td>\n",
       "      <td>2.154285e+11</td>\n",
       "    </tr>\n",
       "  </tbody>\n",
       "</table>\n",
       "</div>"
      ],
      "text/plain": [
       "   outcome  auction_count  device_count  country_count  ip_count  url_count  \\\n",
       "0      0.0             18            14              6        20          1   \n",
       "1      0.0              1             2              1         3          2   \n",
       "2      0.0              4             2              1         4          2   \n",
       "3      0.0              1             1              1         1          1   \n",
       "4      0.0             23            53              2       123         91   \n",
       "\n",
       "      time_mean   time_median      time_std  \n",
       "0  5.711121e+11  3.458421e+11  7.438736e+11  \n",
       "1  3.233579e+12  3.233579e+12  1.759654e+12  \n",
       "2  2.379000e+12  2.532053e+12  8.618847e+11  \n",
       "3  0.000000e+00  0.000000e+00  0.000000e+00  \n",
       "4  7.777888e+10  1.368421e+10  2.154285e+11  "
      ]
     },
     "execution_count": 171,
     "metadata": {},
     "output_type": "execute_result"
    }
   ],
   "source": [
    "#  drop merchandise_count\n",
    "merged_bidders = merged_bidders.drop(columns=[\"merchandise_count\"])\n",
    "# merged_bidders = merged_bidders.drop(columns=[\"merchandise_count_x\", \"merchandise_count_y\"])\n",
    "print(merged_bidders.shape)\n",
    "merged_bidders.head()"
   ]
  },
  {
   "cell_type": "code",
   "execution_count": null,
   "id": "691db12a",
   "metadata": {},
   "outputs": [],
   "source": []
  },
  {
   "cell_type": "code",
   "execution_count": null,
   "id": "bc831a36",
   "metadata": {},
   "outputs": [],
   "source": []
  },
  {
   "cell_type": "code",
   "execution_count": 15,
   "id": "c4e95b68",
   "metadata": {},
   "outputs": [],
   "source": [
    "# merged_bidders.to_csv(\"./Resources/merged_bidders.csv\", index=False)"
   ]
  },
  {
   "cell_type": "markdown",
   "id": "a0a72a48",
   "metadata": {},
   "source": [
    "#### Spilt and scale the data"
   ]
  },
  {
   "cell_type": "code",
   "execution_count": 172,
   "id": "5e45a5ef",
   "metadata": {},
   "outputs": [],
   "source": [
    "# Split our preprocessed data into features and target arrays\n",
    "y = merged_bidders[\"outcome\"].values\n",
    "X = merged_bidders.drop(columns= \"outcome\", axis= 1).values\n",
    "\n",
    "# Split the preprocessed data into a training and testing dataset\n",
    "# Default\n",
    "X_train, X_test, y_train, y_test = train_test_split(X, y, random_state=42, stratify=y)\n",
    "\n",
    "# Customize the split size\n",
    "# X_train, X_test, y_train, y_test = train_test_split(X, y, random_state=42, stratify=y, test_size=0.5)"
   ]
  },
  {
   "cell_type": "code",
   "execution_count": 173,
   "id": "f9ea8c39",
   "metadata": {},
   "outputs": [],
   "source": [
    "# Create a Scaler instances: Try two scaler\n",
    "scaler = StandardScaler()\n",
    "# scaler = MinMaxScaler()\n",
    "\n",
    "# Fit the StandardScaler\n",
    "X_scaler = scaler.fit(X_train)\n",
    "\n",
    "# Scale the data\n",
    "X_train_scaled = X_scaler.transform(X_train)\n",
    "X_test_scaled = X_scaler.transform(X_test)"
   ]
  },
  {
   "cell_type": "markdown",
   "id": "55b1750b",
   "metadata": {},
   "source": [
    "#### Balanced RandomForest Classifier"
   ]
  },
  {
   "cell_type": "code",
   "execution_count": 174,
   "id": "01c9030a",
   "metadata": {},
   "outputs": [],
   "source": [
    "from imblearn.ensemble import BalancedRandomForestClassifier\n",
    "model = BalancedRandomForestClassifier(n_estimators=250, random_state=42)\n",
    "model.fit(X_train, y_train)\n",
    "y_pred = model.predict(X_test)"
   ]
  },
  {
   "cell_type": "code",
   "execution_count": 175,
   "id": "8ccd2084",
   "metadata": {},
   "outputs": [
    {
     "name": "stdout",
     "output_type": "stream",
     "text": [
      "Accuracy Score: 0.8519639934533552\n",
      "Confusion Matrix\n"
     ]
    },
    {
     "data": {
      "image/png": "[encoded data removed]",
      "text/plain": [
       "<Figure size 432x288 with 2 Axes>"
      ]
     },
     "metadata": {
      "needs_background": "light"
     },
     "output_type": "display_data"
    },
    {
     "name": "stdout",
     "output_type": "stream",
     "text": [
      "Classification Report:\n",
      "                    pre       rec       spe        f1       geo       iba       sup\n",
      "\n",
      "        0.0       0.99      0.78      0.92      0.87      0.85      0.71       470\n",
      "        1.0       0.19      0.92      0.78      0.31      0.85      0.73        26\n",
      "\n",
      "avg / total       0.95      0.79      0.92      0.85      0.85      0.71       496\n",
      "\n"
     ]
    }
   ],
   "source": [
    "print(f\"Accuracy Score: {balanced_accuracy_score(y_test, y_pred)}\")\n",
    "\n",
    "# Plot the confusion matrix\n",
    "import matplotlib.pyplot as plt\n",
    "from sklearn.metrics import plot_confusion_matrix\n",
    "print(\"Confusion Matrix\")\n",
    "plot_confusion_matrix(model, X_test, y_test, cmap=plt.cm.Blues)  \n",
    "plt.show()\n",
    "\n",
    "print(f\"Classification Report:\\n {classification_report_imbalanced(y_test, y_pred)}\")"
   ]
  },
  {
   "cell_type": "code",
   "execution_count": 176,
   "id": "9d6f451f",
   "metadata": {},
   "outputs": [
    {
     "data": {
      "text/html": [
       "<div>\n",
       "<style scoped>\n",
       "    .dataframe tbody tr th:only-of-type {\n",
       "        vertical-align: middle;\n",
       "    }\n",
       "\n",
       "    .dataframe tbody tr th {\n",
       "        vertical-align: top;\n",
       "    }\n",
       "\n",
       "    .dataframe thead th {\n",
       "        text-align: right;\n",
       "    }\n",
       "</style>\n",
       "<table border=\"1\" class=\"dataframe\">\n",
       "  <thead>\n",
       "    <tr style=\"text-align: right;\">\n",
       "      <th></th>\n",
       "      <th>Features</th>\n",
       "      <th>Feature Score</th>\n",
       "    </tr>\n",
       "  </thead>\n",
       "  <tbody>\n",
       "    <tr>\n",
       "      <th>0</th>\n",
       "      <td>time_mean</td>\n",
       "      <td>0.217142</td>\n",
       "    </tr>\n",
       "    <tr>\n",
       "      <th>1</th>\n",
       "      <td>time_median</td>\n",
       "      <td>0.208423</td>\n",
       "    </tr>\n",
       "    <tr>\n",
       "      <th>2</th>\n",
       "      <td>auction_count</td>\n",
       "      <td>0.135815</td>\n",
       "    </tr>\n",
       "    <tr>\n",
       "      <th>3</th>\n",
       "      <td>ip_count</td>\n",
       "      <td>0.111009</td>\n",
       "    </tr>\n",
       "    <tr>\n",
       "      <th>4</th>\n",
       "      <td>time_std</td>\n",
       "      <td>0.104005</td>\n",
       "    </tr>\n",
       "    <tr>\n",
       "      <th>5</th>\n",
       "      <td>device_count</td>\n",
       "      <td>0.091756</td>\n",
       "    </tr>\n",
       "    <tr>\n",
       "      <th>6</th>\n",
       "      <td>url_count</td>\n",
       "      <td>0.077560</td>\n",
       "    </tr>\n",
       "    <tr>\n",
       "      <th>7</th>\n",
       "      <td>country_count</td>\n",
       "      <td>0.054290</td>\n",
       "    </tr>\n",
       "  </tbody>\n",
       "</table>\n",
       "</div>"
      ],
      "text/plain": [
       "        Features  Feature Score\n",
       "0      time_mean       0.217142\n",
       "1    time_median       0.208423\n",
       "2  auction_count       0.135815\n",
       "3       ip_count       0.111009\n",
       "4       time_std       0.104005\n",
       "5   device_count       0.091756\n",
       "6      url_count       0.077560\n",
       "7  country_count       0.054290"
      ]
     },
     "execution_count": 176,
     "metadata": {},
     "output_type": "execute_result"
    }
   ],
   "source": [
    "# List the features sorted in descending order by feature importance\n",
    "x = merged_bidders.drop(columns= \"outcome\", axis= 1)\n",
    "import_score = model.fit(X_train, y_train).feature_importances_\n",
    "import_rank = sorted(zip(import_score, x.columns), reverse=True)\n",
    "importances = pd.DataFrame(import_rank, columns=[\"Feature Score\", \"Features\"])\n",
    "importances = importances[[\"Features\", \"Feature Score\"]]\n",
    "importances.head(10)"
   ]
  },
  {
   "cell_type": "markdown",
   "id": "23ff3013",
   "metadata": {},
   "source": [
    "#### Easy Ensemble Classifier"
   ]
  },
  {
   "cell_type": "code",
   "execution_count": 177,
   "id": "93a0b792",
   "metadata": {},
   "outputs": [],
   "source": [
    "from imblearn.ensemble import EasyEnsembleClassifier\n",
    "model = EasyEnsembleClassifier(n_estimators=200 ,random_state=42)\n",
    "model.fit(X_train, y_train)\n",
    "y_pred = model.predict(X_test)"
   ]
  },
  {
   "cell_type": "code",
   "execution_count": 178,
   "id": "f14b7986",
   "metadata": {},
   "outputs": [
    {
     "name": "stdout",
     "output_type": "stream",
     "text": [
      "Accuracy Score: 0.8540916530278233\n",
      "Confusion Matrix\n"
     ]
    },
    {
     "data": {
      "image/png": "[encoded data removed]",
      "text/plain": [
       "<Figure size 432x288 with 2 Axes>"
      ]
     },
     "metadata": {
      "needs_background": "light"
     },
     "output_type": "display_data"
    },
    {
     "name": "stdout",
     "output_type": "stream",
     "text": [
      "Classification Report:\n",
      "                    pre       rec       spe        f1       geo       iba       sup\n",
      "\n",
      "        0.0       0.99      0.79      0.92      0.88      0.85      0.71       470\n",
      "        1.0       0.19      0.92      0.79      0.32      0.85      0.73        26\n",
      "\n",
      "avg / total       0.95      0.79      0.92      0.85      0.85      0.72       496\n",
      "\n"
     ]
    }
   ],
   "source": [
    "print(f\"Accuracy Score: {balanced_accuracy_score(y_test, y_pred)}\")\n",
    "\n",
    "# Plot the confusion matrix\n",
    "print(\"Confusion Matrix\")\n",
    "plot_confusion_matrix(model, X_test, y_test, cmap=plt.cm.Blues)  \n",
    "plt.show()\n",
    "\n",
    "print(f\"Classification Report:\\n {classification_report_imbalanced(y_test, y_pred)}\")"
   ]
  },
  {
   "cell_type": "markdown",
   "id": "2d44d9aa",
   "metadata": {},
   "source": [
    "#### Gradient Boosting Classifier"
   ]
  },
  {
   "cell_type": "code",
   "execution_count": 179,
   "id": "f8f2103a",
   "metadata": {},
   "outputs": [],
   "source": [
    "from sklearn.ensemble import GradientBoostingClassifier\n",
    "model = GradientBoostingClassifier(n_estimators=200, random_state= 42, max_depth=5)\n",
    "model.fit(X_train, y_train)\n",
    "y_pred = model.predict(X_test)"
   ]
  },
  {
   "cell_type": "code",
   "execution_count": 180,
   "id": "5810fac6",
   "metadata": {},
   "outputs": [
    {
     "name": "stdout",
     "output_type": "stream",
     "text": [
      "Accuracy Score: 0.6047463175122749\n",
      "Confusion Matrix\n"
     ]
    },
    {
     "data": {
      "image/png": "[encoded data removed]",
      "text/plain": [
       "<Figure size 432x288 with 2 Axes>"
      ]
     },
     "metadata": {
      "needs_background": "light"
     },
     "output_type": "display_data"
    },
    {
     "name": "stdout",
     "output_type": "stream",
     "text": [
      "Classification Report:\n",
      "                    pre       rec       spe        f1       geo       iba       sup\n",
      "\n",
      "        0.0       0.96      0.98      0.23      0.97      0.48      0.24       470\n",
      "        1.0       0.38      0.23      0.98      0.29      0.48      0.21        26\n",
      "\n",
      "avg / total       0.93      0.94      0.27      0.93      0.48      0.24       496\n",
      "\n"
     ]
    }
   ],
   "source": [
    "print(f\"Accuracy Score: {balanced_accuracy_score(y_test, y_pred)}\")\n",
    "\n",
    "# Plot the confusion matrix\n",
    "print(\"Confusion Matrix\")\n",
    "plot_confusion_matrix(model, X_test, y_test, cmap=plt.cm.Blues)  \n",
    "plt.show()\n",
    "\n",
    "print(f\"Classification Report:\\n {classification_report_imbalanced(y_test, y_pred)}\")"
   ]
  },
  {
   "cell_type": "markdown",
   "id": "36433033",
   "metadata": {},
   "source": [
    "#### Random Forest Classifier"
   ]
  },
  {
   "cell_type": "code",
   "execution_count": 24,
   "id": "eecb42b7",
   "metadata": {},
   "outputs": [],
   "source": [
    "from sklearn.ensemble import RandomForestClassifier"
   ]
  },
  {
   "cell_type": "code",
   "execution_count": 183,
   "id": "240591fd",
   "metadata": {},
   "outputs": [],
   "source": [
    "model = RandomForestClassifier(n_estimators=200, max_depth=5, random_state=42, bootstrap=True, oob_score=True)\n",
    "\n",
    "model.fit(X_train, y_train)\n",
    "y_pred = model.predict(X_test)"
   ]
  },
  {
   "cell_type": "code",
   "execution_count": 184,
   "id": "f7539b4b",
   "metadata": {},
   "outputs": [
    {
     "name": "stdout",
     "output_type": "stream",
     "text": [
      "Accuracy Score: 0.5192307692307693\n",
      "Confusion Matrix\n"
     ]
    },
    {
     "data": {
      "image/png": "[encoded data removed]",
      "text/plain": [
       "<Figure size 432x288 with 2 Axes>"
      ]
     },
     "metadata": {
      "needs_background": "light"
     },
     "output_type": "display_data"
    },
    {
     "name": "stdout",
     "output_type": "stream",
     "text": [
      "Classification Report:\n",
      "                    pre       rec       spe        f1       geo       iba       sup\n",
      "\n",
      "        0.0       0.95      1.00      0.04      0.97      0.20      0.04       470\n",
      "        1.0       1.00      0.04      1.00      0.07      0.20      0.03        26\n",
      "\n",
      "avg / total       0.95      0.95      0.09      0.93      0.20      0.04       496\n",
      "\n"
     ]
    }
   ],
   "source": [
    "print(f\"Accuracy Score: {balanced_accuracy_score(y_test, y_pred)}\")\n",
    "\n",
    "# Plot the confusion matrix\n",
    "print(\"Confusion Matrix\")\n",
    "plot_confusion_matrix(model, X_test, y_test, cmap=plt.cm.Blues)  \n",
    "plt.show()\n",
    "\n",
    "print(f\"Classification Report:\\n {classification_report_imbalanced(y_test, y_pred)}\")"
   ]
  },
  {
   "cell_type": "markdown",
   "id": "1f24a23d",
   "metadata": {},
   "source": [
    "#### Ada Boost Classifier"
   ]
  },
  {
   "cell_type": "code",
   "execution_count": 185,
   "id": "fdf247f0",
   "metadata": {},
   "outputs": [],
   "source": [
    "from sklearn.ensemble import AdaBoostClassifier\n",
    "model = AdaBoostClassifier(n_estimators=300, random_state=42)\n",
    "model.fit(X_train, y_train)\n",
    "y_pred = model.predict(X_test)"
   ]
  },
  {
   "cell_type": "code",
   "execution_count": 186,
   "id": "8d27f289",
   "metadata": {},
   "outputs": [
    {
     "name": "stdout",
     "output_type": "stream",
     "text": [
      "Accuracy Score: 0.5844517184942717\n",
      "Confusion Matrix\n"
     ]
    },
    {
     "data": {
      "image/png": "[encoded data removed]",
      "text/plain": [
       "<Figure size 432x288 with 2 Axes>"
      ]
     },
     "metadata": {
      "needs_background": "light"
     },
     "output_type": "display_data"
    },
    {
     "name": "stdout",
     "output_type": "stream",
     "text": [
      "Classification Report:\n",
      "                    pre       rec       spe        f1       geo       iba       sup\n",
      "\n",
      "        0.0       0.96      0.98      0.19      0.97      0.43      0.20       470\n",
      "        1.0       0.31      0.19      0.98      0.24      0.43      0.17        26\n",
      "\n",
      "avg / total       0.92      0.94      0.23      0.93      0.43      0.20       496\n",
      "\n"
     ]
    }
   ],
   "source": [
    "print(f\"Accuracy Score: {balanced_accuracy_score(y_test, y_pred)}\")\n",
    "\n",
    "# Plot the confusion matrix\n",
    "print(\"Confusion Matrix\")\n",
    "plot_confusion_matrix(model, X_test, y_test, cmap=plt.cm.Blues)  \n",
    "plt.show()\n",
    "\n",
    "print(f\"Classification Report:\\n {classification_report_imbalanced(y_test, y_pred)}\")"
   ]
  },
  {
   "cell_type": "code",
   "execution_count": null,
   "id": "2247488e",
   "metadata": {},
   "outputs": [],
   "source": []
  },
  {
   "cell_type": "code",
   "execution_count": null,
   "id": "2aadc967",
   "metadata": {},
   "outputs": [],
   "source": []
  },
  {
   "cell_type": "markdown",
   "id": "ee2daf2e",
   "metadata": {},
   "source": [
    "### Submission"
   ]
  },
  {
   "cell_type": "code",
   "execution_count": 326,
   "id": "515ec681",
   "metadata": {},
   "outputs": [],
   "source": [
    "test = pd.read_csv(\"./Resources/test.csv\")"
   ]
  },
  {
   "cell_type": "code",
   "execution_count": 327,
   "id": "ff2c3111",
   "metadata": {},
   "outputs": [
    {
     "data": {
      "text/html": [
       "<div>\n",
       "<style scoped>\n",
       "    .dataframe tbody tr th:only-of-type {\n",
       "        vertical-align: middle;\n",
       "    }\n",
       "\n",
       "    .dataframe tbody tr th {\n",
       "        vertical-align: top;\n",
       "    }\n",
       "\n",
       "    .dataframe thead th {\n",
       "        text-align: right;\n",
       "    }\n",
       "</style>\n",
       "<table border=\"1\" class=\"dataframe\">\n",
       "  <thead>\n",
       "    <tr style=\"text-align: right;\">\n",
       "      <th></th>\n",
       "      <th>bidder_id</th>\n",
       "      <th>payment_account</th>\n",
       "      <th>address</th>\n",
       "      <th>auction_nunique_num</th>\n",
       "      <th>merchandise_nunique_num</th>\n",
       "      <th>device_nunique_num</th>\n",
       "      <th>country_nunique_num</th>\n",
       "      <th>ip_nunique_num</th>\n",
       "      <th>url_nunique_num</th>\n",
       "      <th>time_mean</th>\n",
       "      <th>...</th>\n",
       "      <th>country_zz</th>\n",
       "      <th>country_bs</th>\n",
       "      <th>country_aw</th>\n",
       "      <th>country_gb</th>\n",
       "      <th>country_vi</th>\n",
       "      <th>country_mh</th>\n",
       "      <th>country_tc</th>\n",
       "      <th>country_an</th>\n",
       "      <th>country_er</th>\n",
       "      <th>country_gp</th>\n",
       "    </tr>\n",
       "  </thead>\n",
       "  <tbody>\n",
       "    <tr>\n",
       "      <th>0</th>\n",
       "      <td>49bb5a3c944b8fc337981cc7a9ccae41u31d7</td>\n",
       "      <td>a3d2de7675556553a5f08e4c88d2c228htx90</td>\n",
       "      <td>5d9fa1b71f992e7c7a106ce4b07a0a754le7c</td>\n",
       "      <td>3.0</td>\n",
       "      <td>1.0</td>\n",
       "      <td>2.0</td>\n",
       "      <td>3.0</td>\n",
       "      <td>4.0</td>\n",
       "      <td>3.0</td>\n",
       "      <td>2.340789e+13</td>\n",
       "      <td>...</td>\n",
       "      <td>0.0</td>\n",
       "      <td>0.0</td>\n",
       "      <td>0.0</td>\n",
       "      <td>0.0</td>\n",
       "      <td>0.0</td>\n",
       "      <td>0.0</td>\n",
       "      <td>0.0</td>\n",
       "      <td>0.0</td>\n",
       "      <td>0.0</td>\n",
       "      <td>0.0</td>\n",
       "    </tr>\n",
       "    <tr>\n",
       "      <th>1</th>\n",
       "      <td>a921612b85a1494456e74c09393ccb65ylp4y</td>\n",
       "      <td>a3d2de7675556553a5f08e4c88d2c228rs17i</td>\n",
       "      <td>a3d2de7675556553a5f08e4c88d2c228klidn</td>\n",
       "      <td>2.0</td>\n",
       "      <td>1.0</td>\n",
       "      <td>3.0</td>\n",
       "      <td>2.0</td>\n",
       "      <td>2.0</td>\n",
       "      <td>1.0</td>\n",
       "      <td>3.800103e+13</td>\n",
       "      <td>...</td>\n",
       "      <td>0.0</td>\n",
       "      <td>0.0</td>\n",
       "      <td>0.0</td>\n",
       "      <td>0.0</td>\n",
       "      <td>0.0</td>\n",
       "      <td>0.0</td>\n",
       "      <td>0.0</td>\n",
       "      <td>0.0</td>\n",
       "      <td>0.0</td>\n",
       "      <td>0.0</td>\n",
       "    </tr>\n",
       "    <tr>\n",
       "      <th>2</th>\n",
       "      <td>6b601e72a4d264dab9ace9d7b229b47479v6i</td>\n",
       "      <td>925381cce086b8cc9594eee1c77edf665zjpl</td>\n",
       "      <td>a3d2de7675556553a5f08e4c88d2c228aght0</td>\n",
       "      <td>14.0</td>\n",
       "      <td>1.0</td>\n",
       "      <td>4.0</td>\n",
       "      <td>3.0</td>\n",
       "      <td>4.0</td>\n",
       "      <td>2.0</td>\n",
       "      <td>1.819079e+10</td>\n",
       "      <td>...</td>\n",
       "      <td>0.0</td>\n",
       "      <td>0.0</td>\n",
       "      <td>0.0</td>\n",
       "      <td>0.0</td>\n",
       "      <td>0.0</td>\n",
       "      <td>0.0</td>\n",
       "      <td>0.0</td>\n",
       "      <td>0.0</td>\n",
       "      <td>0.0</td>\n",
       "      <td>0.0</td>\n",
       "    </tr>\n",
       "    <tr>\n",
       "      <th>3</th>\n",
       "      <td>eaf0ed0afc9689779417274b4791726cn5udi</td>\n",
       "      <td>a3d2de7675556553a5f08e4c88d2c228nclv5</td>\n",
       "      <td>b5714de1fd69d4a0d2e39d59e53fe9e15vwat</td>\n",
       "      <td>90.0</td>\n",
       "      <td>1.0</td>\n",
       "      <td>81.0</td>\n",
       "      <td>14.0</td>\n",
       "      <td>129.0</td>\n",
       "      <td>80.0</td>\n",
       "      <td>5.205553e+11</td>\n",
       "      <td>...</td>\n",
       "      <td>0.0</td>\n",
       "      <td>0.0</td>\n",
       "      <td>0.0</td>\n",
       "      <td>0.0</td>\n",
       "      <td>0.0</td>\n",
       "      <td>0.0</td>\n",
       "      <td>0.0</td>\n",
       "      <td>0.0</td>\n",
       "      <td>0.0</td>\n",
       "      <td>0.0</td>\n",
       "    </tr>\n",
       "    <tr>\n",
       "      <th>4</th>\n",
       "      <td>cdecd8d02ed8c6037e38042c7745f688mx5sf</td>\n",
       "      <td>a3d2de7675556553a5f08e4c88d2c228dtdkd</td>\n",
       "      <td>c3b363a3c3b838d58c85acf0fc9964cb4pnfa</td>\n",
       "      <td>20.0</td>\n",
       "      <td>1.0</td>\n",
       "      <td>17.0</td>\n",
       "      <td>2.0</td>\n",
       "      <td>17.0</td>\n",
       "      <td>1.0</td>\n",
       "      <td>2.988541e+11</td>\n",
       "      <td>...</td>\n",
       "      <td>0.0</td>\n",
       "      <td>0.0</td>\n",
       "      <td>0.0</td>\n",
       "      <td>0.0</td>\n",
       "      <td>0.0</td>\n",
       "      <td>0.0</td>\n",
       "      <td>0.0</td>\n",
       "      <td>0.0</td>\n",
       "      <td>0.0</td>\n",
       "      <td>0.0</td>\n",
       "    </tr>\n",
       "  </tbody>\n",
       "</table>\n",
       "<p>5 rows × 220 columns</p>\n",
       "</div>"
      ],
      "text/plain": [
       "                               bidder_id  \\\n",
       "0  49bb5a3c944b8fc337981cc7a9ccae41u31d7   \n",
       "1  a921612b85a1494456e74c09393ccb65ylp4y   \n",
       "2  6b601e72a4d264dab9ace9d7b229b47479v6i   \n",
       "3  eaf0ed0afc9689779417274b4791726cn5udi   \n",
       "4  cdecd8d02ed8c6037e38042c7745f688mx5sf   \n",
       "\n",
       "                         payment_account  \\\n",
       "0  a3d2de7675556553a5f08e4c88d2c228htx90   \n",
       "1  a3d2de7675556553a5f08e4c88d2c228rs17i   \n",
       "2  925381cce086b8cc9594eee1c77edf665zjpl   \n",
       "3  a3d2de7675556553a5f08e4c88d2c228nclv5   \n",
       "4  a3d2de7675556553a5f08e4c88d2c228dtdkd   \n",
       "\n",
       "                                 address  auction_nunique_num  \\\n",
       "0  5d9fa1b71f992e7c7a106ce4b07a0a754le7c                  3.0   \n",
       "1  a3d2de7675556553a5f08e4c88d2c228klidn                  2.0   \n",
       "2  a3d2de7675556553a5f08e4c88d2c228aght0                 14.0   \n",
       "3  b5714de1fd69d4a0d2e39d59e53fe9e15vwat                 90.0   \n",
       "4  c3b363a3c3b838d58c85acf0fc9964cb4pnfa                 20.0   \n",
       "\n",
       "   merchandise_nunique_num  device_nunique_num  country_nunique_num  \\\n",
       "0                      1.0                 2.0                  3.0   \n",
       "1                      1.0                 3.0                  2.0   \n",
       "2                      1.0                 4.0                  3.0   \n",
       "3                      1.0                81.0                 14.0   \n",
       "4                      1.0                17.0                  2.0   \n",
       "\n",
       "   ip_nunique_num  url_nunique_num     time_mean  ...  country_zz  country_bs  \\\n",
       "0             4.0              3.0  2.340789e+13  ...         0.0         0.0   \n",
       "1             2.0              1.0  3.800103e+13  ...         0.0         0.0   \n",
       "2             4.0              2.0  1.819079e+10  ...         0.0         0.0   \n",
       "3           129.0             80.0  5.205553e+11  ...         0.0         0.0   \n",
       "4            17.0              1.0  2.988541e+11  ...         0.0         0.0   \n",
       "\n",
       "   country_aw  country_gb  country_vi  country_mh  country_tc  country_an  \\\n",
       "0         0.0         0.0         0.0         0.0         0.0         0.0   \n",
       "1         0.0         0.0         0.0         0.0         0.0         0.0   \n",
       "2         0.0         0.0         0.0         0.0         0.0         0.0   \n",
       "3         0.0         0.0         0.0         0.0         0.0         0.0   \n",
       "4         0.0         0.0         0.0         0.0         0.0         0.0   \n",
       "\n",
       "   country_er  country_gp  \n",
       "0         0.0         0.0  \n",
       "1         0.0         0.0  \n",
       "2         0.0         0.0  \n",
       "3         0.0         0.0  \n",
       "4         0.0         0.0  \n",
       "\n",
       "[5 rows x 220 columns]"
      ]
     },
     "execution_count": 327,
     "metadata": {},
     "output_type": "execute_result"
    }
   ],
   "source": [
    "merged_test = test.merge(bidders, how= \"left\", on=\"bidder_id\")\n",
    "merged_test.head()"
   ]
  },
  {
   "cell_type": "code",
   "execution_count": 328,
   "id": "92a4e4d2",
   "metadata": {},
   "outputs": [],
   "source": [
    "test_id = merged_test[\"bidder_id\"]"
   ]
  },
  {
   "cell_type": "code",
   "execution_count": 329,
   "id": "03d80d52",
   "metadata": {},
   "outputs": [
    {
     "name": "stderr",
     "output_type": "stream",
     "text": [
      "C:\\Users\\Jarvinia\\AppData\\Local\\Temp\\ipykernel_19324\\3694548704.py:1: FutureWarning: Dropping of nuisance columns in DataFrame reductions (with 'numeric_only=None') is deprecated; in a future version this will raise TypeError.  Select only valid columns before calling the reduction.\n",
      "  merged_test.fillna(merged_test.mean(), inplace=True)\n"
     ]
    }
   ],
   "source": [
    "merged_test.fillna(merged_test.mean(), inplace=True)"
   ]
  },
  {
   "cell_type": "code",
   "execution_count": 330,
   "id": "6666eae1",
   "metadata": {},
   "outputs": [
    {
     "data": {
      "text/plain": [
       "bidder_id                  0\n",
       "payment_account            0\n",
       "address                    0\n",
       "auction_nunique_num        0\n",
       "merchandise_nunique_num    0\n",
       "                          ..\n",
       "country_mh                 0\n",
       "country_tc                 0\n",
       "country_an                 0\n",
       "country_er                 0\n",
       "country_gp                 0\n",
       "Length: 220, dtype: int64"
      ]
     },
     "execution_count": 330,
     "metadata": {},
     "output_type": "execute_result"
    }
   ],
   "source": [
    "merged_test.isnull().sum()"
   ]
  },
  {
   "cell_type": "code",
   "execution_count": 331,
   "id": "65bc30bc",
   "metadata": {},
   "outputs": [
    {
     "data": {
      "text/html": [
       "<div>\n",
       "<style scoped>\n",
       "    .dataframe tbody tr th:only-of-type {\n",
       "        vertical-align: middle;\n",
       "    }\n",
       "\n",
       "    .dataframe tbody tr th {\n",
       "        vertical-align: top;\n",
       "    }\n",
       "\n",
       "    .dataframe thead th {\n",
       "        text-align: right;\n",
       "    }\n",
       "</style>\n",
       "<table border=\"1\" class=\"dataframe\">\n",
       "  <thead>\n",
       "    <tr style=\"text-align: right;\">\n",
       "      <th></th>\n",
       "      <th>auction_nunique_num</th>\n",
       "      <th>merchandise_nunique_num</th>\n",
       "      <th>device_nunique_num</th>\n",
       "      <th>country_nunique_num</th>\n",
       "      <th>ip_nunique_num</th>\n",
       "      <th>url_nunique_num</th>\n",
       "      <th>time_mean</th>\n",
       "      <th>time_median</th>\n",
       "      <th>merchandise_jewelry</th>\n",
       "      <th>merchandise_furniture</th>\n",
       "      <th>...</th>\n",
       "      <th>country_zz</th>\n",
       "      <th>country_bs</th>\n",
       "      <th>country_aw</th>\n",
       "      <th>country_gb</th>\n",
       "      <th>country_vi</th>\n",
       "      <th>country_mh</th>\n",
       "      <th>country_tc</th>\n",
       "      <th>country_an</th>\n",
       "      <th>country_er</th>\n",
       "      <th>country_gp</th>\n",
       "    </tr>\n",
       "  </thead>\n",
       "  <tbody>\n",
       "    <tr>\n",
       "      <th>0</th>\n",
       "      <td>3.0</td>\n",
       "      <td>1.0</td>\n",
       "      <td>2.0</td>\n",
       "      <td>3.0</td>\n",
       "      <td>4.0</td>\n",
       "      <td>3.0</td>\n",
       "      <td>2.340789e+13</td>\n",
       "      <td>5.781053e+12</td>\n",
       "      <td>743.0</td>\n",
       "      <td>0.0</td>\n",
       "      <td>...</td>\n",
       "      <td>0.0</td>\n",
       "      <td>0.0</td>\n",
       "      <td>0.0</td>\n",
       "      <td>0.0</td>\n",
       "      <td>0.0</td>\n",
       "      <td>0.0</td>\n",
       "      <td>0.0</td>\n",
       "      <td>0.0</td>\n",
       "      <td>0.0</td>\n",
       "      <td>0.0</td>\n",
       "    </tr>\n",
       "    <tr>\n",
       "      <th>1</th>\n",
       "      <td>2.0</td>\n",
       "      <td>1.0</td>\n",
       "      <td>3.0</td>\n",
       "      <td>2.0</td>\n",
       "      <td>2.0</td>\n",
       "      <td>1.0</td>\n",
       "      <td>3.800103e+13</td>\n",
       "      <td>3.800103e+13</td>\n",
       "      <td>0.0</td>\n",
       "      <td>0.0</td>\n",
       "      <td>...</td>\n",
       "      <td>0.0</td>\n",
       "      <td>0.0</td>\n",
       "      <td>0.0</td>\n",
       "      <td>0.0</td>\n",
       "      <td>0.0</td>\n",
       "      <td>0.0</td>\n",
       "      <td>0.0</td>\n",
       "      <td>0.0</td>\n",
       "      <td>0.0</td>\n",
       "      <td>0.0</td>\n",
       "    </tr>\n",
       "    <tr>\n",
       "      <th>2</th>\n",
       "      <td>14.0</td>\n",
       "      <td>1.0</td>\n",
       "      <td>4.0</td>\n",
       "      <td>3.0</td>\n",
       "      <td>4.0</td>\n",
       "      <td>2.0</td>\n",
       "      <td>1.819079e+10</td>\n",
       "      <td>2.315789e+09</td>\n",
       "      <td>0.0</td>\n",
       "      <td>0.0</td>\n",
       "      <td>...</td>\n",
       "      <td>0.0</td>\n",
       "      <td>0.0</td>\n",
       "      <td>0.0</td>\n",
       "      <td>0.0</td>\n",
       "      <td>0.0</td>\n",
       "      <td>0.0</td>\n",
       "      <td>0.0</td>\n",
       "      <td>0.0</td>\n",
       "      <td>0.0</td>\n",
       "      <td>0.0</td>\n",
       "    </tr>\n",
       "    <tr>\n",
       "      <th>3</th>\n",
       "      <td>90.0</td>\n",
       "      <td>1.0</td>\n",
       "      <td>81.0</td>\n",
       "      <td>14.0</td>\n",
       "      <td>129.0</td>\n",
       "      <td>80.0</td>\n",
       "      <td>5.205553e+11</td>\n",
       "      <td>1.046842e+11</td>\n",
       "      <td>0.0</td>\n",
       "      <td>0.0</td>\n",
       "      <td>...</td>\n",
       "      <td>0.0</td>\n",
       "      <td>0.0</td>\n",
       "      <td>0.0</td>\n",
       "      <td>0.0</td>\n",
       "      <td>0.0</td>\n",
       "      <td>0.0</td>\n",
       "      <td>0.0</td>\n",
       "      <td>0.0</td>\n",
       "      <td>0.0</td>\n",
       "      <td>0.0</td>\n",
       "    </tr>\n",
       "    <tr>\n",
       "      <th>4</th>\n",
       "      <td>20.0</td>\n",
       "      <td>1.0</td>\n",
       "      <td>17.0</td>\n",
       "      <td>2.0</td>\n",
       "      <td>17.0</td>\n",
       "      <td>1.0</td>\n",
       "      <td>2.988541e+11</td>\n",
       "      <td>8.131579e+09</td>\n",
       "      <td>3.0</td>\n",
       "      <td>0.0</td>\n",
       "      <td>...</td>\n",
       "      <td>0.0</td>\n",
       "      <td>0.0</td>\n",
       "      <td>0.0</td>\n",
       "      <td>0.0</td>\n",
       "      <td>0.0</td>\n",
       "      <td>0.0</td>\n",
       "      <td>0.0</td>\n",
       "      <td>0.0</td>\n",
       "      <td>0.0</td>\n",
       "      <td>0.0</td>\n",
       "    </tr>\n",
       "  </tbody>\n",
       "</table>\n",
       "<p>5 rows × 217 columns</p>\n",
       "</div>"
      ],
      "text/plain": [
       "   auction_nunique_num  merchandise_nunique_num  device_nunique_num  \\\n",
       "0                  3.0                      1.0                 2.0   \n",
       "1                  2.0                      1.0                 3.0   \n",
       "2                 14.0                      1.0                 4.0   \n",
       "3                 90.0                      1.0                81.0   \n",
       "4                 20.0                      1.0                17.0   \n",
       "\n",
       "   country_nunique_num  ip_nunique_num  url_nunique_num     time_mean  \\\n",
       "0                  3.0             4.0              3.0  2.340789e+13   \n",
       "1                  2.0             2.0              1.0  3.800103e+13   \n",
       "2                  3.0             4.0              2.0  1.819079e+10   \n",
       "3                 14.0           129.0             80.0  5.205553e+11   \n",
       "4                  2.0            17.0              1.0  2.988541e+11   \n",
       "\n",
       "    time_median  merchandise_jewelry  merchandise_furniture  ...  country_zz  \\\n",
       "0  5.781053e+12                743.0                    0.0  ...         0.0   \n",
       "1  3.800103e+13                  0.0                    0.0  ...         0.0   \n",
       "2  2.315789e+09                  0.0                    0.0  ...         0.0   \n",
       "3  1.046842e+11                  0.0                    0.0  ...         0.0   \n",
       "4  8.131579e+09                  3.0                    0.0  ...         0.0   \n",
       "\n",
       "   country_bs  country_aw  country_gb  country_vi  country_mh  country_tc  \\\n",
       "0         0.0         0.0         0.0         0.0         0.0         0.0   \n",
       "1         0.0         0.0         0.0         0.0         0.0         0.0   \n",
       "2         0.0         0.0         0.0         0.0         0.0         0.0   \n",
       "3         0.0         0.0         0.0         0.0         0.0         0.0   \n",
       "4         0.0         0.0         0.0         0.0         0.0         0.0   \n",
       "\n",
       "   country_an  country_er  country_gp  \n",
       "0         0.0         0.0         0.0  \n",
       "1         0.0         0.0         0.0  \n",
       "2         0.0         0.0         0.0  \n",
       "3         0.0         0.0         0.0  \n",
       "4         0.0         0.0         0.0  \n",
       "\n",
       "[5 rows x 217 columns]"
      ]
     },
     "execution_count": 331,
     "metadata": {},
     "output_type": "execute_result"
    }
   ],
   "source": [
    "merged_test = merged_test.drop(columns=[\"bidder_id\", \"payment_account\", \"address\"])\n",
    "merged_test.head()"
   ]
  },
  {
   "cell_type": "code",
   "execution_count": 332,
   "id": "56b9d323",
   "metadata": {},
   "outputs": [],
   "source": [
    "test_scaled = StandardScaler().fit_transform(merged_test)"
   ]
  },
  {
   "cell_type": "code",
   "execution_count": 333,
   "id": "fc27edaa",
   "metadata": {},
   "outputs": [],
   "source": [
    "pred = model.predict(test_scaled)"
   ]
  },
  {
   "cell_type": "code",
   "execution_count": 334,
   "id": "a197abd1",
   "metadata": {},
   "outputs": [
    {
     "data": {
      "text/plain": [
       "array([0., 1., 1., ..., 1., 1., 1.])"
      ]
     },
     "execution_count": 334,
     "metadata": {},
     "output_type": "execute_result"
    }
   ],
   "source": [
    "pred"
   ]
  },
  {
   "cell_type": "code",
   "execution_count": 335,
   "id": "1dd71688",
   "metadata": {},
   "outputs": [],
   "source": [
    "submission = pd.read_csv(\"./Resources/sampleSubmission.csv\")\n",
    "result = pd.DataFrame({\"bidder_id\": test_id, \"predicts\": pred})\n",
    "final_sub = submission.merge(result, on=\"bidder_id\", how= \"left\")\n",
    "final_sub = final_sub.drop(columns= \"prediction\", axis = 1)"
   ]
  },
  {
   "cell_type": "code",
   "execution_count": 336,
   "id": "7fc83278",
   "metadata": {},
   "outputs": [
    {
     "data": {
      "text/plain": [
       "1.0    4366\n",
       "0.0     334\n",
       "Name: predicts, dtype: int64"
      ]
     },
     "execution_count": 336,
     "metadata": {},
     "output_type": "execute_result"
    }
   ],
   "source": [
    "final_sub[\"predicts\"].value_counts()"
   ]
  },
  {
   "cell_type": "code",
   "execution_count": 337,
   "id": "aafda737",
   "metadata": {},
   "outputs": [
    {
     "data": {
      "text/plain": [
       "bidder_id    0\n",
       "predicts     0\n",
       "dtype: int64"
      ]
     },
     "execution_count": 337,
     "metadata": {},
     "output_type": "execute_result"
    }
   ],
   "source": [
    "final_sub.isnull().sum()"
   ]
  },
  {
   "cell_type": "code",
   "execution_count": 338,
   "id": "1f8cea42",
   "metadata": {},
   "outputs": [],
   "source": [
    "final_sub.to_csv(\"Final_results.csv\", index=False, header=[\"bidder_id\", \"prediction\"])"
   ]
  },
  {
   "cell_type": "code",
   "execution_count": null,
   "id": "4af582e4",
   "metadata": {},
   "outputs": [],
   "source": []
  }
 ],
 "metadata": {
  "kernelspec": {
   "display_name": "mlenv",
   "language": "python",
   "name": "mlenv"
  },
  "language_info": {
   "codemirror_mode": {
    "name": "ipython",
    "version": 3
   },
   "file_extension": ".py",
   "mimetype": "text/x-python",
   "name": "python",
   "nbconvert_exporter": "python",
   "pygments_lexer": "ipython3",
   "version": "3.9.7"
  }
 },
 "nbformat": 4,
 "nbformat_minor": 5
}
