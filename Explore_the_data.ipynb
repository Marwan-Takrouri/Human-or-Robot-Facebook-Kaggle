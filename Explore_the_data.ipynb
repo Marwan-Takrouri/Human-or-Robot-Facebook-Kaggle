{
 "cells": [
  {
   "cell_type": "code",
   "execution_count": 2,
   "id": "38b87e18",
   "metadata": {},
   "outputs": [
    {
     "data": {
      "text/html": [
       "<div>\n",
       "<style scoped>\n",
       "    .dataframe tbody tr th:only-of-type {\n",
       "        vertical-align: middle;\n",
       "    }\n",
       "\n",
       "    .dataframe tbody tr th {\n",
       "        vertical-align: top;\n",
       "    }\n",
       "\n",
       "    .dataframe thead th {\n",
       "        text-align: right;\n",
       "    }\n",
       "</style>\n",
       "<table border=\"1\" class=\"dataframe\">\n",
       "  <thead>\n",
       "    <tr style=\"text-align: right;\">\n",
       "      <th></th>\n",
       "      <th>bidder_id</th>\n",
       "      <th>payment_account</th>\n",
       "      <th>address</th>\n",
       "      <th>outcome</th>\n",
       "    </tr>\n",
       "  </thead>\n",
       "  <tbody>\n",
       "    <tr>\n",
       "      <th>0</th>\n",
       "      <td>91a3c57b13234af24875c56fb7e2b2f4rb56a</td>\n",
       "      <td>a3d2de7675556553a5f08e4c88d2c228754av</td>\n",
       "      <td>a3d2de7675556553a5f08e4c88d2c228vt0u4</td>\n",
       "      <td>0.0</td>\n",
       "    </tr>\n",
       "    <tr>\n",
       "      <th>1</th>\n",
       "      <td>624f258b49e77713fc34034560f93fb3hu3jo</td>\n",
       "      <td>a3d2de7675556553a5f08e4c88d2c228v1sga</td>\n",
       "      <td>ae87054e5a97a8f840a3991d12611fdcrfbq3</td>\n",
       "      <td>0.0</td>\n",
       "    </tr>\n",
       "    <tr>\n",
       "      <th>2</th>\n",
       "      <td>1c5f4fc669099bfbfac515cd26997bd12ruaj</td>\n",
       "      <td>a3d2de7675556553a5f08e4c88d2c2280cybl</td>\n",
       "      <td>92520288b50f03907041887884ba49c0cl0pd</td>\n",
       "      <td>0.0</td>\n",
       "    </tr>\n",
       "    <tr>\n",
       "      <th>3</th>\n",
       "      <td>4bee9aba2abda51bf43d639013d6efe12iycd</td>\n",
       "      <td>51d80e233f7b6a7dfdee484a3c120f3b2ita8</td>\n",
       "      <td>4cb9717c8ad7e88a9a284989dd79b98dbevyi</td>\n",
       "      <td>0.0</td>\n",
       "    </tr>\n",
       "    <tr>\n",
       "      <th>4</th>\n",
       "      <td>4ab12bc61c82ddd9c2d65e60555808acqgos1</td>\n",
       "      <td>a3d2de7675556553a5f08e4c88d2c22857ddh</td>\n",
       "      <td>2a96c3ce94b3be921e0296097b88b56a7x1ji</td>\n",
       "      <td>0.0</td>\n",
       "    </tr>\n",
       "  </tbody>\n",
       "</table>\n",
       "</div>"
      ],
      "text/plain": [
       "                               bidder_id  \\\n",
       "0  91a3c57b13234af24875c56fb7e2b2f4rb56a   \n",
       "1  624f258b49e77713fc34034560f93fb3hu3jo   \n",
       "2  1c5f4fc669099bfbfac515cd26997bd12ruaj   \n",
       "3  4bee9aba2abda51bf43d639013d6efe12iycd   \n",
       "4  4ab12bc61c82ddd9c2d65e60555808acqgos1   \n",
       "\n",
       "                         payment_account  \\\n",
       "0  a3d2de7675556553a5f08e4c88d2c228754av   \n",
       "1  a3d2de7675556553a5f08e4c88d2c228v1sga   \n",
       "2  a3d2de7675556553a5f08e4c88d2c2280cybl   \n",
       "3  51d80e233f7b6a7dfdee484a3c120f3b2ita8   \n",
       "4  a3d2de7675556553a5f08e4c88d2c22857ddh   \n",
       "\n",
       "                                 address  outcome  \n",
       "0  a3d2de7675556553a5f08e4c88d2c228vt0u4      0.0  \n",
       "1  ae87054e5a97a8f840a3991d12611fdcrfbq3      0.0  \n",
       "2  92520288b50f03907041887884ba49c0cl0pd      0.0  \n",
       "3  4cb9717c8ad7e88a9a284989dd79b98dbevyi      0.0  \n",
       "4  2a96c3ce94b3be921e0296097b88b56a7x1ji      0.0  "
      ]
     },
     "execution_count": 2,
     "metadata": {},
     "output_type": "execute_result"
    }
   ],
   "source": [
    "import pandas as pd\n",
    "import numpy as np\n",
    "\n",
    "train_df = pd.read_csv(\"./Resources/train.csv\")\n",
    "train_df.head()"
   ]
  },
  {
   "cell_type": "code",
   "execution_count": 3,
   "id": "1d85c51b",
   "metadata": {},
   "outputs": [
    {
     "data": {
      "text/html": [
       "<div>\n",
       "<style scoped>\n",
       "    .dataframe tbody tr th:only-of-type {\n",
       "        vertical-align: middle;\n",
       "    }\n",
       "\n",
       "    .dataframe tbody tr th {\n",
       "        vertical-align: top;\n",
       "    }\n",
       "\n",
       "    .dataframe thead th {\n",
       "        text-align: right;\n",
       "    }\n",
       "</style>\n",
       "<table border=\"1\" class=\"dataframe\">\n",
       "  <thead>\n",
       "    <tr style=\"text-align: right;\">\n",
       "      <th></th>\n",
       "      <th>bidder_id</th>\n",
       "      <th>payment_account</th>\n",
       "      <th>address</th>\n",
       "    </tr>\n",
       "  </thead>\n",
       "  <tbody>\n",
       "    <tr>\n",
       "      <th>0</th>\n",
       "      <td>49bb5a3c944b8fc337981cc7a9ccae41u31d7</td>\n",
       "      <td>a3d2de7675556553a5f08e4c88d2c228htx90</td>\n",
       "      <td>5d9fa1b71f992e7c7a106ce4b07a0a754le7c</td>\n",
       "    </tr>\n",
       "    <tr>\n",
       "      <th>1</th>\n",
       "      <td>a921612b85a1494456e74c09393ccb65ylp4y</td>\n",
       "      <td>a3d2de7675556553a5f08e4c88d2c228rs17i</td>\n",
       "      <td>a3d2de7675556553a5f08e4c88d2c228klidn</td>\n",
       "    </tr>\n",
       "    <tr>\n",
       "      <th>2</th>\n",
       "      <td>6b601e72a4d264dab9ace9d7b229b47479v6i</td>\n",
       "      <td>925381cce086b8cc9594eee1c77edf665zjpl</td>\n",
       "      <td>a3d2de7675556553a5f08e4c88d2c228aght0</td>\n",
       "    </tr>\n",
       "    <tr>\n",
       "      <th>3</th>\n",
       "      <td>eaf0ed0afc9689779417274b4791726cn5udi</td>\n",
       "      <td>a3d2de7675556553a5f08e4c88d2c228nclv5</td>\n",
       "      <td>b5714de1fd69d4a0d2e39d59e53fe9e15vwat</td>\n",
       "    </tr>\n",
       "    <tr>\n",
       "      <th>4</th>\n",
       "      <td>cdecd8d02ed8c6037e38042c7745f688mx5sf</td>\n",
       "      <td>a3d2de7675556553a5f08e4c88d2c228dtdkd</td>\n",
       "      <td>c3b363a3c3b838d58c85acf0fc9964cb4pnfa</td>\n",
       "    </tr>\n",
       "  </tbody>\n",
       "</table>\n",
       "</div>"
      ],
      "text/plain": [
       "                               bidder_id  \\\n",
       "0  49bb5a3c944b8fc337981cc7a9ccae41u31d7   \n",
       "1  a921612b85a1494456e74c09393ccb65ylp4y   \n",
       "2  6b601e72a4d264dab9ace9d7b229b47479v6i   \n",
       "3  eaf0ed0afc9689779417274b4791726cn5udi   \n",
       "4  cdecd8d02ed8c6037e38042c7745f688mx5sf   \n",
       "\n",
       "                         payment_account  \\\n",
       "0  a3d2de7675556553a5f08e4c88d2c228htx90   \n",
       "1  a3d2de7675556553a5f08e4c88d2c228rs17i   \n",
       "2  925381cce086b8cc9594eee1c77edf665zjpl   \n",
       "3  a3d2de7675556553a5f08e4c88d2c228nclv5   \n",
       "4  a3d2de7675556553a5f08e4c88d2c228dtdkd   \n",
       "\n",
       "                                 address  \n",
       "0  5d9fa1b71f992e7c7a106ce4b07a0a754le7c  \n",
       "1  a3d2de7675556553a5f08e4c88d2c228klidn  \n",
       "2  a3d2de7675556553a5f08e4c88d2c228aght0  \n",
       "3  b5714de1fd69d4a0d2e39d59e53fe9e15vwat  \n",
       "4  c3b363a3c3b838d58c85acf0fc9964cb4pnfa  "
      ]
     },
     "execution_count": 3,
     "metadata": {},
     "output_type": "execute_result"
    }
   ],
   "source": [
    "test_df = pd.read_csv(\"./Resources/test.csv\")\n",
    "test_df.head()"
   ]
  },
  {
   "cell_type": "code",
   "execution_count": 43,
   "id": "c7c68d15",
   "metadata": {},
   "outputs": [
    {
     "data": {
      "text/html": [
       "<div>\n",
       "<style scoped>\n",
       "    .dataframe tbody tr th:only-of-type {\n",
       "        vertical-align: middle;\n",
       "    }\n",
       "\n",
       "    .dataframe tbody tr th {\n",
       "        vertical-align: top;\n",
       "    }\n",
       "\n",
       "    .dataframe thead th {\n",
       "        text-align: right;\n",
       "    }\n",
       "</style>\n",
       "<table border=\"1\" class=\"dataframe\">\n",
       "  <thead>\n",
       "    <tr style=\"text-align: right;\">\n",
       "      <th></th>\n",
       "      <th>bid_id</th>\n",
       "      <th>bidder_id</th>\n",
       "      <th>auction</th>\n",
       "      <th>merchandise</th>\n",
       "      <th>device</th>\n",
       "      <th>time</th>\n",
       "      <th>country</th>\n",
       "      <th>ip</th>\n",
       "      <th>url</th>\n",
       "    </tr>\n",
       "  </thead>\n",
       "  <tbody>\n",
       "    <tr>\n",
       "      <th>0</th>\n",
       "      <td>0</td>\n",
       "      <td>8dac2b259fd1c6d1120e519fb1ac14fbqvax8</td>\n",
       "      <td>ewmzr</td>\n",
       "      <td>jewelry</td>\n",
       "      <td>phone0</td>\n",
       "      <td>9759243157894736</td>\n",
       "      <td>us</td>\n",
       "      <td>69.166.231.58</td>\n",
       "      <td>vasstdc27m7nks3</td>\n",
       "    </tr>\n",
       "    <tr>\n",
       "      <th>1</th>\n",
       "      <td>1</td>\n",
       "      <td>668d393e858e8126275433046bbd35c6tywop</td>\n",
       "      <td>aeqok</td>\n",
       "      <td>furniture</td>\n",
       "      <td>phone1</td>\n",
       "      <td>9759243157894736</td>\n",
       "      <td>in</td>\n",
       "      <td>50.201.125.84</td>\n",
       "      <td>jmqlhflrzwuay9c</td>\n",
       "    </tr>\n",
       "    <tr>\n",
       "      <th>2</th>\n",
       "      <td>2</td>\n",
       "      <td>aa5f360084278b35d746fa6af3a7a1a5ra3xe</td>\n",
       "      <td>wa00e</td>\n",
       "      <td>home goods</td>\n",
       "      <td>phone2</td>\n",
       "      <td>9759243157894736</td>\n",
       "      <td>py</td>\n",
       "      <td>112.54.208.157</td>\n",
       "      <td>vasstdc27m7nks3</td>\n",
       "    </tr>\n",
       "    <tr>\n",
       "      <th>3</th>\n",
       "      <td>3</td>\n",
       "      <td>3939ac3ef7d472a59a9c5f893dd3e39fh9ofi</td>\n",
       "      <td>jefix</td>\n",
       "      <td>jewelry</td>\n",
       "      <td>phone4</td>\n",
       "      <td>9759243157894736</td>\n",
       "      <td>in</td>\n",
       "      <td>18.99.175.133</td>\n",
       "      <td>vasstdc27m7nks3</td>\n",
       "    </tr>\n",
       "    <tr>\n",
       "      <th>4</th>\n",
       "      <td>4</td>\n",
       "      <td>8393c48eaf4b8fa96886edc7cf27b372dsibi</td>\n",
       "      <td>jefix</td>\n",
       "      <td>jewelry</td>\n",
       "      <td>phone5</td>\n",
       "      <td>9759243157894736</td>\n",
       "      <td>in</td>\n",
       "      <td>145.138.5.37</td>\n",
       "      <td>vasstdc27m7nks3</td>\n",
       "    </tr>\n",
       "  </tbody>\n",
       "</table>\n",
       "</div>"
      ],
      "text/plain": [
       "   bid_id                              bidder_id auction merchandise  device  \\\n",
       "0       0  8dac2b259fd1c6d1120e519fb1ac14fbqvax8   ewmzr     jewelry  phone0   \n",
       "1       1  668d393e858e8126275433046bbd35c6tywop   aeqok   furniture  phone1   \n",
       "2       2  aa5f360084278b35d746fa6af3a7a1a5ra3xe   wa00e  home goods  phone2   \n",
       "3       3  3939ac3ef7d472a59a9c5f893dd3e39fh9ofi   jefix     jewelry  phone4   \n",
       "4       4  8393c48eaf4b8fa96886edc7cf27b372dsibi   jefix     jewelry  phone5   \n",
       "\n",
       "               time country              ip              url  \n",
       "0  9759243157894736      us   69.166.231.58  vasstdc27m7nks3  \n",
       "1  9759243157894736      in   50.201.125.84  jmqlhflrzwuay9c  \n",
       "2  9759243157894736      py  112.54.208.157  vasstdc27m7nks3  \n",
       "3  9759243157894736      in   18.99.175.133  vasstdc27m7nks3  \n",
       "4  9759243157894736      in    145.138.5.37  vasstdc27m7nks3  "
      ]
     },
     "execution_count": 43,
     "metadata": {},
     "output_type": "execute_result"
    }
   ],
   "source": [
    "bids_df = pd.read_csv(\"./Resources/bids.csv\")\n",
    "bids_df.head()"
   ]
  },
  {
   "cell_type": "markdown",
   "id": "68719824",
   "metadata": {},
   "source": [
    "## Bidder Dataset\n",
    "###  - Train"
   ]
  },
  {
   "cell_type": "code",
   "execution_count": 8,
   "id": "8d4b14f8",
   "metadata": {},
   "outputs": [
    {
     "data": {
      "text/plain": [
       "bidder_id          2013\n",
       "payment_account    2013\n",
       "address            2013\n",
       "outcome            2013\n",
       "dtype: int64"
      ]
     },
     "execution_count": 8,
     "metadata": {},
     "output_type": "execute_result"
    }
   ],
   "source": [
    "# Total number of data\n",
    "train_df.count()"
   ]
  },
  {
   "cell_type": "code",
   "execution_count": 5,
   "id": "6e8da5c7",
   "metadata": {},
   "outputs": [
    {
     "data": {
      "text/plain": [
       "0.0    1910\n",
       "1.0     103\n",
       "Name: outcome, dtype: int64"
      ]
     },
     "execution_count": 5,
     "metadata": {},
     "output_type": "execute_result"
    }
   ],
   "source": [
    "# Robot vs Human\n",
    "train_df.outcome.value_counts()"
   ]
  },
  {
   "cell_type": "markdown",
   "id": "ba0a7ac2",
   "metadata": {},
   "source": [
    "Imbalanced dataset"
   ]
  },
  {
   "cell_type": "code",
   "execution_count": 12,
   "id": "656131d1",
   "metadata": {},
   "outputs": [
    {
     "name": "stdout",
     "output_type": "stream",
     "text": [
      "Bidder_id: 2013\n",
      "Payment_acct: 2013\n",
      "Address: 2013\n"
     ]
    }
   ],
   "source": [
    "# Is there duplicate bidders\n",
    "print(f\"Bidder_id: {train_df.bidder_id.nunique()}\")\n",
    "print(f\"Payment_acct: {train_df.payment_account.nunique()}\")\n",
    "print(f\"Address: {train_df.address.nunique()}\")"
   ]
  },
  {
   "cell_type": "markdown",
   "id": "1d6de9fc",
   "metadata": {},
   "source": [
    "Seems all data are unique"
   ]
  },
  {
   "cell_type": "markdown",
   "id": "be27e79f",
   "metadata": {},
   "source": [
    "### - Test"
   ]
  },
  {
   "cell_type": "code",
   "execution_count": 13,
   "id": "a41d8db3",
   "metadata": {},
   "outputs": [
    {
     "data": {
      "text/plain": [
       "bidder_id          4700\n",
       "payment_account    4700\n",
       "address            4700\n",
       "dtype: int64"
      ]
     },
     "execution_count": 13,
     "metadata": {},
     "output_type": "execute_result"
    }
   ],
   "source": [
    "# Total number of data\n",
    "test_df.count()"
   ]
  },
  {
   "cell_type": "code",
   "execution_count": 14,
   "id": "ce8336fb",
   "metadata": {},
   "outputs": [
    {
     "name": "stdout",
     "output_type": "stream",
     "text": [
      "Bidder_id: 4700\n",
      "Payment_acct: 4700\n",
      "Address: 4700\n"
     ]
    }
   ],
   "source": [
    "# Is there duplicate bidders\n",
    "print(f\"Bidder_id: {test_df.bidder_id.nunique()}\")\n",
    "print(f\"Payment_acct: {test_df.payment_account.nunique()}\")\n",
    "print(f\"Address: {test_df.address.nunique()}\")"
   ]
  },
  {
   "cell_type": "markdown",
   "id": "6eeb4c37",
   "metadata": {},
   "source": [
    "No duplicates"
   ]
  },
  {
   "cell_type": "markdown",
   "id": "3d97080b",
   "metadata": {},
   "source": [
    "## Bids Dataset"
   ]
  },
  {
   "cell_type": "code",
   "execution_count": 20,
   "id": "ce539bf2",
   "metadata": {},
   "outputs": [
    {
     "name": "stdout",
     "output_type": "stream",
     "text": [
      "<class 'pandas.core.frame.DataFrame'>\n",
      "RangeIndex: 7656334 entries, 0 to 7656333\n",
      "Data columns (total 9 columns):\n",
      " #   Column       Dtype \n",
      "---  ------       ----- \n",
      " 0   bid_id       int64 \n",
      " 1   bidder_id    object\n",
      " 2   auction      object\n",
      " 3   merchandise  object\n",
      " 4   device       object\n",
      " 5   time         int64 \n",
      " 6   country      object\n",
      " 7   ip           object\n",
      " 8   url          object\n",
      "dtypes: int64(2), object(7)\n",
      "memory usage: 525.7+ MB\n"
     ]
    }
   ],
   "source": [
    "bids_df.info()"
   ]
  },
  {
   "cell_type": "code",
   "execution_count": 24,
   "id": "154213a1",
   "metadata": {},
   "outputs": [
    {
     "data": {
      "text/plain": [
       "bid_id         7656334\n",
       "bidder_id         6614\n",
       "auction          15051\n",
       "merchandise         10\n",
       "device            7351\n",
       "time            776529\n",
       "country            199\n",
       "ip             2303991\n",
       "url            1786351\n",
       "dtype: int64"
      ]
     },
     "execution_count": 24,
     "metadata": {},
     "output_type": "execute_result"
    }
   ],
   "source": [
    "# No. of items for each category\n",
    "bids_df.nunique()"
   ]
  },
  {
   "cell_type": "code",
   "execution_count": 46,
   "id": "f254c087",
   "metadata": {},
   "outputs": [
    {
     "data": {
      "text/html": [
       "<div>\n",
       "<style scoped>\n",
       "    .dataframe tbody tr th:only-of-type {\n",
       "        vertical-align: middle;\n",
       "    }\n",
       "\n",
       "    .dataframe tbody tr th {\n",
       "        vertical-align: top;\n",
       "    }\n",
       "\n",
       "    .dataframe thead th {\n",
       "        text-align: right;\n",
       "    }\n",
       "</style>\n",
       "<table border=\"1\" class=\"dataframe\">\n",
       "  <thead>\n",
       "    <tr style=\"text-align: right;\">\n",
       "      <th></th>\n",
       "      <th>bid_id</th>\n",
       "      <th>bidder_id</th>\n",
       "      <th>auction</th>\n",
       "      <th>merchandise</th>\n",
       "      <th>device</th>\n",
       "      <th>time</th>\n",
       "      <th>country</th>\n",
       "      <th>ip</th>\n",
       "      <th>url</th>\n",
       "    </tr>\n",
       "  </thead>\n",
       "  <tbody>\n",
       "    <tr>\n",
       "      <th>0</th>\n",
       "      <td>0</td>\n",
       "      <td>8dac2b259fd1c6d1120e519fb1ac14fbqvax8</td>\n",
       "      <td>ewmzr</td>\n",
       "      <td>jewelry</td>\n",
       "      <td>phone0</td>\n",
       "      <td>1970-04-23 22:54:03.157894736</td>\n",
       "      <td>us</td>\n",
       "      <td>69.166.231.58</td>\n",
       "      <td>vasstdc27m7nks3</td>\n",
       "    </tr>\n",
       "    <tr>\n",
       "      <th>1</th>\n",
       "      <td>1</td>\n",
       "      <td>668d393e858e8126275433046bbd35c6tywop</td>\n",
       "      <td>aeqok</td>\n",
       "      <td>furniture</td>\n",
       "      <td>phone1</td>\n",
       "      <td>1970-04-23 22:54:03.157894736</td>\n",
       "      <td>in</td>\n",
       "      <td>50.201.125.84</td>\n",
       "      <td>jmqlhflrzwuay9c</td>\n",
       "    </tr>\n",
       "    <tr>\n",
       "      <th>2</th>\n",
       "      <td>2</td>\n",
       "      <td>aa5f360084278b35d746fa6af3a7a1a5ra3xe</td>\n",
       "      <td>wa00e</td>\n",
       "      <td>home goods</td>\n",
       "      <td>phone2</td>\n",
       "      <td>1970-04-23 22:54:03.157894736</td>\n",
       "      <td>py</td>\n",
       "      <td>112.54.208.157</td>\n",
       "      <td>vasstdc27m7nks3</td>\n",
       "    </tr>\n",
       "    <tr>\n",
       "      <th>3</th>\n",
       "      <td>3</td>\n",
       "      <td>3939ac3ef7d472a59a9c5f893dd3e39fh9ofi</td>\n",
       "      <td>jefix</td>\n",
       "      <td>jewelry</td>\n",
       "      <td>phone4</td>\n",
       "      <td>1970-04-23 22:54:03.157894736</td>\n",
       "      <td>in</td>\n",
       "      <td>18.99.175.133</td>\n",
       "      <td>vasstdc27m7nks3</td>\n",
       "    </tr>\n",
       "    <tr>\n",
       "      <th>4</th>\n",
       "      <td>4</td>\n",
       "      <td>8393c48eaf4b8fa96886edc7cf27b372dsibi</td>\n",
       "      <td>jefix</td>\n",
       "      <td>jewelry</td>\n",
       "      <td>phone5</td>\n",
       "      <td>1970-04-23 22:54:03.157894736</td>\n",
       "      <td>in</td>\n",
       "      <td>145.138.5.37</td>\n",
       "      <td>vasstdc27m7nks3</td>\n",
       "    </tr>\n",
       "    <tr>\n",
       "      <th>5</th>\n",
       "      <td>5</td>\n",
       "      <td>e8291466de91b0eb4e1515143c7f74dexy2yr</td>\n",
       "      <td>3vi4t</td>\n",
       "      <td>mobile</td>\n",
       "      <td>phone7</td>\n",
       "      <td>1970-04-23 22:54:03.157894736</td>\n",
       "      <td>ru</td>\n",
       "      <td>91.107.221.27</td>\n",
       "      <td>vasstdc27m7nks3</td>\n",
       "    </tr>\n",
       "    <tr>\n",
       "      <th>6</th>\n",
       "      <td>6</td>\n",
       "      <td>eef4c687daf977f64fc1d08675c44444raj3s</td>\n",
       "      <td>kjlzx</td>\n",
       "      <td>mobile</td>\n",
       "      <td>phone2</td>\n",
       "      <td>1970-04-23 22:54:03.210526315</td>\n",
       "      <td>th</td>\n",
       "      <td>152.235.155.159</td>\n",
       "      <td>j9nl1xmo6fqhcc6</td>\n",
       "    </tr>\n",
       "    <tr>\n",
       "      <th>7</th>\n",
       "      <td>7</td>\n",
       "      <td>ab056855c9ca9d36390feae1fa485883issyg</td>\n",
       "      <td>f5f6k</td>\n",
       "      <td>home goods</td>\n",
       "      <td>phone8</td>\n",
       "      <td>1970-04-23 22:54:03.210526315</td>\n",
       "      <td>id</td>\n",
       "      <td>3.210.112.183</td>\n",
       "      <td>hnt6hu93a3z1cpc</td>\n",
       "    </tr>\n",
       "    <tr>\n",
       "      <th>8</th>\n",
       "      <td>8</td>\n",
       "      <td>d600dc03b11e7d782e1e4dae091b084a1h5ch</td>\n",
       "      <td>h7jjx</td>\n",
       "      <td>home goods</td>\n",
       "      <td>phone9</td>\n",
       "      <td>1970-04-23 22:54:03.210526315</td>\n",
       "      <td>th</td>\n",
       "      <td>103.64.157.225</td>\n",
       "      <td>vasstdc27m7nks3</td>\n",
       "    </tr>\n",
       "    <tr>\n",
       "      <th>9</th>\n",
       "      <td>9</td>\n",
       "      <td>a58ace8b671a7531c88814bc86b2a34cf0crb</td>\n",
       "      <td>3zpkj</td>\n",
       "      <td>sporting goods</td>\n",
       "      <td>phone4</td>\n",
       "      <td>1970-04-23 22:54:03.210526315</td>\n",
       "      <td>za</td>\n",
       "      <td>123.28.123.226</td>\n",
       "      <td>vasstdc27m7nks3</td>\n",
       "    </tr>\n",
       "  </tbody>\n",
       "</table>\n",
       "</div>"
      ],
      "text/plain": [
       "   bid_id                              bidder_id auction     merchandise  \\\n",
       "0       0  8dac2b259fd1c6d1120e519fb1ac14fbqvax8   ewmzr         jewelry   \n",
       "1       1  668d393e858e8126275433046bbd35c6tywop   aeqok       furniture   \n",
       "2       2  aa5f360084278b35d746fa6af3a7a1a5ra3xe   wa00e      home goods   \n",
       "3       3  3939ac3ef7d472a59a9c5f893dd3e39fh9ofi   jefix         jewelry   \n",
       "4       4  8393c48eaf4b8fa96886edc7cf27b372dsibi   jefix         jewelry   \n",
       "5       5  e8291466de91b0eb4e1515143c7f74dexy2yr   3vi4t          mobile   \n",
       "6       6  eef4c687daf977f64fc1d08675c44444raj3s   kjlzx          mobile   \n",
       "7       7  ab056855c9ca9d36390feae1fa485883issyg   f5f6k      home goods   \n",
       "8       8  d600dc03b11e7d782e1e4dae091b084a1h5ch   h7jjx      home goods   \n",
       "9       9  a58ace8b671a7531c88814bc86b2a34cf0crb   3zpkj  sporting goods   \n",
       "\n",
       "   device                          time country               ip  \\\n",
       "0  phone0 1970-04-23 22:54:03.157894736      us    69.166.231.58   \n",
       "1  phone1 1970-04-23 22:54:03.157894736      in    50.201.125.84   \n",
       "2  phone2 1970-04-23 22:54:03.157894736      py   112.54.208.157   \n",
       "3  phone4 1970-04-23 22:54:03.157894736      in    18.99.175.133   \n",
       "4  phone5 1970-04-23 22:54:03.157894736      in     145.138.5.37   \n",
       "5  phone7 1970-04-23 22:54:03.157894736      ru    91.107.221.27   \n",
       "6  phone2 1970-04-23 22:54:03.210526315      th  152.235.155.159   \n",
       "7  phone8 1970-04-23 22:54:03.210526315      id    3.210.112.183   \n",
       "8  phone9 1970-04-23 22:54:03.210526315      th   103.64.157.225   \n",
       "9  phone4 1970-04-23 22:54:03.210526315      za   123.28.123.226   \n",
       "\n",
       "               url  \n",
       "0  vasstdc27m7nks3  \n",
       "1  jmqlhflrzwuay9c  \n",
       "2  vasstdc27m7nks3  \n",
       "3  vasstdc27m7nks3  \n",
       "4  vasstdc27m7nks3  \n",
       "5  vasstdc27m7nks3  \n",
       "6  j9nl1xmo6fqhcc6  \n",
       "7  hnt6hu93a3z1cpc  \n",
       "8  vasstdc27m7nks3  \n",
       "9  vasstdc27m7nks3  "
      ]
     },
     "execution_count": 46,
     "metadata": {},
     "output_type": "execute_result"
    }
   ],
   "source": [
    "# Convert the time to Datetime\n",
    "bids_df.time = pd.to_datetime(bids_df.time, unit=\"ns\")\n",
    "bids_df.head(10)"
   ]
  },
  {
   "cell_type": "markdown",
   "id": "559a6616",
   "metadata": {},
   "source": [
    "The time seems unconvertable. Unit can only use \"ns\". However I check the first number on [Unix Timestamp](https://www.unixtimestamp.com/) it should be Sat Apr 05 2279 04:52:37 GMT+0000. <br>\n",
    "Probably just drop this column for further analysis."
   ]
  },
  {
   "cell_type": "code",
   "execution_count": 48,
   "id": "72c811aa",
   "metadata": {},
   "outputs": [
    {
     "data": {
      "text/plain": [
       "bid_id            0\n",
       "bidder_id         0\n",
       "auction           0\n",
       "merchandise       0\n",
       "device            0\n",
       "time              0\n",
       "country        8859\n",
       "ip                0\n",
       "url               0\n",
       "dtype: int64"
      ]
     },
     "execution_count": 48,
     "metadata": {},
     "output_type": "execute_result"
    }
   ],
   "source": [
    "# Is there any null\n",
    "bids_df.isnull().sum()"
   ]
  },
  {
   "cell_type": "markdown",
   "id": "1857c047",
   "metadata": {},
   "source": [
    "Should we drop the null or replace with country_missing?"
   ]
  },
  {
   "cell_type": "markdown",
   "id": "e4ec1f7b",
   "metadata": {},
   "source": [
    "#### Understanding each column"
   ]
  },
  {
   "cell_type": "code",
   "execution_count": 49,
   "id": "f0e5ba19",
   "metadata": {},
   "outputs": [
    {
     "data": {
      "text/plain": [
       "mobile              2126587\n",
       "jewelry             1902058\n",
       "sporting goods      1855207\n",
       "home goods          1224234\n",
       "office equipment     289838\n",
       "furniture             99181\n",
       "computers             81084\n",
       "books and music       51941\n",
       "clothing              16447\n",
       "auto parts             9757\n",
       "Name: merchandise, dtype: int64"
      ]
     },
     "execution_count": 49,
     "metadata": {},
     "output_type": "execute_result"
    }
   ],
   "source": [
    "# Merchandise\n",
    "bids_df.merchandise.value_counts()"
   ]
  },
  {
   "cell_type": "code",
   "execution_count": 50,
   "id": "e2afbb84",
   "metadata": {},
   "outputs": [
    {
     "data": {
      "text/plain": [
       "in    1788731\n",
       "ng     586586\n",
       "id     453611\n",
       "tr     319574\n",
       "us     318103\n",
       "       ...   \n",
       "an          2\n",
       "er          2\n",
       "gp          2\n",
       "mh          1\n",
       "tc          1\n",
       "Name: country, Length: 199, dtype: int64"
      ]
     },
     "execution_count": 50,
     "metadata": {},
     "output_type": "execute_result"
    }
   ],
   "source": [
    "# Country\n",
    "bids_df.country.value_counts()"
   ]
  },
  {
   "cell_type": "code",
   "execution_count": 51,
   "id": "e32ba04f",
   "metadata": {},
   "outputs": [
    {
     "data": {
      "text/plain": [
       "phone4       706573\n",
       "phone2       171584\n",
       "phone35      165230\n",
       "phone65      153855\n",
       "phone3       153202\n",
       "              ...  \n",
       "phone5925         1\n",
       "phone5919         1\n",
       "phone5917         1\n",
       "phone5914         1\n",
       "phone7498         1\n",
       "Name: device, Length: 7351, dtype: int64"
      ]
     },
     "execution_count": 51,
     "metadata": {},
     "output_type": "execute_result"
    }
   ],
   "source": [
    "# Devices\n",
    "bids_df.device.value_counts()"
   ]
  },
  {
   "cell_type": "code",
   "execution_count": null,
   "id": "4670e6e6",
   "metadata": {},
   "outputs": [],
   "source": []
  }
 ],
 "metadata": {
  "kernelspec": {
   "display_name": "mlenv",
   "language": "python",
   "name": "mlenv"
  },
  "language_info": {
   "codemirror_mode": {
    "name": "ipython",
    "version": 3
   },
   "file_extension": ".py",
   "mimetype": "text/x-python",
   "name": "python",
   "nbconvert_exporter": "python",
   "pygments_lexer": "ipython3",
   "version": "3.9.7"
  }
 },
 "nbformat": 4,
 "nbformat_minor": 5
}
