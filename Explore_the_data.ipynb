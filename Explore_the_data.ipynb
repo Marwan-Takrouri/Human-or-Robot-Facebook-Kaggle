{
 "cells": [
  {
   "cell_type": "code",
   "execution_count": 38,
   "id": "38b87e18",
   "metadata": {},
   "outputs": [
    {
     "name": "stdout",
     "output_type": "stream",
     "text": [
      "(2013, 4)\n"
     ]
    },
    {
     "data": {
      "text/html": [
       "<div>\n",
       "<style scoped>\n",
       "    .dataframe tbody tr th:only-of-type {\n",
       "        vertical-align: middle;\n",
       "    }\n",
       "\n",
       "    .dataframe tbody tr th {\n",
       "        vertical-align: top;\n",
       "    }\n",
       "\n",
       "    .dataframe thead th {\n",
       "        text-align: right;\n",
       "    }\n",
       "</style>\n",
       "<table border=\"1\" class=\"dataframe\">\n",
       "  <thead>\n",
       "    <tr style=\"text-align: right;\">\n",
       "      <th></th>\n",
       "      <th>bidder_id</th>\n",
       "      <th>payment_account</th>\n",
       "      <th>address</th>\n",
       "      <th>outcome</th>\n",
       "    </tr>\n",
       "  </thead>\n",
       "  <tbody>\n",
       "    <tr>\n",
       "      <th>0</th>\n",
       "      <td>91a3c57b13234af24875c56fb7e2b2f4rb56a</td>\n",
       "      <td>a3d2de7675556553a5f08e4c88d2c228754av</td>\n",
       "      <td>a3d2de7675556553a5f08e4c88d2c228vt0u4</td>\n",
       "      <td>0.0</td>\n",
       "    </tr>\n",
       "    <tr>\n",
       "      <th>1</th>\n",
       "      <td>624f258b49e77713fc34034560f93fb3hu3jo</td>\n",
       "      <td>a3d2de7675556553a5f08e4c88d2c228v1sga</td>\n",
       "      <td>ae87054e5a97a8f840a3991d12611fdcrfbq3</td>\n",
       "      <td>0.0</td>\n",
       "    </tr>\n",
       "    <tr>\n",
       "      <th>2</th>\n",
       "      <td>1c5f4fc669099bfbfac515cd26997bd12ruaj</td>\n",
       "      <td>a3d2de7675556553a5f08e4c88d2c2280cybl</td>\n",
       "      <td>92520288b50f03907041887884ba49c0cl0pd</td>\n",
       "      <td>0.0</td>\n",
       "    </tr>\n",
       "    <tr>\n",
       "      <th>3</th>\n",
       "      <td>4bee9aba2abda51bf43d639013d6efe12iycd</td>\n",
       "      <td>51d80e233f7b6a7dfdee484a3c120f3b2ita8</td>\n",
       "      <td>4cb9717c8ad7e88a9a284989dd79b98dbevyi</td>\n",
       "      <td>0.0</td>\n",
       "    </tr>\n",
       "    <tr>\n",
       "      <th>4</th>\n",
       "      <td>4ab12bc61c82ddd9c2d65e60555808acqgos1</td>\n",
       "      <td>a3d2de7675556553a5f08e4c88d2c22857ddh</td>\n",
       "      <td>2a96c3ce94b3be921e0296097b88b56a7x1ji</td>\n",
       "      <td>0.0</td>\n",
       "    </tr>\n",
       "  </tbody>\n",
       "</table>\n",
       "</div>"
      ],
      "text/plain": [
       "                               bidder_id  \\\n",
       "0  91a3c57b13234af24875c56fb7e2b2f4rb56a   \n",
       "1  624f258b49e77713fc34034560f93fb3hu3jo   \n",
       "2  1c5f4fc669099bfbfac515cd26997bd12ruaj   \n",
       "3  4bee9aba2abda51bf43d639013d6efe12iycd   \n",
       "4  4ab12bc61c82ddd9c2d65e60555808acqgos1   \n",
       "\n",
       "                         payment_account  \\\n",
       "0  a3d2de7675556553a5f08e4c88d2c228754av   \n",
       "1  a3d2de7675556553a5f08e4c88d2c228v1sga   \n",
       "2  a3d2de7675556553a5f08e4c88d2c2280cybl   \n",
       "3  51d80e233f7b6a7dfdee484a3c120f3b2ita8   \n",
       "4  a3d2de7675556553a5f08e4c88d2c22857ddh   \n",
       "\n",
       "                                 address  outcome  \n",
       "0  a3d2de7675556553a5f08e4c88d2c228vt0u4      0.0  \n",
       "1  ae87054e5a97a8f840a3991d12611fdcrfbq3      0.0  \n",
       "2  92520288b50f03907041887884ba49c0cl0pd      0.0  \n",
       "3  4cb9717c8ad7e88a9a284989dd79b98dbevyi      0.0  \n",
       "4  2a96c3ce94b3be921e0296097b88b56a7x1ji      0.0  "
      ]
     },
     "execution_count": 38,
     "metadata": {},
     "output_type": "execute_result"
    }
   ],
   "source": [
    "import pandas as pd\n",
    "import numpy as np\n",
    "import matplotlib.pyplot as plt\n",
    "import matplotlib as mpl\n",
    "\n",
    "train_df = pd.read_csv(\"./Resources/train.csv\")\n",
    "print(train_df.shape)\n",
    "train_df.head()"
   ]
  },
  {
   "cell_type": "code",
   "execution_count": 39,
   "id": "1d85c51b",
   "metadata": {},
   "outputs": [
    {
     "name": "stdout",
     "output_type": "stream",
     "text": [
      "(4700, 3)\n"
     ]
    },
    {
     "data": {
      "text/html": [
       "<div>\n",
       "<style scoped>\n",
       "    .dataframe tbody tr th:only-of-type {\n",
       "        vertical-align: middle;\n",
       "    }\n",
       "\n",
       "    .dataframe tbody tr th {\n",
       "        vertical-align: top;\n",
       "    }\n",
       "\n",
       "    .dataframe thead th {\n",
       "        text-align: right;\n",
       "    }\n",
       "</style>\n",
       "<table border=\"1\" class=\"dataframe\">\n",
       "  <thead>\n",
       "    <tr style=\"text-align: right;\">\n",
       "      <th></th>\n",
       "      <th>bidder_id</th>\n",
       "      <th>payment_account</th>\n",
       "      <th>address</th>\n",
       "    </tr>\n",
       "  </thead>\n",
       "  <tbody>\n",
       "    <tr>\n",
       "      <th>0</th>\n",
       "      <td>49bb5a3c944b8fc337981cc7a9ccae41u31d7</td>\n",
       "      <td>a3d2de7675556553a5f08e4c88d2c228htx90</td>\n",
       "      <td>5d9fa1b71f992e7c7a106ce4b07a0a754le7c</td>\n",
       "    </tr>\n",
       "    <tr>\n",
       "      <th>1</th>\n",
       "      <td>a921612b85a1494456e74c09393ccb65ylp4y</td>\n",
       "      <td>a3d2de7675556553a5f08e4c88d2c228rs17i</td>\n",
       "      <td>a3d2de7675556553a5f08e4c88d2c228klidn</td>\n",
       "    </tr>\n",
       "    <tr>\n",
       "      <th>2</th>\n",
       "      <td>6b601e72a4d264dab9ace9d7b229b47479v6i</td>\n",
       "      <td>925381cce086b8cc9594eee1c77edf665zjpl</td>\n",
       "      <td>a3d2de7675556553a5f08e4c88d2c228aght0</td>\n",
       "    </tr>\n",
       "    <tr>\n",
       "      <th>3</th>\n",
       "      <td>eaf0ed0afc9689779417274b4791726cn5udi</td>\n",
       "      <td>a3d2de7675556553a5f08e4c88d2c228nclv5</td>\n",
       "      <td>b5714de1fd69d4a0d2e39d59e53fe9e15vwat</td>\n",
       "    </tr>\n",
       "    <tr>\n",
       "      <th>4</th>\n",
       "      <td>cdecd8d02ed8c6037e38042c7745f688mx5sf</td>\n",
       "      <td>a3d2de7675556553a5f08e4c88d2c228dtdkd</td>\n",
       "      <td>c3b363a3c3b838d58c85acf0fc9964cb4pnfa</td>\n",
       "    </tr>\n",
       "  </tbody>\n",
       "</table>\n",
       "</div>"
      ],
      "text/plain": [
       "                               bidder_id  \\\n",
       "0  49bb5a3c944b8fc337981cc7a9ccae41u31d7   \n",
       "1  a921612b85a1494456e74c09393ccb65ylp4y   \n",
       "2  6b601e72a4d264dab9ace9d7b229b47479v6i   \n",
       "3  eaf0ed0afc9689779417274b4791726cn5udi   \n",
       "4  cdecd8d02ed8c6037e38042c7745f688mx5sf   \n",
       "\n",
       "                         payment_account  \\\n",
       "0  a3d2de7675556553a5f08e4c88d2c228htx90   \n",
       "1  a3d2de7675556553a5f08e4c88d2c228rs17i   \n",
       "2  925381cce086b8cc9594eee1c77edf665zjpl   \n",
       "3  a3d2de7675556553a5f08e4c88d2c228nclv5   \n",
       "4  a3d2de7675556553a5f08e4c88d2c228dtdkd   \n",
       "\n",
       "                                 address  \n",
       "0  5d9fa1b71f992e7c7a106ce4b07a0a754le7c  \n",
       "1  a3d2de7675556553a5f08e4c88d2c228klidn  \n",
       "2  a3d2de7675556553a5f08e4c88d2c228aght0  \n",
       "3  b5714de1fd69d4a0d2e39d59e53fe9e15vwat  \n",
       "4  c3b363a3c3b838d58c85acf0fc9964cb4pnfa  "
      ]
     },
     "execution_count": 39,
     "metadata": {},
     "output_type": "execute_result"
    }
   ],
   "source": [
    "test_df = pd.read_csv(\"./Resources/test.csv\")\n",
    "print(test_df.shape)\n",
    "test_df.head()"
   ]
  },
  {
   "cell_type": "code",
   "execution_count": 40,
   "id": "c7c68d15",
   "metadata": {},
   "outputs": [
    {
     "name": "stdout",
     "output_type": "stream",
     "text": [
      "(7656334, 9)\n"
     ]
    },
    {
     "data": {
      "text/html": [
       "<div>\n",
       "<style scoped>\n",
       "    .dataframe tbody tr th:only-of-type {\n",
       "        vertical-align: middle;\n",
       "    }\n",
       "\n",
       "    .dataframe tbody tr th {\n",
       "        vertical-align: top;\n",
       "    }\n",
       "\n",
       "    .dataframe thead th {\n",
       "        text-align: right;\n",
       "    }\n",
       "</style>\n",
       "<table border=\"1\" class=\"dataframe\">\n",
       "  <thead>\n",
       "    <tr style=\"text-align: right;\">\n",
       "      <th></th>\n",
       "      <th>bid_id</th>\n",
       "      <th>bidder_id</th>\n",
       "      <th>auction</th>\n",
       "      <th>merchandise</th>\n",
       "      <th>device</th>\n",
       "      <th>time</th>\n",
       "      <th>country</th>\n",
       "      <th>ip</th>\n",
       "      <th>url</th>\n",
       "    </tr>\n",
       "  </thead>\n",
       "  <tbody>\n",
       "    <tr>\n",
       "      <th>0</th>\n",
       "      <td>0</td>\n",
       "      <td>8dac2b259fd1c6d1120e519fb1ac14fbqvax8</td>\n",
       "      <td>ewmzr</td>\n",
       "      <td>jewelry</td>\n",
       "      <td>phone0</td>\n",
       "      <td>9759243157894736</td>\n",
       "      <td>us</td>\n",
       "      <td>69.166.231.58</td>\n",
       "      <td>vasstdc27m7nks3</td>\n",
       "    </tr>\n",
       "    <tr>\n",
       "      <th>1</th>\n",
       "      <td>1</td>\n",
       "      <td>668d393e858e8126275433046bbd35c6tywop</td>\n",
       "      <td>aeqok</td>\n",
       "      <td>furniture</td>\n",
       "      <td>phone1</td>\n",
       "      <td>9759243157894736</td>\n",
       "      <td>in</td>\n",
       "      <td>50.201.125.84</td>\n",
       "      <td>jmqlhflrzwuay9c</td>\n",
       "    </tr>\n",
       "    <tr>\n",
       "      <th>2</th>\n",
       "      <td>2</td>\n",
       "      <td>aa5f360084278b35d746fa6af3a7a1a5ra3xe</td>\n",
       "      <td>wa00e</td>\n",
       "      <td>home goods</td>\n",
       "      <td>phone2</td>\n",
       "      <td>9759243157894736</td>\n",
       "      <td>py</td>\n",
       "      <td>112.54.208.157</td>\n",
       "      <td>vasstdc27m7nks3</td>\n",
       "    </tr>\n",
       "    <tr>\n",
       "      <th>3</th>\n",
       "      <td>3</td>\n",
       "      <td>3939ac3ef7d472a59a9c5f893dd3e39fh9ofi</td>\n",
       "      <td>jefix</td>\n",
       "      <td>jewelry</td>\n",
       "      <td>phone4</td>\n",
       "      <td>9759243157894736</td>\n",
       "      <td>in</td>\n",
       "      <td>18.99.175.133</td>\n",
       "      <td>vasstdc27m7nks3</td>\n",
       "    </tr>\n",
       "    <tr>\n",
       "      <th>4</th>\n",
       "      <td>4</td>\n",
       "      <td>8393c48eaf4b8fa96886edc7cf27b372dsibi</td>\n",
       "      <td>jefix</td>\n",
       "      <td>jewelry</td>\n",
       "      <td>phone5</td>\n",
       "      <td>9759243157894736</td>\n",
       "      <td>in</td>\n",
       "      <td>145.138.5.37</td>\n",
       "      <td>vasstdc27m7nks3</td>\n",
       "    </tr>\n",
       "  </tbody>\n",
       "</table>\n",
       "</div>"
      ],
      "text/plain": [
       "   bid_id                              bidder_id auction merchandise  device  \\\n",
       "0       0  8dac2b259fd1c6d1120e519fb1ac14fbqvax8   ewmzr     jewelry  phone0   \n",
       "1       1  668d393e858e8126275433046bbd35c6tywop   aeqok   furniture  phone1   \n",
       "2       2  aa5f360084278b35d746fa6af3a7a1a5ra3xe   wa00e  home goods  phone2   \n",
       "3       3  3939ac3ef7d472a59a9c5f893dd3e39fh9ofi   jefix     jewelry  phone4   \n",
       "4       4  8393c48eaf4b8fa96886edc7cf27b372dsibi   jefix     jewelry  phone5   \n",
       "\n",
       "               time country              ip              url  \n",
       "0  9759243157894736      us   69.166.231.58  vasstdc27m7nks3  \n",
       "1  9759243157894736      in   50.201.125.84  jmqlhflrzwuay9c  \n",
       "2  9759243157894736      py  112.54.208.157  vasstdc27m7nks3  \n",
       "3  9759243157894736      in   18.99.175.133  vasstdc27m7nks3  \n",
       "4  9759243157894736      in    145.138.5.37  vasstdc27m7nks3  "
      ]
     },
     "execution_count": 40,
     "metadata": {},
     "output_type": "execute_result"
    }
   ],
   "source": [
    "bids_df = pd.read_csv(\"./Resources/bids.csv\")\n",
    "print(bids_df.shape)\n",
    "bids_df.head()"
   ]
  },
  {
   "cell_type": "markdown",
   "id": "68719824",
   "metadata": {},
   "source": [
    "## Bidder Dataset\n",
    "###  - Train"
   ]
  },
  {
   "cell_type": "code",
   "execution_count": 10,
   "id": "8d4b14f8",
   "metadata": {},
   "outputs": [
    {
     "data": {
      "text/plain": [
       "bidder_id          2013\n",
       "payment_account    2013\n",
       "address            2013\n",
       "outcome            2013\n",
       "dtype: int64"
      ]
     },
     "execution_count": 10,
     "metadata": {},
     "output_type": "execute_result"
    }
   ],
   "source": [
    "# Total number of data\n",
    "train_df.count()"
   ]
  },
  {
   "cell_type": "code",
   "execution_count": 11,
   "id": "6e8da5c7",
   "metadata": {},
   "outputs": [
    {
     "data": {
      "text/plain": [
       "0.0    1910\n",
       "1.0     103\n",
       "Name: outcome, dtype: int64"
      ]
     },
     "execution_count": 11,
     "metadata": {},
     "output_type": "execute_result"
    }
   ],
   "source": [
    "# Robot vs Human\n",
    "train_df.outcome.value_counts()"
   ]
  },
  {
   "cell_type": "code",
   "execution_count": 12,
   "id": "a610106f",
   "metadata": {},
   "outputs": [
    {
     "data": {
      "image/png": "[encoded data removed]",
      "text/plain": [
       "<Figure size 720x432 with 1 Axes>"
      ]
     },
     "metadata": {},
     "output_type": "display_data"
    }
   ],
   "source": [
    "# Plot the results\n",
    "x = train_df.outcome.value_counts()\n",
    "\n",
    "plt.subplots(figsize=(10, 6))\n",
    "plt.pie(x, labels=[\"Human\", \"Robots\"], colors=[\"lightskyblue\", \"gold\"],explode=[0, 0.1], autopct='%1.1f%%', shadow=True,startangle=30)\n",
    "plt.title(\"Human vs Robots\")\n",
    "mpl.rcParams['font.size'] = 14\n",
    "plt.show()"
   ]
  },
  {
   "cell_type": "markdown",
   "id": "ba0a7ac2",
   "metadata": {},
   "source": [
    "Imbalanced dataset"
   ]
  },
  {
   "cell_type": "code",
   "execution_count": 13,
   "id": "656131d1",
   "metadata": {},
   "outputs": [
    {
     "data": {
      "text/plain": [
       "bidder_id          2013\n",
       "payment_account    2013\n",
       "address            2013\n",
       "outcome               2\n",
       "dtype: int64"
      ]
     },
     "execution_count": 13,
     "metadata": {},
     "output_type": "execute_result"
    }
   ],
   "source": [
    "# Is there duplicate bidders\n",
    "train_df.nunique()"
   ]
  },
  {
   "cell_type": "markdown",
   "id": "1d6de9fc",
   "metadata": {},
   "source": [
    "All data are unique"
   ]
  },
  {
   "cell_type": "markdown",
   "id": "be27e79f",
   "metadata": {},
   "source": [
    "### - Test"
   ]
  },
  {
   "cell_type": "code",
   "execution_count": 14,
   "id": "a41d8db3",
   "metadata": {},
   "outputs": [
    {
     "data": {
      "text/plain": [
       "bidder_id          4700\n",
       "payment_account    4700\n",
       "address            4700\n",
       "dtype: int64"
      ]
     },
     "execution_count": 14,
     "metadata": {},
     "output_type": "execute_result"
    }
   ],
   "source": [
    "# Total number of data\n",
    "test_df.count()"
   ]
  },
  {
   "cell_type": "code",
   "execution_count": 15,
   "id": "ce8336fb",
   "metadata": {},
   "outputs": [
    {
     "data": {
      "text/plain": [
       "bidder_id          4700\n",
       "payment_account    4700\n",
       "address            4700\n",
       "dtype: int64"
      ]
     },
     "execution_count": 15,
     "metadata": {},
     "output_type": "execute_result"
    }
   ],
   "source": [
    "# Is there duplicate bidders\n",
    "test_df.nunique()"
   ]
  },
  {
   "cell_type": "markdown",
   "id": "6eeb4c37",
   "metadata": {},
   "source": [
    "No duplicates"
   ]
  },
  {
   "cell_type": "markdown",
   "id": "3d97080b",
   "metadata": {},
   "source": [
    "## Bids Dataset"
   ]
  },
  {
   "cell_type": "code",
   "execution_count": 16,
   "id": "ce539bf2",
   "metadata": {},
   "outputs": [
    {
     "name": "stdout",
     "output_type": "stream",
     "text": [
      "<class 'pandas.core.frame.DataFrame'>\n",
      "RangeIndex: 7656334 entries, 0 to 7656333\n",
      "Data columns (total 9 columns):\n",
      " #   Column       Dtype \n",
      "---  ------       ----- \n",
      " 0   bid_id       int64 \n",
      " 1   bidder_id    object\n",
      " 2   auction      object\n",
      " 3   merchandise  object\n",
      " 4   device       object\n",
      " 5   time         int64 \n",
      " 6   country      object\n",
      " 7   ip           object\n",
      " 8   url          object\n",
      "dtypes: int64(2), object(7)\n",
      "memory usage: 525.7+ MB\n"
     ]
    }
   ],
   "source": [
    "bids_df.info()"
   ]
  },
  {
   "cell_type": "code",
   "execution_count": 17,
   "id": "154213a1",
   "metadata": {},
   "outputs": [
    {
     "data": {
      "text/plain": [
       "bid_id         7656334\n",
       "bidder_id         6614\n",
       "auction          15051\n",
       "merchandise         10\n",
       "device            7351\n",
       "time            776529\n",
       "country            199\n",
       "ip             2303991\n",
       "url            1786351\n",
       "dtype: int64"
      ]
     },
     "execution_count": 17,
     "metadata": {},
     "output_type": "execute_result"
    }
   ],
   "source": [
    "# No. of items for each category\n",
    "bids_df.nunique()"
   ]
  },
  {
   "cell_type": "code",
   "execution_count": 18,
   "id": "72c811aa",
   "metadata": {},
   "outputs": [
    {
     "data": {
      "text/plain": [
       "bid_id            0\n",
       "bidder_id         0\n",
       "auction           0\n",
       "merchandise       0\n",
       "device            0\n",
       "time              0\n",
       "country        8859\n",
       "ip                0\n",
       "url               0\n",
       "dtype: int64"
      ]
     },
     "execution_count": 18,
     "metadata": {},
     "output_type": "execute_result"
    }
   ],
   "source": [
    "# Is there any null\n",
    "bids_df.isnull().sum()"
   ]
  },
  {
   "cell_type": "code",
   "execution_count": 19,
   "id": "f7f1485c",
   "metadata": {},
   "outputs": [
    {
     "data": {
      "text/plain": [
       "7647475"
      ]
     },
     "execution_count": 19,
     "metadata": {},
     "output_type": "execute_result"
    }
   ],
   "source": [
    "# Not null country\n",
    "bids_df.country.notnull().sum()"
   ]
  },
  {
   "cell_type": "code",
   "execution_count": 20,
   "id": "c9f3d93f",
   "metadata": {},
   "outputs": [
    {
     "data": {
      "text/plain": [
       "0.11570811827174728"
      ]
     },
     "execution_count": 20,
     "metadata": {},
     "output_type": "execute_result"
    }
   ],
   "source": [
    "# Percentage of missing country\n",
    "bids_df.country.isnull().sum() / len(bids_df.country) * 100"
   ]
  },
  {
   "cell_type": "code",
   "execution_count": 21,
   "id": "c1fdb509",
   "metadata": {},
   "outputs": [
    {
     "data": {
      "image/png": "[encoded data removed]",
      "text/plain": [
       "<Figure size 720x432 with 1 Axes>"
      ]
     },
     "metadata": {},
     "output_type": "display_data"
    }
   ],
   "source": [
    "# Plot the results\n",
    "missing_country = bids_df.country.isnull().sum()\n",
    "normal_country = bids_df.country.notnull().sum()\n",
    "x = [missing_country, normal_country]\n",
    "import matplotlib as mpl\n",
    "plt.subplots(figsize=(10, 6))\n",
    "plt.pie(x, labels=[\"Missing\", \"Normal\"], colors=[\"gold\", \"lightcoral\"],explode=[0.1, 0], autopct='%1.1f%%', startangle=90)\n",
    "plt.title(\"Missing Country vs Normal Country\")\n",
    "mpl.rcParams['font.size'] = 16\n",
    "plt.show()"
   ]
  },
  {
   "cell_type": "markdown",
   "id": "e4ec1f7b",
   "metadata": {},
   "source": [
    "#### Understanding each column"
   ]
  },
  {
   "cell_type": "code",
   "execution_count": 22,
   "id": "f0e5ba19",
   "metadata": {},
   "outputs": [
    {
     "data": {
      "text/plain": [
       "mobile              2126587\n",
       "jewelry             1902058\n",
       "sporting goods      1855207\n",
       "home goods          1224234\n",
       "office equipment     289838\n",
       "furniture             99181\n",
       "computers             81084\n",
       "books and music       51941\n",
       "clothing              16447\n",
       "auto parts             9757\n",
       "Name: merchandise, dtype: int64"
      ]
     },
     "execution_count": 22,
     "metadata": {},
     "output_type": "execute_result"
    }
   ],
   "source": [
    "# Merchandise\n",
    "bids_df.merchandise.value_counts()"
   ]
  },
  {
   "cell_type": "code",
   "execution_count": 23,
   "id": "e2afbb84",
   "metadata": {},
   "outputs": [
    {
     "data": {
      "text/plain": [
       "in    1788731\n",
       "ng     586586\n",
       "id     453611\n",
       "tr     319574\n",
       "us     318103\n",
       "       ...   \n",
       "an          2\n",
       "er          2\n",
       "gp          2\n",
       "mh          1\n",
       "tc          1\n",
       "Name: country, Length: 199, dtype: int64"
      ]
     },
     "execution_count": 23,
     "metadata": {},
     "output_type": "execute_result"
    }
   ],
   "source": [
    "# Country\n",
    "bids_df.country.value_counts()"
   ]
  },
  {
   "cell_type": "code",
   "execution_count": 24,
   "id": "e32ba04f",
   "metadata": {},
   "outputs": [
    {
     "data": {
      "text/plain": [
       "phone4       706573\n",
       "phone2       171584\n",
       "phone35      165230\n",
       "phone65      153855\n",
       "phone3       153202\n",
       "              ...  \n",
       "phone5925         1\n",
       "phone5919         1\n",
       "phone5917         1\n",
       "phone5914         1\n",
       "phone7498         1\n",
       "Name: device, Length: 7351, dtype: int64"
      ]
     },
     "execution_count": 24,
     "metadata": {},
     "output_type": "execute_result"
    }
   ],
   "source": [
    "# Devices\n",
    "bids_df.device.value_counts()"
   ]
  },
  {
   "cell_type": "markdown",
   "id": "95593616",
   "metadata": {},
   "source": [
    "#### Check whether all bidders in bidder dataset are in bids dataset as well"
   ]
  },
  {
   "cell_type": "code",
   "execution_count": 25,
   "id": "28fa3045",
   "metadata": {},
   "outputs": [
    {
     "name": "stdout",
     "output_type": "stream",
     "text": [
      "Total number of bidders from bidder dataset: 6713 \n",
      "Total number of bidders from bids dataset: 6614 \n",
      "Number of bidders from bidder dataset are not in bids dataset: 99\n"
     ]
    }
   ],
   "source": [
    "# Total number of bidders in bidder dataset and in bids dataset\n",
    "total_bidders_bidder = train_df.bidder_id.count() + test_df.bidder_id.count()\n",
    "total_bidders_bids = len(bids_df.bidder_id.unique())\n",
    "bidders_not_in_bids = total_bidders_bidder - total_bidders_bids\n",
    "\n",
    "print(f\"Total number of bidders from bidder dataset: {total_bidders_bidder} \\n\\\n",
    "Total number of bidders from bids dataset: {total_bidders_bids} \\n\\\n",
    "Number of bidders from bidder dataset are not in bids dataset: {bidders_not_in_bids}\")"
   ]
  },
  {
   "cell_type": "code",
   "execution_count": 26,
   "id": "d4e05245",
   "metadata": {},
   "outputs": [],
   "source": [
    "# Check numbder of the bidder who never bid from test and train dataset\n",
    "bidders_in_train = train_df.bidder_id.unique().tolist() \n",
    "bidders_in_test = test_df.bidder_id.unique().tolist()\n",
    "total_bidders = bidders_in_test + bidders_in_train\n",
    "bidders_in_bids = bids_df.bidder_id.unique().tolist()"
   ]
  },
  {
   "cell_type": "code",
   "execution_count": 27,
   "id": "a3e4e182",
   "metadata": {},
   "outputs": [
    {
     "data": {
      "text/plain": [
       "99"
      ]
     },
     "execution_count": 27,
     "metadata": {},
     "output_type": "execute_result"
    }
   ],
   "source": [
    "# Create a list for bidders not in bid\n",
    "no_bidders = []\n",
    "for i in total_bidders:\n",
    "    if i not in bidders_in_bids:\n",
    "        no_bidders.append(i)\n",
    "        \n",
    "len(no_bidders)"
   ]
  },
  {
   "cell_type": "code",
   "execution_count": 28,
   "id": "522e2567",
   "metadata": {},
   "outputs": [
    {
     "name": "stdout",
     "output_type": "stream",
     "text": [
      "Number of bidders never bid in train: 29\n",
      "Number of bidders never bid in test: 70\n"
     ]
    }
   ],
   "source": [
    "no_bidders_train = [i for i in no_bidders if i in bidders_in_train]\n",
    "no_bidders_test = [i for i in no_bidders if i in bidders_in_test]\n",
    "print(f\"Number of bidders never bid in train: {len(no_bidders_train)}\")\n",
    "print(f\"Number of bidders never bid in test: {len(no_bidders_test)}\")"
   ]
  },
  {
   "cell_type": "code",
   "execution_count": 29,
   "id": "f579c421",
   "metadata": {},
   "outputs": [
    {
     "data": {
      "image/png": "[encoded data removed]",
      "text/plain": [
       "<Figure size 504x504 with 1 Axes>"
      ]
     },
     "metadata": {
      "needs_background": "light"
     },
     "output_type": "display_data"
    }
   ],
   "source": [
    "# Plot the results\n",
    "x = np.arange(len([\"Train\", \"Test\"]))\n",
    "y = [len(no_bidders_train), len(no_bidders_test)]\n",
    "\n",
    "fig, ax = plt.subplots(figsize = (7,7))\n",
    "bar = plt.bar(x, y, color= \"#3399FF\")\n",
    "plt.title(\"Source of bidders who never bid\")\n",
    "plt.ylabel(\"No. of bidders never bid\")\n",
    "plt.xlabel(\"Bidder Dataset\")\n",
    "plt.xticks(x, labels=[\"Train\", \"Test\"])\n",
    "ax.bar_label(bar, padding=0.5, fontsize=13)\n",
    "plt.show()"
   ]
  },
  {
   "cell_type": "code",
   "execution_count": 30,
   "id": "83dacc23",
   "metadata": {},
   "outputs": [
    {
     "data": {
      "text/plain": [
       "bidder_id          0.0\n",
       "payment_account    0.0\n",
       "address            0.0\n",
       "outcome            0.0\n",
       "dtype: float64"
      ]
     },
     "execution_count": 30,
     "metadata": {},
     "output_type": "execute_result"
    }
   ],
   "source": [
    "# Check whether the bidders who never bid are robots\n",
    "no_bidders_robots = train_df.loc[(train_df.bidder_id.isin(no_bidders_train)) & (train_df.outcome == 1.0)].sum()\n",
    "no_bidders_robots"
   ]
  },
  {
   "cell_type": "markdown",
   "id": "a7f21c4e",
   "metadata": {},
   "source": [
    "The bidders who never bid are all human  "
   ]
  },
  {
   "cell_type": "code",
   "execution_count": 31,
   "id": "a1c41177",
   "metadata": {},
   "outputs": [],
   "source": [
    "# Bidders for each auction\n",
    "bidders_per_aution = bids_df.groupby(\"auction\").count()[\"bidder_id\"]"
   ]
  },
  {
   "cell_type": "code",
   "execution_count": 32,
   "id": "3e618f7f",
   "metadata": {},
   "outputs": [
    {
     "data": {
      "text/plain": [
       "auction\n",
       "jqx39    537347\n",
       "jefix    208926\n",
       "no958     74020\n",
       "opnq4     71446\n",
       "du967     69633\n",
       "          ...  \n",
       "8czod         1\n",
       "h4fxg         1\n",
       "qhsb9         1\n",
       "h3q12         1\n",
       "d1roy         1\n",
       "Name: bidder_id, Length: 15051, dtype: int64"
      ]
     },
     "execution_count": 32,
     "metadata": {},
     "output_type": "execute_result"
    }
   ],
   "source": [
    "bidders_per_aution.sort_values(ascending=False)"
   ]
  },
  {
   "cell_type": "code",
   "execution_count": 33,
   "id": "ccc88671",
   "metadata": {},
   "outputs": [
    {
     "data": {
      "text/html": [
       "<div>\n",
       "<style scoped>\n",
       "    .dataframe tbody tr th:only-of-type {\n",
       "        vertical-align: middle;\n",
       "    }\n",
       "\n",
       "    .dataframe tbody tr th {\n",
       "        vertical-align: top;\n",
       "    }\n",
       "\n",
       "    .dataframe thead th {\n",
       "        text-align: right;\n",
       "    }\n",
       "</style>\n",
       "<table border=\"1\" class=\"dataframe\">\n",
       "  <thead>\n",
       "    <tr style=\"text-align: right;\">\n",
       "      <th></th>\n",
       "      <th>bid_id</th>\n",
       "      <th>bidder_id</th>\n",
       "      <th>auction</th>\n",
       "      <th>merchandise</th>\n",
       "      <th>device</th>\n",
       "      <th>time</th>\n",
       "      <th>country</th>\n",
       "      <th>ip</th>\n",
       "      <th>url</th>\n",
       "      <th>no_auction</th>\n",
       "    </tr>\n",
       "  </thead>\n",
       "  <tbody>\n",
       "    <tr>\n",
       "      <th>0</th>\n",
       "      <td>0</td>\n",
       "      <td>8dac2b259fd1c6d1120e519fb1ac14fbqvax8</td>\n",
       "      <td>ewmzr</td>\n",
       "      <td>jewelry</td>\n",
       "      <td>phone0</td>\n",
       "      <td>9759243157894736</td>\n",
       "      <td>us</td>\n",
       "      <td>69.166.231.58</td>\n",
       "      <td>vasstdc27m7nks3</td>\n",
       "      <td>3331</td>\n",
       "    </tr>\n",
       "    <tr>\n",
       "      <th>1</th>\n",
       "      <td>1</td>\n",
       "      <td>668d393e858e8126275433046bbd35c6tywop</td>\n",
       "      <td>aeqok</td>\n",
       "      <td>furniture</td>\n",
       "      <td>phone1</td>\n",
       "      <td>9759243157894736</td>\n",
       "      <td>in</td>\n",
       "      <td>50.201.125.84</td>\n",
       "      <td>jmqlhflrzwuay9c</td>\n",
       "      <td>9376</td>\n",
       "    </tr>\n",
       "    <tr>\n",
       "      <th>2</th>\n",
       "      <td>2</td>\n",
       "      <td>aa5f360084278b35d746fa6af3a7a1a5ra3xe</td>\n",
       "      <td>wa00e</td>\n",
       "      <td>home goods</td>\n",
       "      <td>phone2</td>\n",
       "      <td>9759243157894736</td>\n",
       "      <td>py</td>\n",
       "      <td>112.54.208.157</td>\n",
       "      <td>vasstdc27m7nks3</td>\n",
       "      <td>310</td>\n",
       "    </tr>\n",
       "    <tr>\n",
       "      <th>3</th>\n",
       "      <td>3</td>\n",
       "      <td>3939ac3ef7d472a59a9c5f893dd3e39fh9ofi</td>\n",
       "      <td>jefix</td>\n",
       "      <td>jewelry</td>\n",
       "      <td>phone4</td>\n",
       "      <td>9759243157894736</td>\n",
       "      <td>in</td>\n",
       "      <td>18.99.175.133</td>\n",
       "      <td>vasstdc27m7nks3</td>\n",
       "      <td>208926</td>\n",
       "    </tr>\n",
       "    <tr>\n",
       "      <th>4</th>\n",
       "      <td>4</td>\n",
       "      <td>8393c48eaf4b8fa96886edc7cf27b372dsibi</td>\n",
       "      <td>jefix</td>\n",
       "      <td>jewelry</td>\n",
       "      <td>phone5</td>\n",
       "      <td>9759243157894736</td>\n",
       "      <td>in</td>\n",
       "      <td>145.138.5.37</td>\n",
       "      <td>vasstdc27m7nks3</td>\n",
       "      <td>208926</td>\n",
       "    </tr>\n",
       "  </tbody>\n",
       "</table>\n",
       "</div>"
      ],
      "text/plain": [
       "   bid_id                              bidder_id auction merchandise  device  \\\n",
       "0       0  8dac2b259fd1c6d1120e519fb1ac14fbqvax8   ewmzr     jewelry  phone0   \n",
       "1       1  668d393e858e8126275433046bbd35c6tywop   aeqok   furniture  phone1   \n",
       "2       2  aa5f360084278b35d746fa6af3a7a1a5ra3xe   wa00e  home goods  phone2   \n",
       "3       3  3939ac3ef7d472a59a9c5f893dd3e39fh9ofi   jefix     jewelry  phone4   \n",
       "4       4  8393c48eaf4b8fa96886edc7cf27b372dsibi   jefix     jewelry  phone5   \n",
       "\n",
       "               time country              ip              url  no_auction  \n",
       "0  9759243157894736      us   69.166.231.58  vasstdc27m7nks3        3331  \n",
       "1  9759243157894736      in   50.201.125.84  jmqlhflrzwuay9c        9376  \n",
       "2  9759243157894736      py  112.54.208.157  vasstdc27m7nks3         310  \n",
       "3  9759243157894736      in   18.99.175.133  vasstdc27m7nks3      208926  \n",
       "4  9759243157894736      in    145.138.5.37  vasstdc27m7nks3      208926  "
      ]
     },
     "execution_count": 33,
     "metadata": {},
     "output_type": "execute_result"
    }
   ],
   "source": [
    "bids_df[\"no_auction\"] = bids_df.groupby(\"auction\")[\"bidder_id\"].transform(\"count\")\n",
    "bids_df.head()"
   ]
  },
  {
   "cell_type": "code",
   "execution_count": 34,
   "id": "e9b75fa6",
   "metadata": {},
   "outputs": [],
   "source": [
    "# How Long Does an Auction Last?\n",
    "last_time = bids_df.groupby(\"auction\")[\"time\"].max()\n",
    "first_time = bids_df.groupby(\"auction\")[\"time\"].min()"
   ]
  },
  {
   "cell_type": "code",
   "execution_count": 35,
   "id": "8d70d024",
   "metadata": {},
   "outputs": [
    {
     "data": {
      "text/html": [
       "<div>\n",
       "<style scoped>\n",
       "    .dataframe tbody tr th:only-of-type {\n",
       "        vertical-align: middle;\n",
       "    }\n",
       "\n",
       "    .dataframe tbody tr th {\n",
       "        vertical-align: top;\n",
       "    }\n",
       "\n",
       "    .dataframe thead th {\n",
       "        text-align: right;\n",
       "    }\n",
       "</style>\n",
       "<table border=\"1\" class=\"dataframe\">\n",
       "  <thead>\n",
       "    <tr style=\"text-align: right;\">\n",
       "      <th></th>\n",
       "      <th>auction</th>\n",
       "      <th>auction_duration</th>\n",
       "    </tr>\n",
       "  </thead>\n",
       "  <tbody>\n",
       "    <tr>\n",
       "      <th>0</th>\n",
       "      <td>00270</td>\n",
       "      <td>10163000000000</td>\n",
       "    </tr>\n",
       "    <tr>\n",
       "      <th>1</th>\n",
       "      <td>008vv</td>\n",
       "      <td>1027736842105</td>\n",
       "    </tr>\n",
       "    <tr>\n",
       "      <th>2</th>\n",
       "      <td>00cwr</td>\n",
       "      <td>2994947368421</td>\n",
       "    </tr>\n",
       "    <tr>\n",
       "      <th>3</th>\n",
       "      <td>00do0</td>\n",
       "      <td>541368421052</td>\n",
       "    </tr>\n",
       "    <tr>\n",
       "      <th>4</th>\n",
       "      <td>00hjy</td>\n",
       "      <td>13313473684211</td>\n",
       "    </tr>\n",
       "  </tbody>\n",
       "</table>\n",
       "</div>"
      ],
      "text/plain": [
       "  auction  auction_duration\n",
       "0   00270    10163000000000\n",
       "1   008vv     1027736842105\n",
       "2   00cwr     2994947368421\n",
       "3   00do0      541368421052\n",
       "4   00hjy    13313473684211"
      ]
     },
     "execution_count": 35,
     "metadata": {},
     "output_type": "execute_result"
    }
   ],
   "source": [
    "temp = last_time-first_time\n",
    "duration_df = temp.reset_index()\n",
    "duration_df.rename({\"time\":\"auction_duration\"}, axis=1, inplace=True)\n",
    "duration_df.head()"
   ]
  },
  {
   "cell_type": "code",
   "execution_count": 36,
   "id": "7d307083",
   "metadata": {},
   "outputs": [
    {
     "data": {
      "text/html": [
       "<div>\n",
       "<style scoped>\n",
       "    .dataframe tbody tr th:only-of-type {\n",
       "        vertical-align: middle;\n",
       "    }\n",
       "\n",
       "    .dataframe tbody tr th {\n",
       "        vertical-align: top;\n",
       "    }\n",
       "\n",
       "    .dataframe thead th {\n",
       "        text-align: right;\n",
       "    }\n",
       "</style>\n",
       "<table border=\"1\" class=\"dataframe\">\n",
       "  <thead>\n",
       "    <tr style=\"text-align: right;\">\n",
       "      <th></th>\n",
       "      <th>bid_id</th>\n",
       "      <th>bidder_id</th>\n",
       "      <th>auction</th>\n",
       "      <th>merchandise</th>\n",
       "      <th>device</th>\n",
       "      <th>time</th>\n",
       "      <th>country</th>\n",
       "      <th>ip</th>\n",
       "      <th>url</th>\n",
       "      <th>no_auction</th>\n",
       "      <th>auction_duration</th>\n",
       "    </tr>\n",
       "  </thead>\n",
       "  <tbody>\n",
       "    <tr>\n",
       "      <th>0</th>\n",
       "      <td>0</td>\n",
       "      <td>8dac2b259fd1c6d1120e519fb1ac14fbqvax8</td>\n",
       "      <td>ewmzr</td>\n",
       "      <td>jewelry</td>\n",
       "      <td>phone0</td>\n",
       "      <td>9759243157894736</td>\n",
       "      <td>us</td>\n",
       "      <td>69.166.231.58</td>\n",
       "      <td>vasstdc27m7nks3</td>\n",
       "      <td>3331</td>\n",
       "      <td>13631052631579</td>\n",
       "    </tr>\n",
       "    <tr>\n",
       "      <th>1</th>\n",
       "      <td>30</td>\n",
       "      <td>708ba5d36271639a9003ace4dc2cc540mugek</td>\n",
       "      <td>ewmzr</td>\n",
       "      <td>mobile</td>\n",
       "      <td>phone27</td>\n",
       "      <td>9759243315789473</td>\n",
       "      <td>us</td>\n",
       "      <td>196.99.84.184</td>\n",
       "      <td>a1qvn2e5zlg48fw</td>\n",
       "      <td>3331</td>\n",
       "      <td>13631052631579</td>\n",
       "    </tr>\n",
       "    <tr>\n",
       "      <th>2</th>\n",
       "      <td>46</td>\n",
       "      <td>6c8ffec692e88d81e1b18d47818abb04v6llr</td>\n",
       "      <td>ewmzr</td>\n",
       "      <td>home goods</td>\n",
       "      <td>phone8</td>\n",
       "      <td>9759243368421052</td>\n",
       "      <td>us</td>\n",
       "      <td>160.9.191.22</td>\n",
       "      <td>lok9xfe6k6rtv8f</td>\n",
       "      <td>3331</td>\n",
       "      <td>13631052631579</td>\n",
       "    </tr>\n",
       "    <tr>\n",
       "      <th>3</th>\n",
       "      <td>67</td>\n",
       "      <td>2419ed502cf6b4cc6feb0a47697a045b4gqiq</td>\n",
       "      <td>ewmzr</td>\n",
       "      <td>mobile</td>\n",
       "      <td>phone55</td>\n",
       "      <td>9759243473684210</td>\n",
       "      <td>us</td>\n",
       "      <td>231.63.201.73</td>\n",
       "      <td>vasstdc27m7nks3</td>\n",
       "      <td>3331</td>\n",
       "      <td>13631052631579</td>\n",
       "    </tr>\n",
       "    <tr>\n",
       "      <th>4</th>\n",
       "      <td>421</td>\n",
       "      <td>8dac2b259fd1c6d1120e519fb1ac14fbqvax8</td>\n",
       "      <td>ewmzr</td>\n",
       "      <td>jewelry</td>\n",
       "      <td>phone0</td>\n",
       "      <td>9759245368421052</td>\n",
       "      <td>us</td>\n",
       "      <td>69.166.231.58</td>\n",
       "      <td>vasstdc27m7nks3</td>\n",
       "      <td>3331</td>\n",
       "      <td>13631052631579</td>\n",
       "    </tr>\n",
       "  </tbody>\n",
       "</table>\n",
       "</div>"
      ],
      "text/plain": [
       "   bid_id                              bidder_id auction merchandise   device  \\\n",
       "0       0  8dac2b259fd1c6d1120e519fb1ac14fbqvax8   ewmzr     jewelry   phone0   \n",
       "1      30  708ba5d36271639a9003ace4dc2cc540mugek   ewmzr      mobile  phone27   \n",
       "2      46  6c8ffec692e88d81e1b18d47818abb04v6llr   ewmzr  home goods   phone8   \n",
       "3      67  2419ed502cf6b4cc6feb0a47697a045b4gqiq   ewmzr      mobile  phone55   \n",
       "4     421  8dac2b259fd1c6d1120e519fb1ac14fbqvax8   ewmzr     jewelry   phone0   \n",
       "\n",
       "               time country             ip              url  no_auction  \\\n",
       "0  9759243157894736      us  69.166.231.58  vasstdc27m7nks3        3331   \n",
       "1  9759243315789473      us  196.99.84.184  a1qvn2e5zlg48fw        3331   \n",
       "2  9759243368421052      us   160.9.191.22  lok9xfe6k6rtv8f        3331   \n",
       "3  9759243473684210      us  231.63.201.73  vasstdc27m7nks3        3331   \n",
       "4  9759245368421052      us  69.166.231.58  vasstdc27m7nks3        3331   \n",
       "\n",
       "   auction_duration  \n",
       "0    13631052631579  \n",
       "1    13631052631579  \n",
       "2    13631052631579  \n",
       "3    13631052631579  \n",
       "4    13631052631579  "
      ]
     },
     "execution_count": 36,
     "metadata": {},
     "output_type": "execute_result"
    }
   ],
   "source": [
    "merged_bids = bids_df.merge(duration_df, how=\"inner\", on=\"auction\")\n",
    "merged_bids.head()"
   ]
  },
  {
   "cell_type": "code",
   "execution_count": 37,
   "id": "898289a9",
   "metadata": {},
   "outputs": [
    {
     "data": {
      "text/html": [
       "<div>\n",
       "<style scoped>\n",
       "    .dataframe tbody tr th:only-of-type {\n",
       "        vertical-align: middle;\n",
       "    }\n",
       "\n",
       "    .dataframe tbody tr th {\n",
       "        vertical-align: top;\n",
       "    }\n",
       "\n",
       "    .dataframe thead th {\n",
       "        text-align: right;\n",
       "    }\n",
       "</style>\n",
       "<table border=\"1\" class=\"dataframe\">\n",
       "  <thead>\n",
       "    <tr style=\"text-align: right;\">\n",
       "      <th></th>\n",
       "      <th>bid_id</th>\n",
       "      <th>bidder_id</th>\n",
       "      <th>auction</th>\n",
       "      <th>merchandise</th>\n",
       "      <th>device</th>\n",
       "      <th>time</th>\n",
       "      <th>country</th>\n",
       "      <th>ip</th>\n",
       "      <th>url</th>\n",
       "      <th>no_auction</th>\n",
       "      <th>auction_duration</th>\n",
       "    </tr>\n",
       "  </thead>\n",
       "  <tbody>\n",
       "    <tr>\n",
       "      <th>2609805</th>\n",
       "      <td>3420583</td>\n",
       "      <td>9655ccc7c0c193f1549475f02c54dce45kjw7</td>\n",
       "      <td>jqx39</td>\n",
       "      <td>sporting goods</td>\n",
       "      <td>phone333</td>\n",
       "      <td>9636819105263157</td>\n",
       "      <td>uk</td>\n",
       "      <td>83.114.47.13</td>\n",
       "      <td>vasstdc27m7nks3</td>\n",
       "      <td>537347</td>\n",
       "      <td>77305157894737</td>\n",
       "    </tr>\n",
       "    <tr>\n",
       "      <th>2709503</th>\n",
       "      <td>4538839</td>\n",
       "      <td>4166f602845d237a960e4e79007cad10xbkdw</td>\n",
       "      <td>jqx39</td>\n",
       "      <td>jewelry</td>\n",
       "      <td>phone35</td>\n",
       "      <td>9641945368421052</td>\n",
       "      <td>in</td>\n",
       "      <td>76.191.91.231</td>\n",
       "      <td>vasstdc27m7nks3</td>\n",
       "      <td>537347</td>\n",
       "      <td>77305157894737</td>\n",
       "    </tr>\n",
       "    <tr>\n",
       "      <th>2709699</th>\n",
       "      <td>4542713</td>\n",
       "      <td>6e178db6d17d21aa88aaca5bf15c2761lc500</td>\n",
       "      <td>jqx39</td>\n",
       "      <td>jewelry</td>\n",
       "      <td>phone38</td>\n",
       "      <td>9641960052631578</td>\n",
       "      <td>in</td>\n",
       "      <td>247.149.77.175</td>\n",
       "      <td>fwourjszelfkc3e</td>\n",
       "      <td>537347</td>\n",
       "      <td>77305157894737</td>\n",
       "    </tr>\n",
       "    <tr>\n",
       "      <th>2709698</th>\n",
       "      <td>4542695</td>\n",
       "      <td>9328bc6389d718c41e33c4cefe7b9c15k1tau</td>\n",
       "      <td>jqx39</td>\n",
       "      <td>home goods</td>\n",
       "      <td>phone412</td>\n",
       "      <td>9641960000000000</td>\n",
       "      <td>in</td>\n",
       "      <td>216.197.201.221</td>\n",
       "      <td>wprdns8lqo3bs6t</td>\n",
       "      <td>537347</td>\n",
       "      <td>77305157894737</td>\n",
       "    </tr>\n",
       "    <tr>\n",
       "      <th>2709697</th>\n",
       "      <td>4542685</td>\n",
       "      <td>9655ccc7c0c193f1549475f02c54dce45kjw7</td>\n",
       "      <td>jqx39</td>\n",
       "      <td>sporting goods</td>\n",
       "      <td>phone119</td>\n",
       "      <td>9641959947368421</td>\n",
       "      <td>at</td>\n",
       "      <td>222.253.32.38</td>\n",
       "      <td>vasstdc27m7nks3</td>\n",
       "      <td>537347</td>\n",
       "      <td>77305157894737</td>\n",
       "    </tr>\n",
       "    <tr>\n",
       "      <th>...</th>\n",
       "      <td>...</td>\n",
       "      <td>...</td>\n",
       "      <td>...</td>\n",
       "      <td>...</td>\n",
       "      <td>...</td>\n",
       "      <td>...</td>\n",
       "      <td>...</td>\n",
       "      <td>...</td>\n",
       "      <td>...</td>\n",
       "      <td>...</td>\n",
       "      <td>...</td>\n",
       "    </tr>\n",
       "    <tr>\n",
       "      <th>2348865</th>\n",
       "      <td>1998950</td>\n",
       "      <td>cffb5f3c1f4ca815d0f643fcb2f2f316beod4</td>\n",
       "      <td>2fp00</td>\n",
       "      <td>jewelry</td>\n",
       "      <td>phone1096</td>\n",
       "      <td>9770693842105263</td>\n",
       "      <td>th</td>\n",
       "      <td>36.8.122.145</td>\n",
       "      <td>fmi4yhz0u2o7l18</td>\n",
       "      <td>1</td>\n",
       "      <td>0</td>\n",
       "    </tr>\n",
       "    <tr>\n",
       "      <th>2348864</th>\n",
       "      <td>1994476</td>\n",
       "      <td>6767cffbe2c0957492aa451560655be3hjd6s</td>\n",
       "      <td>p6hdw</td>\n",
       "      <td>mobile</td>\n",
       "      <td>phone90</td>\n",
       "      <td>9770659315789473</td>\n",
       "      <td>au</td>\n",
       "      <td>1.114.233.191</td>\n",
       "      <td>bn3afx8e85uqwyh</td>\n",
       "      <td>1</td>\n",
       "      <td>0</td>\n",
       "    </tr>\n",
       "    <tr>\n",
       "      <th>2348863</th>\n",
       "      <td>1990091</td>\n",
       "      <td>a6bf74b19fcb2687ce345930c4c16d4e2txda</td>\n",
       "      <td>ht7ap</td>\n",
       "      <td>mobile</td>\n",
       "      <td>phone46</td>\n",
       "      <td>9770623894736842</td>\n",
       "      <td>us</td>\n",
       "      <td>97.100.211.243</td>\n",
       "      <td>2gxeutuls9m8kh2</td>\n",
       "      <td>1</td>\n",
       "      <td>0</td>\n",
       "    </tr>\n",
       "    <tr>\n",
       "      <th>2348862</th>\n",
       "      <td>1989904</td>\n",
       "      <td>8e46e0478d1fda88696becb31ff7978am9gxx</td>\n",
       "      <td>eo5i6</td>\n",
       "      <td>sporting goods</td>\n",
       "      <td>phone1211</td>\n",
       "      <td>9770622210526315</td>\n",
       "      <td>us</td>\n",
       "      <td>130.49.173.102</td>\n",
       "      <td>vasstdc27m7nks3</td>\n",
       "      <td>1</td>\n",
       "      <td>0</td>\n",
       "    </tr>\n",
       "    <tr>\n",
       "      <th>7656333</th>\n",
       "      <td>7648182</td>\n",
       "      <td>84c4b58a1491da3a30710bcdf61f87054xfq6</td>\n",
       "      <td>yyfii</td>\n",
       "      <td>mobile</td>\n",
       "      <td>phone275</td>\n",
       "      <td>9709185631578947</td>\n",
       "      <td>za</td>\n",
       "      <td>32.0.66.255</td>\n",
       "      <td>1nmv4t0fktrscmi</td>\n",
       "      <td>1</td>\n",
       "      <td>0</td>\n",
       "    </tr>\n",
       "  </tbody>\n",
       "</table>\n",
       "<p>7656334 rows × 11 columns</p>\n",
       "</div>"
      ],
      "text/plain": [
       "          bid_id                              bidder_id auction  \\\n",
       "2609805  3420583  9655ccc7c0c193f1549475f02c54dce45kjw7   jqx39   \n",
       "2709503  4538839  4166f602845d237a960e4e79007cad10xbkdw   jqx39   \n",
       "2709699  4542713  6e178db6d17d21aa88aaca5bf15c2761lc500   jqx39   \n",
       "2709698  4542695  9328bc6389d718c41e33c4cefe7b9c15k1tau   jqx39   \n",
       "2709697  4542685  9655ccc7c0c193f1549475f02c54dce45kjw7   jqx39   \n",
       "...          ...                                    ...     ...   \n",
       "2348865  1998950  cffb5f3c1f4ca815d0f643fcb2f2f316beod4   2fp00   \n",
       "2348864  1994476  6767cffbe2c0957492aa451560655be3hjd6s   p6hdw   \n",
       "2348863  1990091  a6bf74b19fcb2687ce345930c4c16d4e2txda   ht7ap   \n",
       "2348862  1989904  8e46e0478d1fda88696becb31ff7978am9gxx   eo5i6   \n",
       "7656333  7648182  84c4b58a1491da3a30710bcdf61f87054xfq6   yyfii   \n",
       "\n",
       "            merchandise     device              time country               ip  \\\n",
       "2609805  sporting goods   phone333  9636819105263157      uk     83.114.47.13   \n",
       "2709503         jewelry    phone35  9641945368421052      in    76.191.91.231   \n",
       "2709699         jewelry    phone38  9641960052631578      in   247.149.77.175   \n",
       "2709698      home goods   phone412  9641960000000000      in  216.197.201.221   \n",
       "2709697  sporting goods   phone119  9641959947368421      at    222.253.32.38   \n",
       "...                 ...        ...               ...     ...              ...   \n",
       "2348865         jewelry  phone1096  9770693842105263      th     36.8.122.145   \n",
       "2348864          mobile    phone90  9770659315789473      au    1.114.233.191   \n",
       "2348863          mobile    phone46  9770623894736842      us   97.100.211.243   \n",
       "2348862  sporting goods  phone1211  9770622210526315      us   130.49.173.102   \n",
       "7656333          mobile   phone275  9709185631578947      za      32.0.66.255   \n",
       "\n",
       "                     url  no_auction  auction_duration  \n",
       "2609805  vasstdc27m7nks3      537347    77305157894737  \n",
       "2709503  vasstdc27m7nks3      537347    77305157894737  \n",
       "2709699  fwourjszelfkc3e      537347    77305157894737  \n",
       "2709698  wprdns8lqo3bs6t      537347    77305157894737  \n",
       "2709697  vasstdc27m7nks3      537347    77305157894737  \n",
       "...                  ...         ...               ...  \n",
       "2348865  fmi4yhz0u2o7l18           1                 0  \n",
       "2348864  bn3afx8e85uqwyh           1                 0  \n",
       "2348863  2gxeutuls9m8kh2           1                 0  \n",
       "2348862  vasstdc27m7nks3           1                 0  \n",
       "7656333  1nmv4t0fktrscmi           1                 0  \n",
       "\n",
       "[7656334 rows x 11 columns]"
      ]
     },
     "execution_count": 37,
     "metadata": {},
     "output_type": "execute_result"
    }
   ],
   "source": [
    "merged_bids.sort_values([\"auction_duration\"], ascending=False)"
   ]
  },
  {
   "cell_type": "code",
   "execution_count": null,
   "id": "d15c1578",
   "metadata": {},
   "outputs": [],
   "source": []
  }
 ],
 "metadata": {
  "kernelspec": {
   "display_name": "mlenv",
   "language": "python",
   "name": "mlenv"
  },
  "language_info": {
   "codemirror_mode": {
    "name": "ipython",
    "version": 3
   },
   "file_extension": ".py",
   "mimetype": "text/x-python",
   "name": "python",
   "nbconvert_exporter": "python",
   "pygments_lexer": "ipython3",
   "version": "3.9.7"
  }
 },
 "nbformat": 4,
 "nbformat_minor": 5
}
