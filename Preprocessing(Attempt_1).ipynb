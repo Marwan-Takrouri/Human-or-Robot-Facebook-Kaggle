{
 "cells": [
  {
   "cell_type": "markdown",
   "id": "8c4b5416",
   "metadata": {},
   "source": [
    "### Goals: Select features, OHE on categorical variables, MinMax Scaler, Standard Scaler"
   ]
  },
  {
   "cell_type": "code",
   "execution_count": 1,
   "id": "c0871fde",
   "metadata": {},
   "outputs": [],
   "source": [
    "import pandas as pd\n",
    "import numpy as np\n",
    "import matplotlib.pyplot as plt\n",
    "import seaborn as sns \n",
    "from sklearn.preprocessing import MinMaxScaler\n",
    "from sklearn.preprocessing import StandardScaler \n",
    "from sklearn.preprocessing import OneHotEncoder"
   ]
  },
  {
   "cell_type": "code",
   "execution_count": 3,
   "id": "3e323ecb",
   "metadata": {},
   "outputs": [
    {
     "data": {
      "text/html": [
       "<div>\n",
       "<style scoped>\n",
       "    .dataframe tbody tr th:only-of-type {\n",
       "        vertical-align: middle;\n",
       "    }\n",
       "\n",
       "    .dataframe tbody tr th {\n",
       "        vertical-align: top;\n",
       "    }\n",
       "\n",
       "    .dataframe thead th {\n",
       "        text-align: right;\n",
       "    }\n",
       "</style>\n",
       "<table border=\"1\" class=\"dataframe\">\n",
       "  <thead>\n",
       "    <tr style=\"text-align: right;\">\n",
       "      <th></th>\n",
       "      <th>bidder_id</th>\n",
       "      <th>payment_account</th>\n",
       "      <th>address</th>\n",
       "      <th>outcome</th>\n",
       "      <th>bid_id</th>\n",
       "      <th>auction</th>\n",
       "      <th>merchandise</th>\n",
       "      <th>device</th>\n",
       "      <th>time</th>\n",
       "      <th>country</th>\n",
       "      <th>ip</th>\n",
       "      <th>url</th>\n",
       "    </tr>\n",
       "  </thead>\n",
       "  <tbody>\n",
       "    <tr>\n",
       "      <th>0</th>\n",
       "      <td>91a3c57b13234af24875c56fb7e2b2f4rb56a</td>\n",
       "      <td>a3d2de7675556553a5f08e4c88d2c228754av</td>\n",
       "      <td>a3d2de7675556553a5f08e4c88d2c228vt0u4</td>\n",
       "      <td>0.0</td>\n",
       "      <td>85371.0</td>\n",
       "      <td>yitr4</td>\n",
       "      <td>home goods</td>\n",
       "      <td>phone35</td>\n",
       "      <td>9.759489e+15</td>\n",
       "      <td>ke</td>\n",
       "      <td>82.34.177.248</td>\n",
       "      <td>vasstdc27m7nks3</td>\n",
       "    </tr>\n",
       "    <tr>\n",
       "      <th>1</th>\n",
       "      <td>91a3c57b13234af24875c56fb7e2b2f4rb56a</td>\n",
       "      <td>a3d2de7675556553a5f08e4c88d2c228754av</td>\n",
       "      <td>a3d2de7675556553a5f08e4c88d2c228vt0u4</td>\n",
       "      <td>0.0</td>\n",
       "      <td>274487.0</td>\n",
       "      <td>btpyy</td>\n",
       "      <td>home goods</td>\n",
       "      <td>phone1004</td>\n",
       "      <td>9.760249e+15</td>\n",
       "      <td>zm</td>\n",
       "      <td>202.130.71.167</td>\n",
       "      <td>vasstdc27m7nks3</td>\n",
       "    </tr>\n",
       "    <tr>\n",
       "      <th>2</th>\n",
       "      <td>91a3c57b13234af24875c56fb7e2b2f4rb56a</td>\n",
       "      <td>a3d2de7675556553a5f08e4c88d2c228754av</td>\n",
       "      <td>a3d2de7675556553a5f08e4c88d2c228vt0u4</td>\n",
       "      <td>0.0</td>\n",
       "      <td>527436.0</td>\n",
       "      <td>kj2ko</td>\n",
       "      <td>home goods</td>\n",
       "      <td>phone4</td>\n",
       "      <td>9.762261e+15</td>\n",
       "      <td>ke</td>\n",
       "      <td>22.54.76.225</td>\n",
       "      <td>vasstdc27m7nks3</td>\n",
       "    </tr>\n",
       "    <tr>\n",
       "      <th>3</th>\n",
       "      <td>91a3c57b13234af24875c56fb7e2b2f4rb56a</td>\n",
       "      <td>a3d2de7675556553a5f08e4c88d2c228754av</td>\n",
       "      <td>a3d2de7675556553a5f08e4c88d2c228vt0u4</td>\n",
       "      <td>0.0</td>\n",
       "      <td>554135.0</td>\n",
       "      <td>1m5t8</td>\n",
       "      <td>home goods</td>\n",
       "      <td>phone4</td>\n",
       "      <td>9.762431e+15</td>\n",
       "      <td>ke</td>\n",
       "      <td>32.13.237.126</td>\n",
       "      <td>vasstdc27m7nks3</td>\n",
       "    </tr>\n",
       "    <tr>\n",
       "      <th>4</th>\n",
       "      <td>91a3c57b13234af24875c56fb7e2b2f4rb56a</td>\n",
       "      <td>a3d2de7675556553a5f08e4c88d2c228754av</td>\n",
       "      <td>a3d2de7675556553a5f08e4c88d2c228vt0u4</td>\n",
       "      <td>0.0</td>\n",
       "      <td>607628.0</td>\n",
       "      <td>btpyy</td>\n",
       "      <td>home goods</td>\n",
       "      <td>phone4</td>\n",
       "      <td>9.762789e+15</td>\n",
       "      <td>ke</td>\n",
       "      <td>202.236.188.240</td>\n",
       "      <td>vasstdc27m7nks3</td>\n",
       "    </tr>\n",
       "  </tbody>\n",
       "</table>\n",
       "</div>"
      ],
      "text/plain": [
       "                               bidder_id  \\\n",
       "0  91a3c57b13234af24875c56fb7e2b2f4rb56a   \n",
       "1  91a3c57b13234af24875c56fb7e2b2f4rb56a   \n",
       "2  91a3c57b13234af24875c56fb7e2b2f4rb56a   \n",
       "3  91a3c57b13234af24875c56fb7e2b2f4rb56a   \n",
       "4  91a3c57b13234af24875c56fb7e2b2f4rb56a   \n",
       "\n",
       "                         payment_account  \\\n",
       "0  a3d2de7675556553a5f08e4c88d2c228754av   \n",
       "1  a3d2de7675556553a5f08e4c88d2c228754av   \n",
       "2  a3d2de7675556553a5f08e4c88d2c228754av   \n",
       "3  a3d2de7675556553a5f08e4c88d2c228754av   \n",
       "4  a3d2de7675556553a5f08e4c88d2c228754av   \n",
       "\n",
       "                                 address  outcome    bid_id auction  \\\n",
       "0  a3d2de7675556553a5f08e4c88d2c228vt0u4      0.0   85371.0   yitr4   \n",
       "1  a3d2de7675556553a5f08e4c88d2c228vt0u4      0.0  274487.0   btpyy   \n",
       "2  a3d2de7675556553a5f08e4c88d2c228vt0u4      0.0  527436.0   kj2ko   \n",
       "3  a3d2de7675556553a5f08e4c88d2c228vt0u4      0.0  554135.0   1m5t8   \n",
       "4  a3d2de7675556553a5f08e4c88d2c228vt0u4      0.0  607628.0   btpyy   \n",
       "\n",
       "  merchandise     device          time country               ip  \\\n",
       "0  home goods    phone35  9.759489e+15      ke    82.34.177.248   \n",
       "1  home goods  phone1004  9.760249e+15      zm   202.130.71.167   \n",
       "2  home goods     phone4  9.762261e+15      ke     22.54.76.225   \n",
       "3  home goods     phone4  9.762431e+15      ke    32.13.237.126   \n",
       "4  home goods     phone4  9.762789e+15      ke  202.236.188.240   \n",
       "\n",
       "               url  \n",
       "0  vasstdc27m7nks3  \n",
       "1  vasstdc27m7nks3  \n",
       "2  vasstdc27m7nks3  \n",
       "3  vasstdc27m7nks3  \n",
       "4  vasstdc27m7nks3  "
      ]
     },
     "execution_count": 3,
     "metadata": {},
     "output_type": "execute_result"
    }
   ],
   "source": [
    "# Import the cleaned dataset\n",
    "df = pd.read_csv(\"cleaned_dataset.csv\")\n",
    "df.head()"
   ]
  },
  {
   "cell_type": "code",
   "execution_count": 5,
   "id": "ae28db07",
   "metadata": {},
   "outputs": [
    {
     "data": {
      "text/plain": [
       "10"
      ]
     },
     "execution_count": 5,
     "metadata": {},
     "output_type": "execute_result"
    }
   ],
   "source": [
    "df[\"merchandise\"].nunique()"
   ]
  },
  {
   "cell_type": "code",
   "execution_count": 6,
   "id": "3e368b4f",
   "metadata": {},
   "outputs": [
    {
     "data": {
      "text/plain": [
       "198"
      ]
     },
     "execution_count": 6,
     "metadata": {},
     "output_type": "execute_result"
    }
   ],
   "source": [
    "df[\"country\"].nunique()"
   ]
  },
  {
   "cell_type": "code",
   "execution_count": 7,
   "id": "82b00cfc",
   "metadata": {},
   "outputs": [
    {
     "data": {
      "text/plain": [
       "1028810"
      ]
     },
     "execution_count": 7,
     "metadata": {},
     "output_type": "execute_result"
    }
   ],
   "source": [
    "df[\"ip\"].nunique()"
   ]
  },
  {
   "cell_type": "code",
   "execution_count": 8,
   "id": "8184f2d4",
   "metadata": {},
   "outputs": [
    {
     "data": {
      "text/plain": [
       "663265"
      ]
     },
     "execution_count": 8,
     "metadata": {},
     "output_type": "execute_result"
    }
   ],
   "source": [
    "df[\"url\"].nunique()"
   ]
  },
  {
   "cell_type": "code",
   "execution_count": 9,
   "id": "90bb587d",
   "metadata": {},
   "outputs": [
    {
     "data": {
      "text/plain": [
       "1983"
      ]
     },
     "execution_count": 9,
     "metadata": {},
     "output_type": "execute_result"
    }
   ],
   "source": [
    "df[\"bidder_id\"].nunique()"
   ]
  },
  {
   "cell_type": "code",
   "execution_count": 10,
   "id": "681525ee",
   "metadata": {},
   "outputs": [
    {
     "data": {
      "text/plain": [
       "1983"
      ]
     },
     "execution_count": 10,
     "metadata": {},
     "output_type": "execute_result"
    }
   ],
   "source": [
    "df[\"payment_account\"].nunique()"
   ]
  },
  {
   "cell_type": "code",
   "execution_count": 11,
   "id": "675ba0d9",
   "metadata": {},
   "outputs": [
    {
     "data": {
      "text/plain": [
       "1983"
      ]
     },
     "execution_count": 11,
     "metadata": {},
     "output_type": "execute_result"
    }
   ],
   "source": [
    "df[\"address\"].nunique()"
   ]
  },
  {
   "cell_type": "code",
   "execution_count": 12,
   "id": "28e6f05b",
   "metadata": {},
   "outputs": [
    {
     "data": {
      "text/plain": [
       "3068523"
      ]
     },
     "execution_count": 12,
     "metadata": {},
     "output_type": "execute_result"
    }
   ],
   "source": [
    "df[\"bid_id\"].nunique()"
   ]
  },
  {
   "cell_type": "code",
   "execution_count": 13,
   "id": "bef7c146",
   "metadata": {},
   "outputs": [
    {
     "data": {
      "text/plain": [
       "12740"
      ]
     },
     "execution_count": 13,
     "metadata": {},
     "output_type": "execute_result"
    }
   ],
   "source": [
    "df[\"auction\"].nunique()"
   ]
  },
  {
   "cell_type": "code",
   "execution_count": 14,
   "id": "182a6ad9",
   "metadata": {},
   "outputs": [
    {
     "data": {
      "text/plain": [
       "5726"
      ]
     },
     "execution_count": 14,
     "metadata": {},
     "output_type": "execute_result"
    }
   ],
   "source": [
    "df[\"device\"].nunique()"
   ]
  },
  {
   "cell_type": "code",
   "execution_count": 15,
   "id": "5074320c",
   "metadata": {},
   "outputs": [
    {
     "data": {
      "text/html": [
       "<div>\n",
       "<style scoped>\n",
       "    .dataframe tbody tr th:only-of-type {\n",
       "        vertical-align: middle;\n",
       "    }\n",
       "\n",
       "    .dataframe tbody tr th {\n",
       "        vertical-align: top;\n",
       "    }\n",
       "\n",
       "    .dataframe thead th {\n",
       "        text-align: right;\n",
       "    }\n",
       "</style>\n",
       "<table border=\"1\" class=\"dataframe\">\n",
       "  <thead>\n",
       "    <tr style=\"text-align: right;\">\n",
       "      <th></th>\n",
       "      <th>auction</th>\n",
       "      <th>bid_id</th>\n",
       "      <th>bidder_id</th>\n",
       "      <th>country</th>\n",
       "      <th>device</th>\n",
       "      <th>ip</th>\n",
       "      <th>merchandise</th>\n",
       "      <th>outcome</th>\n",
       "      <th>time</th>\n",
       "      <th>url</th>\n",
       "    </tr>\n",
       "  </thead>\n",
       "  <tbody>\n",
       "    <tr>\n",
       "      <th>0</th>\n",
       "      <td>yitr4</td>\n",
       "      <td>85371.0</td>\n",
       "      <td>91a3c57b13234af24875c56fb7e2b2f4rb56a</td>\n",
       "      <td>ke</td>\n",
       "      <td>phone35</td>\n",
       "      <td>82.34.177.248</td>\n",
       "      <td>home goods</td>\n",
       "      <td>0.0</td>\n",
       "      <td>9.759489e+15</td>\n",
       "      <td>vasstdc27m7nks3</td>\n",
       "    </tr>\n",
       "    <tr>\n",
       "      <th>1</th>\n",
       "      <td>btpyy</td>\n",
       "      <td>274487.0</td>\n",
       "      <td>91a3c57b13234af24875c56fb7e2b2f4rb56a</td>\n",
       "      <td>zm</td>\n",
       "      <td>phone1004</td>\n",
       "      <td>202.130.71.167</td>\n",
       "      <td>home goods</td>\n",
       "      <td>0.0</td>\n",
       "      <td>9.760249e+15</td>\n",
       "      <td>vasstdc27m7nks3</td>\n",
       "    </tr>\n",
       "    <tr>\n",
       "      <th>2</th>\n",
       "      <td>kj2ko</td>\n",
       "      <td>527436.0</td>\n",
       "      <td>91a3c57b13234af24875c56fb7e2b2f4rb56a</td>\n",
       "      <td>ke</td>\n",
       "      <td>phone4</td>\n",
       "      <td>22.54.76.225</td>\n",
       "      <td>home goods</td>\n",
       "      <td>0.0</td>\n",
       "      <td>9.762261e+15</td>\n",
       "      <td>vasstdc27m7nks3</td>\n",
       "    </tr>\n",
       "    <tr>\n",
       "      <th>3</th>\n",
       "      <td>1m5t8</td>\n",
       "      <td>554135.0</td>\n",
       "      <td>91a3c57b13234af24875c56fb7e2b2f4rb56a</td>\n",
       "      <td>ke</td>\n",
       "      <td>phone4</td>\n",
       "      <td>32.13.237.126</td>\n",
       "      <td>home goods</td>\n",
       "      <td>0.0</td>\n",
       "      <td>9.762431e+15</td>\n",
       "      <td>vasstdc27m7nks3</td>\n",
       "    </tr>\n",
       "    <tr>\n",
       "      <th>4</th>\n",
       "      <td>btpyy</td>\n",
       "      <td>607628.0</td>\n",
       "      <td>91a3c57b13234af24875c56fb7e2b2f4rb56a</td>\n",
       "      <td>ke</td>\n",
       "      <td>phone4</td>\n",
       "      <td>202.236.188.240</td>\n",
       "      <td>home goods</td>\n",
       "      <td>0.0</td>\n",
       "      <td>9.762789e+15</td>\n",
       "      <td>vasstdc27m7nks3</td>\n",
       "    </tr>\n",
       "  </tbody>\n",
       "</table>\n",
       "</div>"
      ],
      "text/plain": [
       "  auction    bid_id                              bidder_id country     device  \\\n",
       "0   yitr4   85371.0  91a3c57b13234af24875c56fb7e2b2f4rb56a      ke    phone35   \n",
       "1   btpyy  274487.0  91a3c57b13234af24875c56fb7e2b2f4rb56a      zm  phone1004   \n",
       "2   kj2ko  527436.0  91a3c57b13234af24875c56fb7e2b2f4rb56a      ke     phone4   \n",
       "3   1m5t8  554135.0  91a3c57b13234af24875c56fb7e2b2f4rb56a      ke     phone4   \n",
       "4   btpyy  607628.0  91a3c57b13234af24875c56fb7e2b2f4rb56a      ke     phone4   \n",
       "\n",
       "                ip merchandise  outcome          time              url  \n",
       "0    82.34.177.248  home goods      0.0  9.759489e+15  vasstdc27m7nks3  \n",
       "1   202.130.71.167  home goods      0.0  9.760249e+15  vasstdc27m7nks3  \n",
       "2     22.54.76.225  home goods      0.0  9.762261e+15  vasstdc27m7nks3  \n",
       "3    32.13.237.126  home goods      0.0  9.762431e+15  vasstdc27m7nks3  \n",
       "4  202.236.188.240  home goods      0.0  9.762789e+15  vasstdc27m7nks3  "
      ]
     },
     "execution_count": 15,
     "metadata": {},
     "output_type": "execute_result"
    }
   ],
   "source": [
    "# payment_account and address values are all unique for each bidder_id ..... not helpful for this analysis \n",
    "# will drop those columns \n",
    "# https://stackoverflow.com/questions/14940743/selecting-excluding-sets-of-columns-in-pandas\n",
    "df = df[df.columns.difference([\"payment_account\", \"address\"])]\n",
    "df.head()"
   ]
  },
  {
   "cell_type": "code",
   "execution_count": 19,
   "id": "f41a60cd",
   "metadata": {},
   "outputs": [
    {
     "data": {
      "text/plain": [
       "jqx39    216675\n",
       "jefix     41162\n",
       "opnq4     35183\n",
       "r9bkk     35009\n",
       "uvnl7     26561\n",
       "          ...  \n",
       "u60if         1\n",
       "2ndn1         1\n",
       "jxh0l         1\n",
       "ioz85         1\n",
       "76l7h         1\n",
       "Name: auction, Length: 12740, dtype: int64"
      ]
     },
     "execution_count": 19,
     "metadata": {},
     "output_type": "execute_result"
    }
   ],
   "source": [
    "# Look at url value counts for binning\n",
    "auction_counts = df[\"auction\"].value_counts()\n",
    "auction_counts"
   ]
  },
  {
   "cell_type": "code",
   "execution_count": 20,
   "id": "364322ac",
   "metadata": {},
   "outputs": [
    {
     "data": {
      "text/plain": [
       "<AxesSubplot:ylabel='Density'>"
      ]
     },
     "execution_count": 20,
     "metadata": {},
     "output_type": "execute_result"
    },
    {
     "data": {
      "image/png": "[encoded data removed]",
      "text/plain": [
       "<Figure size 432x288 with 1 Axes>"
      ]
     },
     "metadata": {
      "needs_background": "light"
     },
     "output_type": "display_data"
    }
   ],
   "source": [
    "# Visualize the value counts of url\n",
    "auction_counts.plot.density()"
   ]
  },
  {
   "cell_type": "code",
   "execution_count": 22,
   "id": "64e657b5",
   "metadata": {},
   "outputs": [
    {
     "data": {
      "text/plain": [
       "<AxesSubplot:ylabel='Density'>"
      ]
     },
     "execution_count": 22,
     "metadata": {},
     "output_type": "execute_result"
    },
    {
     "data": {
      "image/png": "[encoded data removed]",
      "text/plain": [
       "<Figure size 432x288 with 1 Axes>"
      ]
     },
     "metadata": {
      "needs_background": "light"
     },
     "output_type": "display_data"
    }
   ],
   "source": [
    "# Look at url value counts for binning\n",
    "device_counts = df[\"device\"].value_counts()\n",
    "# Visualize the value counts of url\n",
    "device_counts.plot.density()"
   ]
  },
  {
   "cell_type": "code",
   "execution_count": 23,
   "id": "71e91353",
   "metadata": {},
   "outputs": [
    {
     "data": {
      "text/plain": [
       "<AxesSubplot:ylabel='Density'>"
      ]
     },
     "execution_count": 23,
     "metadata": {},
     "output_type": "execute_result"
    },
    {
     "data": {
      "image/png": "[encoded data removed]",
      "text/plain": [
       "<Figure size 432x288 with 1 Axes>"
      ]
     },
     "metadata": {
      "needs_background": "light"
     },
     "output_type": "display_data"
    }
   ],
   "source": [
    "# Look at url value counts for binning\n",
    "ip_counts = df[\"ip\"].value_counts()\n",
    "# Visualize the value counts of url\n",
    "ip_counts.plot.density()"
   ]
  },
  {
   "cell_type": "code",
   "execution_count": 30,
   "id": "7a3567a5",
   "metadata": {
    "scrolled": true
   },
   "outputs": [
    {
     "data": {
      "text/plain": [
       "auction         object\n",
       "bid_id         float64\n",
       "bidder_id       object\n",
       "country         object\n",
       "device          object\n",
       "ip              object\n",
       "merchandise     object\n",
       "outcome        float64\n",
       "time           float64\n",
       "url             object\n",
       "dtype: object"
      ]
     },
     "execution_count": 30,
     "metadata": {},
     "output_type": "execute_result"
    }
   ],
   "source": [
    "df.dtypes"
   ]
  },
  {
   "cell_type": "code",
   "execution_count": null,
   "id": "ff81248f",
   "metadata": {},
   "outputs": [],
   "source": []
  }
 ],
 "metadata": {
  "kernelspec": {
   "display_name": "mlenv",
   "language": "python",
   "name": "mlenv"
  },
  "language_info": {
   "codemirror_mode": {
    "name": "ipython",
    "version": 3
   },
   "file_extension": ".py",
   "mimetype": "text/x-python",
   "name": "python",
   "nbconvert_exporter": "python",
   "pygments_lexer": "ipython3",
   "version": "3.9.7"
  }
 },
 "nbformat": 4,
 "nbformat_minor": 5
}
