{
 "cells": [
  {
   "cell_type": "code",
   "execution_count": 1,
   "id": "26cfee0b",
   "metadata": {},
   "outputs": [],
   "source": [
    "import sqlalchemy\n",
    "import psycopg2\n",
    "from sqlalchemy import create_engine\n",
    "import pandas as pd\n",
    "from config import db_user, db_pass, db_host, db_name"
   ]
  },
  {
   "cell_type": "code",
   "execution_count": 2,
   "id": "6a858aa1",
   "metadata": {},
   "outputs": [],
   "source": [
    "# This is set up to use a postgres database! You can also use MySQL, Oracle, etc. \n",
    "# Just check the SQLAlchemy documentation\n",
    "engine = create_engine(f\"postgresql://{db_user}:{db_pass}@{db_host}:5432/{db_name}\")\n",
    "train_df = pd.read_csv(\"train.csv\")\n",
    "test_df = pd.read_csv(\"train.csv\")\n",
    "bids_df = pd.read_csv(\"bids.csv\")"
   ]
  },
  {
   "cell_type": "code",
   "execution_count": 3,
   "id": "ece52a9e",
   "metadata": {},
   "outputs": [
    {
     "data": {
      "text/plain": [
       "334"
      ]
     },
     "execution_count": 3,
     "metadata": {},
     "output_type": "execute_result"
    }
   ],
   "source": [
    "train_df.to_sql(name=\"train_table\",con=engine)\n",
    "test_df.to_sql(name=\"test_table\",con=engine)\n",
    "bids_df.to_sql(name=\"bids_table\",con=engine)"
   ]
  },
  {
   "cell_type": "code",
   "execution_count": null,
   "id": "1a673304",
   "metadata": {},
   "outputs": [],
   "source": []
  }
 ],
 "metadata": {
  "kernelspec": {
   "display_name": "PythonData",
   "language": "python",
   "name": "pythondata"
  },
  "language_info": {
   "codemirror_mode": {
    "name": "ipython",
    "version": 3
   },
   "file_extension": ".py",
   "mimetype": "text/x-python",
   "name": "python",
   "nbconvert_exporter": "python",
   "pygments_lexer": "ipython3",
   "version": "3.9.7"
  }
 },
 "nbformat": 4,
 "nbformat_minor": 5
}
